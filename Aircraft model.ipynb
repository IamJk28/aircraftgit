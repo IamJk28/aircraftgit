{
 "cells": [
  {
   "cell_type": "markdown",
   "id": "103e4425-d617-48d5-a6ca-d63b724ba030",
   "metadata": {},
   "source": [
    "# Aircraft Object Detection Notebook"
   ]
  },
  {
   "cell_type": "markdown",
   "id": "eaadd4ed-5988-4b17-b691-16ae73c2afce",
   "metadata": {},
   "source": [
    "### Import Dependencies"
   ]
  },
  {
   "cell_type": "code",
   "execution_count": null,
   "id": "978ba14a-9c10-4dc0-a613-146202661549",
   "metadata": {},
   "outputs": [],
   "source": [
    "\n",
    "import os\n",
    "import wget\n",
    "import object_detection\n",
    "import tensorflow as tf\n",
    "from object_detection.utils import config_util\n",
    "from object_detection.protos import pipeline_pb2\n",
    "from google.protobuf import text_format"
   ]
  },
  {
   "cell_type": "code",
   "execution_count": null,
   "id": "b4d2f1ff-cd4f-4b0b-b0ed-e14cfd61cba2",
   "metadata": {},
   "outputs": [],
   "source": []
  },
  {
   "cell_type": "markdown",
   "id": "0b8dfe77-3c18-48ce-8927-e4767946c78b",
   "metadata": {},
   "source": [
    "### 1. Files"
   ]
  },
  {
   "cell_type": "code",
   "execution_count": 7,
   "id": "cd218cd6-80c8-4358-b14c-bb56f0d42c20",
   "metadata": {},
   "outputs": [],
   "source": [
    "#configure these based on model choice (Tensorflow 2 object detection zoo)\n",
    "CUSTOM_MODEL_NAME = 'my_ssd_mobnet' \n",
    "PRETRAINED_MODEL_NAME = 'ssd_mobilenet_v2_fpnlite_320x320_coco17_tpu-8'\n",
    "PRETRAINED_MODEL_URL = 'http://download.tensorflow.org/models/object_detection/tf2/20200711/ssd_mobilenet_v2_fpnlite_320x320_coco17_tpu-8.tar.gz'\n"
   ]
  },
  {
   "cell_type": "code",
   "execution_count": null,
   "id": "556035f8-e38d-4ec8-9873-31f5172f9149",
   "metadata": {},
   "outputs": [],
   "source": [
    "TF_RECORD_SCRIPT_NAME = 'generate_tfrecord.py'\n",
    "LABEL_MAP_NAME = 'label_map.pbtxt"
   ]
  },
  {
   "cell_type": "markdown",
   "id": "78913298-fe17-4706-90c2-82fdb0ddeebc",
   "metadata": {},
   "source": [
    "### 2. Setup Folders and Files\n"
   ]
  },
  {
   "cell_type": "code",
   "execution_count": 10,
   "id": "9290c294-69df-4b4b-bf96-e05611146de8",
   "metadata": {},
   "outputs": [],
   "source": [
    "filepaths = {\n",
    "    'COLLECTIMAGE': os.path.join('Tensorflow','workspace','images','collectedimages'),\n",
    "    'IMAGE_PATH': os.path.join('Tensorflow','workspace','images'),\n",
    "    'TRAIN_PATH': os.path.join('Tensorflow','workspace','images','train'),\n",
    "    'TEST_PATH': os.path.join('Tensorflow','workspace','images','train'),\n",
    "    'SCRIPTS': os.path.join('Tensorflow','scripts'),\n",
    "    'FROMAPIMODEL': os.path.join('Tensorflow','models'),\n",
    "    'OURMODEL': os.path.join('Tensorflow','workspace','models'),\n",
    "    'PRETRAINMODEL': os.path.join('Tensorflow','workspace','pre-trained-models'),\n",
    "    'TFJS_PATH': os.path.join('Tensorflow', 'workspace','models',CUSTOM_MODEL_NAME, 'tfjsexport'), \n",
    "    'TFLITE_PATH': os.path.join('Tensorflow', 'workspace','models',CUSTOM_MODEL_NAME, 'tfliteexport'), \n",
    "    'PROTOC_PATH': os.path.join('Tensorflow','protoc'),\n",
    "    'ANNOTATION': os.path.join('Tensorflow','workspace','annotations'),\n",
    "    'OUTPUT_PATH': os.path.join('Tensorflow', 'workspace','models',CUSTOM_MODEL_NAME, 'export'),\n",
    "    'CHECKPOINT_PATH': os.path.join('Tensorflow','workspace','models',CUSTOM_MODEL_NAME)\n",
    "}\n",
    "    \n",
    "files = {\n",
    "    'PIPELINE_CONFIG':os.path.join('Tensorflow', 'workspace','models', CUSTOM_MODEL_NAME, 'pipeline.config'),\n",
    "    'TF_RECORD_SCRIPT': os.path.join(filepaths['SCRIPTS'], TF_RECORD_SCRIPT_NAME), \n",
    "    'LABELMAP': os.path.join(filepaths['ANNOTATION'], LABEL_MAP_NAME)\n",
    "}\n"
   ]
  },
  {
   "cell_type": "code",
   "execution_count": null,
   "id": "5c5fddae-0848-4edb-a602-75342d3ece73",
   "metadata": {},
   "outputs": [],
   "source": []
  },
  {
   "cell_type": "code",
   "execution_count": 11,
   "id": "cc87a419-136a-4be2-81fb-e69280223ebb",
   "metadata": {},
   "outputs": [],
   "source": [
    "for path in filepaths.values():\n",
    "    if not os.path.exists(path):\n",
    "        !mkdir {path}"
   ]
  },
  {
   "cell_type": "code",
   "execution_count": null,
   "id": "fe59318e-e926-44b2-9654-8c059fcd8064",
   "metadata": {},
   "outputs": [],
   "source": []
  },
  {
   "cell_type": "code",
   "execution_count": null,
   "id": "6ad14db2-e017-4550-a561-4df2152e7e0d",
   "metadata": {},
   "outputs": [],
   "source": [
    "#Populate label_map.pbtxt with labels \n",
    "\n",
    "labels = [{'name':'', 'id':1}, {'name':'', 'id':2}]\n",
    "\n",
    "with open(files['LABELMAP'], 'w') as f:\n",
    "    for label in labels:\n",
    "        f.write('item { \\n')\n",
    "        f.write('\\tname:\\'{}\\'\\n'.format(label['name']))\n",
    "        f.write('\\tid:{}\\n'.format(label['id']))\n",
    "        f.write('}\\n')"
   ]
  },
  {
   "cell_type": "code",
   "execution_count": null,
   "id": "776da2ca-66a3-4f8c-ac75-e9e8dba4b9ea",
   "metadata": {},
   "outputs": [],
   "source": [
    "url=\"https://github.com/protocolbuffers/protobuf/releases/download/v3.15.6/protoc-3.15.6-win64.zip\"\n",
    "wget.download(url)\n",
    "!move protoc-3.15.6-win64.zip {filepaths['PROTOC_PATH']}\n",
    "!cd {filepaths['PROTOC_PATH']} && tar -xf protoc-3.15.6-win64.zip\n",
    "os.environ['PATH'] += os.pathsep + os.path.abspath(os.path.join(filepaths['PROTOC_PATH'], 'bin'))   \n",
    "!cd Tensorflow/models/research && protoc object_detection/protos/*.proto --python_out=. && copy object_detection\\\\packages\\\\tf2\\\\setup.py setup.py && python setup.py build && python setup.py install\n",
    "!cd Tensorflow/models/research/slim && pip install -e . "
   ]
  },
  {
   "cell_type": "code",
   "execution_count": null,
   "id": "5a1baec5-a8c2-4634-976f-a9582bdee2e0",
   "metadata": {},
   "outputs": [],
   "source": [
    "if not os.path.exists(os.path.join(filepaths['FROMAPIMODEL'], 'research', 'object_detection')):\n",
    "    !git clone https://github.com/tensorflow/models {filepaths['FROMAPIMODEL']}"
   ]
  },
  {
   "cell_type": "code",
   "execution_count": null,
   "id": "c907e3a6-41ec-4b5f-82e0-24273a92592e",
   "metadata": {},
   "outputs": [],
   "source": [
    "VERIFICATION_SCRIPT = os.path.join(filepaths['FROMAPIMODEL'], 'research', 'object_detection', 'builders', 'model_builder_tf2_test.py')\n",
    "# Verify Installation\n",
    "!python {VERIFICATION_SCRIPT}"
   ]
  },
  {
   "cell_type": "markdown",
   "id": "ce89be8d-467b-48e4-9aae-c30201ad0692",
   "metadata": {},
   "source": [
    "### 3. Move SoTA model from API into right path"
   ]
  },
  {
   "cell_type": "code",
   "execution_count": null,
   "id": "17c8e011-b781-4106-9f56-ffeff6466e78",
   "metadata": {},
   "outputs": [],
   "source": []
  },
  {
   "cell_type": "code",
   "execution_count": null,
   "id": "79988ab9-3877-4444-bee0-72cee2297f83",
   "metadata": {},
   "outputs": [],
   "source": [
    "wget.download(PRETRAINED_MODEL_URL)\n",
    "!move {PRETRAINED_MODEL_NAME+'.tar.gz'} {filepaths['PRETRAINMODEL']}\n",
    "!cd {filepaths['PRETRAINMODEL']} && tar -zxvf {PRETRAINED_MODEL_NAME+'.tar.gz'}"
   ]
  },
  {
   "cell_type": "code",
   "execution_count": null,
   "id": "82f66082-0b1c-4d4c-932c-791660c49048",
   "metadata": {},
   "outputs": [],
   "source": []
  },
  {
   "cell_type": "markdown",
   "id": "6f614c23-a561-4b4c-ae20-b7e76be3fb62",
   "metadata": {},
   "source": [
    "### 4. Convert xml files (labels) to TF records"
   ]
  },
  {
   "cell_type": "code",
   "execution_count": null,
   "id": "b80120bf-f144-4303-aea8-b1626a911fe7",
   "metadata": {},
   "outputs": [],
   "source": [
    "if not os.path.exists(files['TF_RECORD_SCRIPT']):\n",
    "    !git clone https://github.com/nicknochnack/GenerateTFRecord {paths['SCRIPTS_PATH']}"
   ]
  },
  {
   "cell_type": "code",
   "execution_count": null,
   "id": "bb22a2d7-55bc-4e0f-a20c-e7a9730a64fd",
   "metadata": {},
   "outputs": [],
   "source": [
    "!python {files['TF_RECORD_SCRIPT']} -x {os.path.join(filepaths['TRAIN_PATH'])} -l {files['LABELMAP']} -o {os.path.join(filepaths['ANNOTATION'], 'train.record')} \n",
    "!python {files['TF_RECORD_SCRIPT']} -x {os.path.join(filepaths['TEST_PATH'])} -l {files['LABELMAP']} -o {os.path.join(filepaths['ANNOTATION'], 'test.record')} "
   ]
  },
  {
   "cell_type": "markdown",
   "id": "64ccf6b6-b917-46a2-8563-6e6f077e0666",
   "metadata": {},
   "source": [
    "### 5. Moving Model Config file"
   ]
  },
  {
   "cell_type": "code",
   "execution_count": null,
   "id": "e07d1136-843c-4b35-81ff-5b7cb67cf39c",
   "metadata": {},
   "outputs": [],
   "source": [
    "#move config file from the standard pretrained model ('template') file to the file for our specific version of the model\n",
    "!copy {os.path.join(filepaths['PRETRAINMODEL'], PRETRAINED_MODEL_NAME, 'pipeline.config')} {os.path.join(filepaths['CHECKPOINT_PATH'])}"
   ]
  },
  {
   "cell_type": "markdown",
   "id": "8b655368-fcc9-4bcd-a417-f56bb0005af8",
   "metadata": {},
   "source": [
    "### 6. Updating configuration - Transfer Learning"
   ]
  },
  {
   "cell_type": "code",
   "execution_count": null,
   "id": "027131ec-f8a4-4dc3-86f7-dfdf26c38d9c",
   "metadata": {},
   "outputs": [],
   "source": []
  },
  {
   "cell_type": "code",
   "execution_count": null,
   "id": "c09ae58d-2ba4-4b84-a503-442bb9d13788",
   "metadata": {},
   "outputs": [],
   "source": [
    "#modify configuration\n",
    "config = config_util.get_configs_from_pipeline_file(files['PIPELINE_CONFIG'])"
   ]
  },
  {
   "cell_type": "code",
   "execution_count": null,
   "id": "ae34a7ce-c5fc-49d7-86ea-7df2ae51e351",
   "metadata": {},
   "outputs": [],
   "source": [
    "pipeline_config = pipeline_pb2.TrainEvalPipelineConfig()\n",
    "with tf.io.gfile.GFile(files['PIPELINE_CONFIG'], \"r\") as f:                                                                                                                                                                                                                     \n",
    "    proto_str = f.read()                                                                                                                                                                                                                                          \n",
    "    text_format.Merge(proto_str, pipeline_config)  "
   ]
  },
  {
   "cell_type": "code",
   "execution_count": null,
   "id": "876a5352-068d-4296-bf20-05789a8bfe87",
   "metadata": {},
   "outputs": [],
   "source": [
    "pipeline_config.model.ssd.num_classes = len(labels)\n",
    "pipeline_config.train_config.batch_size = 4\n",
    "pipeline_config.train_config.fine_tune_checkpoint = os.path.join(filepaths['PRETRAINMODEL'], PRETRAINED_MODEL_NAME, 'checkpoint', 'ckpt-0')\n",
    "pipeline_config.train_config.fine_tune_checkpoint_type = \"detection\"\n",
    "pipeline_config.train_input_reader.label_map_path= files['LABELMAP']\n",
    "pipeline_config.train_input_reader.tf_record_input_reader.input_path[:] = [os.path.join(filepaths['ANNOTATION'], 'train.record')]\n",
    "pipeline_config.eval_input_reader[0].label_map_path = files['LABELMAP']\n",
    "pipeline_config.eval_input_reader[0].tf_record_input_reader.input_path[:] = [os.path.join(filepaths['ANNOTATION'], 'test.record')]"
   ]
  },
  {
   "cell_type": "code",
   "execution_count": null,
   "id": "3a543381-2740-4712-920c-ef802426ec79",
   "metadata": {},
   "outputs": [],
   "source": [
    "pipeline_config.model.ssd.num_classes = len(labels)\n",
    "pipeline_config.train_config.batch_size = 4\n",
    "pipeline_config.train_config.fine_tune_checkpoint = os.path.join(filepaths['PRETRAINMODEL'], PRETRAINED_MODEL_NAME, 'checkpoint', 'ckpt-0')\n",
    "pipeline_config.train_config.fine_tune_checkpoint_type = \"detection\"\n",
    "pipeline_config.train_input_reader.label_map_path= files['LABELMAP']\n",
    "pipeline_config.train_input_reader.tf_record_input_reader.input_path[:] = [os.path.join(filepaths['ANNOTATION'], 'train.record')]\n",
    "pipeline_config.eval_input_reader[0].label_map_path = files['LABELMAP']\n",
    "pipeline_config.eval_input_reader[0].tf_record_input_reader.input_path[:] = [os.path.join(filepaths['ANNOTATION'], 'test.record')]"
   ]
  },
  {
   "cell_type": "code",
   "execution_count": 3,
   "id": "b5448d8a-dead-4b54-8643-dec4e0bc2996",
   "metadata": {},
   "outputs": [],
   "source": [
    "# Adjust these params (generalise)\n",
    "# Aircraft Non-Aircraft"
   ]
  },
  {
   "cell_type": "markdown",
   "id": "9fceb84d-5a81-4a6b-be6d-4f9ba9e332f2",
   "metadata": {},
   "source": [
    "### 6. Training of Model"
   ]
  },
  {
   "cell_type": "code",
   "execution_count": null,
   "id": "60f25c1f-fc76-47d4-a65f-7039aed540bc",
   "metadata": {},
   "outputs": [],
   "source": [
    "TRAINING_SCRIPT = os.path.join(filepaths['APIMODEL_PATH'], 'research', 'object_detection', 'model_main_tf2.py')"
   ]
  },
  {
   "cell_type": "code",
   "execution_count": null,
   "id": "5dd5b4e4-5946-4a84-a1ea-456d85fc3016",
   "metadata": {},
   "outputs": [],
   "source": [
    "command = \"python {} --model_dir={} --pipeline_config_path={} --num_train_steps=2000\".format(TRAINING_SCRIPT, filepaths['CHECKPOINT_PATH'],files['PIPELINE_CONFIG'])"
   ]
  },
  {
   "cell_type": "code",
   "execution_count": null,
   "id": "800440ef-60d1-467e-a194-f39b9c4b2396",
   "metadata": {},
   "outputs": [],
   "source": [
    "# run command in cmd to track properly (copy paste)\n",
    "print(command)"
   ]
  },
  {
   "cell_type": "markdown",
   "id": "3f728cae-4ba3-4cbd-abb5-bcc3e8413389",
   "metadata": {},
   "source": [
    "### 7. Evaluate the Model"
   ]
  },
  {
   "cell_type": "code",
   "execution_count": null,
   "id": "21d84092-209d-4853-9760-c0dce8951ebb",
   "metadata": {},
   "outputs": [],
   "source": [
    "command_eval = \"python {} --model_dir={} --pipeline_config_path={} --checkpoint_dir={}\".format(TRAINING_SCRIPT, filepaths['CHECKPOINT_PATH'],files['PIPELINE_CONFIG'], filepaths['CHECKPOINT_PATH'])"
   ]
  },
  {
   "cell_type": "code",
   "execution_count": null,
   "id": "e07c5e44-007e-4c87-b7f5-130ad483e736",
   "metadata": {},
   "outputs": [],
   "source": [
    "#run command in cmd to track properly (copy paste)\n",
    "print(command_eval)"
   ]
  }
 ],
 "metadata": {
  "kernelspec": {
   "display_name": "tfod",
   "language": "python",
   "name": "tfod"
  },
  "language_info": {
   "codemirror_mode": {
    "name": "ipython",
    "version": 3
   },
   "file_extension": ".py",
   "mimetype": "text/x-python",
   "name": "python",
   "nbconvert_exporter": "python",
   "pygments_lexer": "ipython3",
   "version": "3.10.9"
  }
 },
 "nbformat": 4,
 "nbformat_minor": 5
}
