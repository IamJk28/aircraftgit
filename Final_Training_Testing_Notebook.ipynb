{
  "cells": [
    {
      "cell_type": "markdown",
      "metadata": {
        "id": "view-in-github",
        "colab_type": "text"
      },
      "source": [
        "<a href=\"https://colab.research.google.com/github/IamJk28/aircraftgit/blob/main/Final_Training_Testing_Notebook.ipynb\" target=\"_parent\"><img src=\"https://colab.research.google.com/assets/colab-badge.svg\" alt=\"Open In Colab\"/></a>"
      ]
    },
    {
      "cell_type": "markdown",
      "metadata": {
        "id": "QUANWN3rpfC9"
      },
      "source": [
        "# 0. Setup Paths"
      ]
    },
    {
      "cell_type": "code",
      "execution_count": null,
      "metadata": {
        "id": "146BB11JpfDA"
      },
      "outputs": [],
      "source": [
        "import os"
      ]
    },
    {
      "cell_type": "code",
      "source": [
        "# this cell allows the google colab session to access your drive contents where we have uploaded images and Annotations\n",
        "from google.colab import drive\n",
        "drive.mount('/content/drive')"
      ],
      "metadata": {
        "id": "2_ZAKo0jn1kh",
        "colab": {
          "base_uri": "https://localhost:8080/"
        },
        "outputId": "44b5f2b1-acd5-42f3-d177-dda4af2e47f1"
      },
      "execution_count": null,
      "outputs": [
        {
          "output_type": "stream",
          "name": "stdout",
          "text": [
            "Mounted at /content/drive\n"
          ]
        }
      ]
    },
    {
      "cell_type": "code",
      "execution_count": null,
      "metadata": {
        "id": "42hJEdo_pfDB"
      },
      "outputs": [],
      "source": [
        "# Adjust var names appropriately - using the TF2 Object detection zoo @ https://github.com/tensorflow/models/blob/master/research/object_detection/g3doc/tf2_detection_zoo.md\n",
        "# trying: faster_rcnn_inception_resnet_v2_640x640_coco17_tpu-8\n",
        "\n",
        "CUSTOM_MODEL_NAME = 'Inception_ResNet50'\n",
        "PRETRAINED_MODEL_NAME = 'faster_rcnn_inception_resnet_v2_640x640_coco17_tpu-8'#Change this for different model\n",
        "PRETRAINED_MODEL_URL = 'http://download.tensorflow.org/models/object_detection/tf2/20200711/faster_rcnn_inception_resnet_v2_640x640_coco17_tpu-8.tar.gz'#Change for different model\n",
        "\n",
        "TF_RECORD_SCRIPT_NAME = 'generate_tfrecord.py'\n",
        "LABEL_MAP_NAME = 'label_map.pbtxt'"
      ]
    },
    {
      "cell_type": "code",
      "execution_count": null,
      "metadata": {
        "id": "hbPhYVy_pfDB"
      },
      "outputs": [],
      "source": [
        "folderpaths = {\n",
        "    'WORKSPACE_PATH': os.path.join('Tensorflow', 'workspace'),\n",
        "    'SCRIPTS_PATH': os.path.join('Tensorflow','scripts'),\n",
        "    'APIMODEL_PATH': os.path.join('Tensorflow','models'),\n",
        "    'ANNOTATION_PATH': os.path.join('Tensorflow', 'workspace','annotations'),\n",
        "    'IMAGE_PATH': os.path.join('Tensorflow', 'workspace','images'),\n",
        "    'MODEL_PATH': os.path.join('Tensorflow', 'workspace','models'),\n",
        "    'PRETRAINED_MODEL_PATH': os.path.join('Tensorflow', 'workspace','pre-trained-models'),\n",
        "    'CHECKPOINT_PATH': os.path.join('Tensorflow', 'workspace','models',CUSTOM_MODEL_NAME),\n",
        "    'PROTOC_PATH':os.path.join('Tensorflow','protoc'),\n",
        "    'TRAIN_PATH':os.path.join('Tensorflow','workspace','images','train'),\n",
        "    'TEST_PATH':os.path.join('Tensorflow','workspace','images','test'),\n",
        "    'COLLECT_PATH':os.path.join('Tensorflow','workspace','images','collectedimages')\n",
        " }"
      ]
    },
    {
      "cell_type": "code",
      "execution_count": null,
      "metadata": {
        "id": "LwhWZMI0pfDC"
      },
      "outputs": [],
      "source": [
        "files = {\n",
        "    'PIPELINE_CONFIG':os.path.join('Tensorflow', 'workspace','models', CUSTOM_MODEL_NAME, 'pipeline.config'),\n",
        "    'TF_RECORD_SCRIPT': os.path.join(folderpaths['SCRIPTS_PATH'], TF_RECORD_SCRIPT_NAME),\n",
        "    'LABELMAP': os.path.join(folderpaths['ANNOTATION_PATH'], LABEL_MAP_NAME)\n",
        "}"
      ]
    },
    {
      "cell_type": "code",
      "execution_count": null,
      "metadata": {
        "id": "HR-TfDGrpfDC"
      },
      "outputs": [],
      "source": [
        "for path in folderpaths.values():\n",
        "    if not os.path.exists(path):\n",
        "      !mkdir -p {path}\n"
      ]
    },
    {
      "cell_type": "markdown",
      "source": [
        "#1. Untar Image and label Archive and move image and label folders to correct location"
      ],
      "metadata": {
        "id": "BbiJlptaaKYF"
      }
    },
    {
      "cell_type": "code",
      "source": [
        "#replace source_folder0 with link to tar.gz file of images and label folders\n",
        "\n",
        "import shutil\n",
        "\n",
        "source_folder0 = \"drive/MyDrive/aircraftimage/final_dataset.tar.gz\"\n",
        "destination_folder0 = \"Tensorflow/workspace/images\"\n",
        "\n",
        "if os.path.exists(source_folder0):\n",
        "   shutil.copy(source_folder0, destination_folder0)"
      ],
      "metadata": {
        "id": "XRTRKIYxHbNc"
      },
      "execution_count": null,
      "outputs": []
    },
    {
      "cell_type": "code",
      "source": [
        "#replace source_folder0 with the same tar.gz link/path as above\n",
        "\n",
        "import tarfile\n",
        "\n",
        "# Path to the archive file\n",
        "source_folder0 = \"/content/Tensorflow/workspace/images/final_dataset.tar.gz\"\n",
        "\n",
        "# Extract the contents of the archive\n",
        "with tarfile.open(source_folder0, 'r:gz') as tar:\n",
        "    tar.extractall(\"/content/Tensorflow/workspace/images\")\n"
      ],
      "metadata": {
        "id": "MgO5r1Gv3j-1"
      },
      "execution_count": null,
      "outputs": []
    },
    {
      "cell_type": "code",
      "source": [
        "#use the first two source_folder strings in future. upload the images and Annotations files from Microsoft teams INTO a new file (here we have called it \"aircraftimage\" ,change the path of source folders if you call it something else)\n",
        "\n",
        "#this code takes the \"images\" and \"Annotations\" files that you have uploaded into Google Drive and copies them in to the directory Tensorflow/workspace/collectedimages .from here using some later process/code we split the collected images(and xml files) into training and testing sets\n",
        "\n",
        "#again make sure that the source_folder 1 and 2 paths are relevant to the tar.gz file that was just untarred.\n",
        "\n",
        "source_folder1 = \"Tensorflow/workspace/images/images\"\n",
        "source_folder2 = \"Tensorflow/workspace/images/Annotations\"\n",
        "destination_folder = \"Tensorflow/workspace/images/collectedimages\"\n",
        "\n",
        "source_folders = [source_folder1, source_folder2]\n",
        "\n",
        "for source_folder in source_folders:\n",
        "    source_files = os.listdir(source_folder)\n",
        "    for file_name in source_files:\n",
        "        source_file = os.path.join(source_folder, file_name)\n",
        "        destination_file = os.path.join(destination_folder, file_name)\n",
        "        shutil.copy(source_file, destination_file)"
      ],
      "metadata": {
        "id": "l2CREW2Ugk1d"
      },
      "execution_count": null,
      "outputs": []
    },
    {
      "cell_type": "code",
      "source": [
        "#check the number of images you are running this experiment with\n",
        "\n",
        "#define the directory you want to count images in\n",
        "directory_path1 = \"/content/Tensorflow/workspace/images/images\"\n",
        "directory_path2 = \"/content/Tensorflow/workspace/images/Annotations\"\n",
        "\n",
        "#list all images in the directory\n",
        "items = os.listdir(source_folder1)\n",
        "\n",
        "#count\n",
        "num_items = len(items)\n",
        "\n",
        "#print the number of images you are working with\n",
        "print(f\"Number of items in the directory: {num_items}\")\n",
        "\n",
        "#list all images in the directory\n",
        "items = os.listdir(source_folder2)\n",
        "\n",
        "#count\n",
        "num_items = len(items)\n",
        "\n",
        "#print the number of images you are working with\n",
        "print(f\"Number of items in the directory: {num_items}\")\n"
      ],
      "metadata": {
        "colab": {
          "base_uri": "https://localhost:8080/"
        },
        "id": "mrwuhdtD4Qim",
        "outputId": "dbd458fe-e2c3-4665-db8a-5c0fd1ae83c5"
      },
      "execution_count": null,
      "outputs": [
        {
          "output_type": "stream",
          "name": "stdout",
          "text": [
            "Number of items in the directory: 2279\n",
            "Number of items in the directory: 2314\n"
          ]
        }
      ]
    },
    {
      "cell_type": "markdown",
      "source": [
        "# Optional resizing step -- We can resize images and labels to match the correct input size for the model (if the chosen model does not have an inbuilt image_resizer, and if this hasn't already been done locally)"
      ],
      "metadata": {
        "id": "-U543r8ulmRy"
      }
    },
    {
      "cell_type": "code",
      "source": [
        "import cv2\n",
        "import os\n",
        "\n",
        "def resize_images(input_folder, output_folder, new_width, new_height):\n",
        "    \"\"\"Iterates through all images in a given input folder (input_folder) and resizes them to a specified size.\n",
        "    run annotation_converter.py afterwards to convert any existing/outstanding xml files to the proper size.\n",
        "    \"\"\"\n",
        "    if not os.path.exists(output_folder):\n",
        "      os.makedirs(output_folder)\n",
        "\n",
        "\n",
        "    for filename in os.listdir(input_folder):\n",
        "      if filename.endswith('JPG'):\n",
        "        input_path = os.path.join(input_folder, filename)\n",
        "        image = cv2.imread(input_path)\n",
        "        if image is not None:\n",
        "          # Resize the image\n",
        "          resized_image = cv2.resize(image, (new_width, new_height))\n",
        "\n",
        "          # Save the resized image to the output folder\n",
        "          output_path = os.path.join(output_folder, filename)\n",
        "          cv2.imwrite(output_path, resized_image)"
      ],
      "metadata": {
        "id": "oK-M172LCdlR"
      },
      "execution_count": null,
      "outputs": []
    },
    {
      "cell_type": "code",
      "source": [
        "#uncheck this if you want to resize images in the cloud\n",
        "resize_images('Tensorflow/workspace/images/collectedimages', 'Tensorflow/workspace/images/resizedcollectedimages', 640, 640)"
      ],
      "metadata": {
        "id": "ftMPdr_YDIw1"
      },
      "execution_count": null,
      "outputs": []
    },
    {
      "cell_type": "code",
      "source": [
        "import cv2\n",
        "import os\n",
        "import xml.etree.ElementTree as ET\n",
        "\n",
        "def resize_xml_annotations(xml_folder, output_folder, new_size):\n",
        "    \"\"\" Iterates through all xml_files in a given input folder (xml_folder variable)\n",
        "    and resizes them to map to the same location on a resized image.\n",
        "    \"\"\"\n",
        "    new_width, new_height = new_size\n",
        "\n",
        "    for xml_file in os.listdir(xml_folder):\n",
        "        if xml_file.endswith('.xml'):\n",
        "            xml_path = os.path.join(xml_folder, xml_file)\n",
        "            tree = ET.parse(xml_path)\n",
        "            root = tree.getroot()\n",
        "\n",
        "            image_size = root.find('size')\n",
        "            image_width = int(image_size.find('width').text)\n",
        "            image_height = int(image_size.find('height').text)\n",
        "\n",
        "            width_ratio = new_width / image_width\n",
        "            height_ratio = new_height / image_height\n",
        "\n",
        "            for object in root.findall('object'):\n",
        "                bndbox = object.find('bndbox')\n",
        "\n",
        "                xmin = int(bndbox.find('xmin').text)\n",
        "                ymin = int(bndbox.find('ymin').text)\n",
        "                xmax = int(bndbox.find('xmax').text)\n",
        "                ymax = int(bndbox.find('ymax').text)\n",
        "\n",
        "                xmin = int(xmin * width_ratio)\n",
        "                ymin = int(ymin * height_ratio)\n",
        "                xmax = int(xmax * width_ratio)\n",
        "                ymax = int(ymax * height_ratio)\n",
        "\n",
        "                bndbox.find('xmin').text = str(xmin)\n",
        "                bndbox.find('ymin').text = str(ymin)\n",
        "                bndbox.find('xmax').text = str(xmax)\n",
        "                bndbox.find('ymax').text = str(ymax)\n",
        "\n",
        "            # Update the image size in the XML file\n",
        "            image_size.find('width').text = str(new_width)\n",
        "            image_size.find('height').text = str(new_height)\n",
        "\n",
        "            # Save the updated XML file to the output folder\n",
        "            output_path = os.path.join(output_folder, xml_file)\n",
        "            tree.write(output_path)"
      ],
      "metadata": {
        "id": "fq1h73ZlCdp1"
      },
      "execution_count": null,
      "outputs": []
    },
    {
      "cell_type": "code",
      "source": [
        "#uncheck if you want to resize xml labels in the cloud\n",
        "resize_xml_annotations('Tensorflow/workspace/images/collectedimages', 'Tensorflow/workspace/images/resizedcollectedimages', (640,640))"
      ],
      "metadata": {
        "id": "qDGTq_01DJdd"
      },
      "execution_count": null,
      "outputs": []
    },
    {
      "cell_type": "markdown",
      "source": [
        "#2. Train/Test Split"
      ],
      "metadata": {
        "id": "Htw5QYSPaiiS"
      }
    },
    {
      "cell_type": "code",
      "source": [
        "import os\n",
        "import random\n",
        "from sklearn.model_selection import train_test_split\n",
        "from shutil import copyfile"
      ],
      "metadata": {
        "id": "XfNFePlhTIT-"
      },
      "execution_count": null,
      "outputs": []
    },
    {
      "cell_type": "code",
      "source": [
        "\n",
        "# Set the paths to your image and XML directories #resized\n",
        "image_directory ='Tensorflow/workspace/images/resizedcollectedimages'\n",
        "xml_directory ='Tensorflow/workspace/images/resizedcollectedimages'\n",
        "\n",
        "# Create the train and test directories if they don't exist\n",
        "train_directory = 'Tensorflow/workspace/images/train'\n",
        "test_directory = 'Tensorflow/workspace/images/test'\n",
        "os.makedirs(train_directory, exist_ok=True)\n",
        "os.makedirs(test_directory, exist_ok=True)\n",
        "\n",
        "# List all image files in the image directory\n",
        "image_files = [file for file in os.listdir(image_directory) if file.endswith('.JPG')]\n",
        "\n",
        "# Set the random seed for reproducibility\n",
        "random_seed = 42\n",
        "\n",
        "print(image_files)\n",
        "\n",
        "# Perform the train/test split\n",
        "train_files, test_files = train_test_split(image_files, test_size=0.2, random_state=random_seed)\n",
        "\n",
        "\n",
        "# Move the selected images and their corresponding XML files to the train folder\n",
        "for file in train_files:\n",
        "    image_src = os.path.join(image_directory, file)\n",
        "    #print(image_src)\n",
        "    xml_src = os.path.join(xml_directory, file.replace('.JPG', '.xml'))\n",
        "    #print(xml_src)\n",
        "    image_dest = os.path.join(train_directory, file)\n",
        "    #print(image_dest)\n",
        "    xml_dest = os.path.join(train_directory, file.replace('.JPG', '.xml'))\n",
        "    #print(xml_dest)\n",
        "    if os.path.exists(xml_src):\n",
        "      copyfile(image_src, image_dest)\n",
        "      copyfile(xml_src, xml_dest)\n",
        "\n",
        "# Move the remaining images and their corresponding XML files to the test folder\n",
        "for file in test_files:\n",
        "    image_src = os.path.join(image_directory, file)\n",
        "    xml_src = os.path.join(xml_directory, file.replace('.JPG', '.xml'))\n",
        "    image_dest = os.path.join(test_directory, file)\n",
        "    xml_dest = os.path.join(test_directory, file.replace('.JPG', '.xml'))\n",
        "    if os.path.exists(xml_src):\n",
        "      copyfile(image_src, image_dest)\n",
        "      copyfile(xml_src, xml_dest)\n",
        "\n",
        "\n",
        "#examine train/test split by unchecking below\n",
        "print(\"size of training set\",len(train_files))\n",
        "print(\"size of testing set\",len(test_files))\n",
        "\n",
        "#Number of images being used in this dataset\n",
        "print(\"Overall Number of Images Input into Model: \" + str(len(train_files) + len(test_files)))"
      ],
      "metadata": {
        "id": "FsFIVF9CPHFx",
        "colab": {
          "base_uri": "https://localhost:8080/"
        },
        "outputId": "5d1a30ec-2743-4e84-a085-eedd6f5f509c"
      },
      "execution_count": null,
      "outputs": [
        {
          "output_type": "stream",
          "name": "stdout",
          "text": [
            "['02a31e97-AllSkyImage007074172.JPG', 'b753343b-AllSkyImage007170885.JPG', '28831f65-AllSkyImage007073791.JPG', 'b49c3c98-AllSkyImage007170667.JPG', '8264d923-AllSkyImage007170710.JPG', 'c388a1b0-AllSkyImage007075017.JPG', '5bcb6411-AllSkyImage007056727.JPG', 'f8c9665e-AllSkyImage007055279.JPG', 'f76fe432-AllSkyImage007074982.JPG', 'f08f4bbc-AllSkyImage007040503.JPG', '85def637-AllSkyImage007171217.JPG', 'd5306168-AllSkyImage007071349.JPG', '8d642dfd-AllSkyImage007056591.JPG', '2584746d-AllSkyImage007071119.JPG', '04f8c19a-AllSkyImage007072267.JPG', 'e68333ee-AllSkyImage007075020.JPG', '682e1e58-AllSkyImage007040289.JPG', 'ce617c2b-AllSkyImage007071322.JPG', '599c00c2-AllSkyImage007072301.JPG', '248cf569-AllSkyImage007038024.JPG', '6ee3b4ab-AllSkyImage007073779.JPG', '44173d14-AllSkyImage007073730.JPG', '95c86f3a-AllSkyImage007056741.JPG', 'dd0263b3-AllSkyImage007071302.JPG', '1853ac16-AllSkyImage007037670.JPG', '7bbbefe4-AllSkyImage007073725.JPG', '2df1604a-AllSkyImage007040576.JPG', '6c5ed9c5-AllSkyImage007040405.JPG', 'ae552a1f-AllSkyImage007039249.JPG', '34726a47-AllSkyImage007073578.JPG', 'd5f33b4e-AllSkyImage007070992.JPG', '6e133539-AllSkyImage007039306.JPG', 'a58ead64-AllSkyImage007170960.JPG', 'b1af8457-AllSkyImage007071160.JPG', '925d8aa6-AllSkyImage007073949.JPG', 'f272a3fb-AllSkyImage007072548.JPG', '5079a6e1-AllSkyImage007040644.JPG', '0c6833cc-AllSkyImage007040253.JPG', '5def2d3e-AllSkyImage007170962.JPG', '721c2cd1-AllSkyImage007073819.JPG', 'febda06d-AllSkyImage007038170.JPG', '9de8126e-AllSkyImage007039187.JPG', '38251cb1-AllSkyImage007037470.JPG', 'bed0b164-AllSkyImage007072604.JPG', 'a62a7854-AllSkyImage007040514.JPG', 'cb8d24d8-AllSkyImage007072669.JPG', 'b679c28f-AllSkyImage007171143.JPG', 'f3c85f32-AllSkyImage007073797.JPG', 'a81a48c8-AllSkyImage007170872.JPG', '7b6bdbec-AllSkyImage007075064.JPG', '1ced42ac-AllSkyImage007072651.JPG', '086c7310-AllSkyImage007075212.JPG', '2ed47059-AllSkyImage007074434.JPG', 'ff37abcd-AllSkyImage007040299.JPG', 'b1f50dac-AllSkyImage007039437.JPG', '7cff51b4-AllSkyImage007040661.JPG', '9401b91f-AllSkyImage007073846.JPG', '8b7d1b39-AllSkyImage007039404.JPG', 'f633b741-AllSkyImage007072883.JPG', '274bd810-AllSkyImage007170919.JPG', '5281f4d8-AllSkyImage007074055.JPG', 'ae9dcfab-AllSkyImage007075185.JPG', '6dab1650-AllSkyImage007075152.JPG', '7622ea96-AllSkyImage007037598.JPG', '9c24e2a5-AllSkyImage007127813.JPG', '27e1d6b8-AllSkyImage007075113.JPG', 'ef4a22fd-AllSkyImage007055633.JPG', '9f7b7e96-AllSkyImage007127558.JPG', '2acb6834-AllSkyImage007039458.JPG', '4382e5ce-AllSkyImage007040786.JPG', '5b071df3-AllSkyImage007072437.JPG', '500a7be5-AllSkyImage007039330.JPG', 'c62e5920-AllSkyImage007073654.JPG', '16e35aa0-AllSkyImage007070986.JPG', '8888e00f-AllSkyImage007074957.JPG', '7e894a99-AllSkyImage007072503.JPG', '876c914f-AllSkyImage007072387.JPG', '97fc7172-AllSkyImage007055482.JPG', '76c2679f-AllSkyImage007170947.JPG', 'c88a4bdf-AllSkyImage007074086.JPG', '33cdc66b-AllSkyImage007037520.JPG', '7f096f53-AllSkyImage007073896.JPG', '97b0a8b0-AllSkyImage007073743.JPG', '0ecc5e7d-AllSkyImage007074976.JPG', 'bafff32c-AllSkyImage007037734.JPG', '6e930e48-AllSkyImage007073885.JPG', 'd5c511a4-AllSkyImage007071473.JPG', 'ee7c1636-AllSkyImage007171264.JPG', '3dad44b8-AllSkyImage007037502.JPG', 'd7830d1c-AllSkyImage007040318.JPG', 'a2f05463-AllSkyImage007073853.JPG', '24a660c5-AllSkyImage007073852.JPG', '3e83cada-AllSkyImage007072730.JPG', 'a257d413-AllSkyImage007073980.JPG', 'ac8821a9-AllSkyImage007071162.JPG', '0734d49c-AllSkyImage007071146.JPG', 'cf2579d6-AllSkyImage007071443.JPG', '80dc7802-AllSkyImage007171169.JPG', 'c354d2c7-AllSkyImage007040497.JPG', '3c4dd40a-AllSkyImage007072633.JPG', '07660020-AllSkyImage007072285.JPG', '0194d2d4-AllSkyImage007170854.JPG', 'db701af0-AllSkyImage007039241.JPG', '89a3e288-AllSkyImage007072380.JPG', 'af0ef007-AllSkyImage007039180.JPG', '3dbc8d7e-AllSkyImage007127750.JPG', 'e772379e-AllSkyImage007171068.JPG', '2284584c-AllSkyImage007039409.JPG', '4b78403f-AllSkyImage007037428.JPG', '381d72b3-AllSkyImage007040625.JPG', 'a2ca1933-AllSkyImage007037522.JPG', 'e19b4d73-AllSkyImage007072396.JPG', '00353503-AllSkyImage007072445.JPG', 'a3086a81-AllSkyImage007039214.JPG', '29e1a3e2-AllSkyImage007127525.JPG', 'd6533835-AllSkyImage007071194.JPG', '53e65d03-AllSkyImage007075194.JPG', '2eba7bee-AllSkyImage007074538.JPG', 'f7fbfa6f-AllSkyImage007072537.JPG', '67853a6a-AllSkyImage007072655.JPG', '8af57df4-AllSkyImage007037740.JPG', '9291c3b6-AllSkyImage007055455.JPG', '80a2de67-AllSkyImage007039394.JPG', '9a314922-AllSkyImage007071013.JPG', '4321ec8c-AllSkyImage007073786.JPG', 'fe525efe-AllSkyImage007170911.JPG', '948d3e48-AllSkyImage007073723.JPG', 'b996ac5b-AllSkyImage007073995.JPG', '062f4b1f-AllSkyImage007071077.JPG', 'b9bb3568-AllSkyImage007072392.JPG', 'f84032a2-AllSkyImage007073927.JPG', 'b9be49ca-AllSkyImage007039726.JPG', '9b068e9a-AllSkyImage007071147.JPG', '97c011a8-AllSkyImage007073795.JPG', 'fde413b1-AllSkyImage007071100.JPG', 'a41c922a-AllSkyImage007072399.JPG', '4dd531c3-AllSkyImage007171101.JPG', 'dfc2e5f9-AllSkyImage007073546.JPG', '99197ce6-AllSkyImage007072374.JPG', '3c5e0130-AllSkyImage007039264.JPG', 'e426ca19-AllSkyImage007171010.JPG', '553c2925-AllSkyImage007037477.JPG', '0dc560c3-AllSkyImage007072774.JPG', '4f976470-AllSkyImage007055226.JPG', '3e5beb16-AllSkyImage007038084.JPG', '13068650-AllSkyImage007040444.JPG', '4d7c8fff-AllSkyImage007037538.JPG', '349f8d3b-AllSkyImage007040385.JPG', 'f9cc1bd7-AllSkyImage007039195.JPG', '73265ced-AllSkyImage007072677.JPG', 'c9a35522-AllSkyImage007071150.JPG', 'cb3ddb94-AllSkyImage007074321.JPG', '8ba0e6f8-AllSkyImage007073577.JPG', '02fb9aa9-AllSkyImage007071376.JPG', '59b9ff47-AllSkyImage007040566.JPG', '6b464c55-AllSkyImage007056736.JPG', '3d068ce0-AllSkyImage007039405.JPG', '140214fc-AllSkyImage007055289.JPG', 'feb0c29b-AllSkyImage007040361.JPG', '6eae72a7-AllSkyImage007072438.JPG', '95b77736-AllSkyImage007074326.JPG', 'b69461cd-AllSkyImage007039181.JPG', '12382eb5-AllSkyImage007071137.JPG', '6af61074-AllSkyImage007072367.JPG', 'a8da8261-AllSkyImage007072458.JPG', '471e8867-AllSkyImage007071090.JPG', 'c83e8cb9-AllSkyImage007072499.JPG', 'b1b0817b-AllSkyImage007039191.JPG', '486e389a-AllSkyImage007073919.JPG', 'afdd9332-AllSkyImage007074144.JPG', 'd613aa38-AllSkyImage007073951.JPG', '9a210cb5-AllSkyImage007071024.JPG', '4be7fc25-AllSkyImage007038132.JPG', 'dbc2ba9d-AllSkyImage007073589.JPG', '103a92a8-AllSkyImage007075046.JPG', '73787e46-AllSkyImage007071469.JPG', 'cfb2f582-AllSkyImage007039254.JPG', '4edc130e-AllSkyImage007071033.JPG', '0945cdc1-AllSkyImage007072546.JPG', 'a56fe11a-AllSkyImage007040806.JPG', 'f87d1dff-AllSkyImage007071360.JPG', '80835e7a-AllSkyImage007071254.JPG', '9802ae87-AllSkyImage007072352.JPG', '19d27dc8-AllSkyImage007170920.JPG', '15fd6d05-AllSkyImage007071479.JPG', '7af03ef1-AllSkyImage007071830.JPG', 'd3e1611b-AllSkyImage007056683.JPG', '15cecfca-AllSkyImage007037574.JPG', 'ba85bc55-AllSkyImage007075057.JPG', '9f3f1eff-AllSkyImage007073589.JPG', '82d0c6c5-AllSkyImage007073787.JPG', 'a76ba906-AllSkyImage007073826.JPG', '81a33b87-AllSkyImage007170806.JPG', '9505ad38-AllSkyImage007073687.JPG', 'c16ed63b-AllSkyImage007074098.JPG', 'ff2e93c3-AllSkyImage007072674.JPG', '4d0135d2-AllSkyImage007056558.JPG', '376a22f4-AllSkyImage007072603.JPG', '93c05dcf-AllSkyImage007039212.JPG', 'b64973c5-AllSkyImage007073993.JPG', '06e796f3-AllSkyImage007073716.JPG', 'de552e47-AllSkyImage007075055.JPG', '6b9a350e-AllSkyImage007171069.JPG', '0ae362d6-AllSkyImage007170888.JPG', 'e87f6346-AllSkyImage007075149.JPG', '8e03be82-AllSkyImage007072379.JPG', '36edacd5-AllSkyImage007072394.JPG', 'e07de6c1-AllSkyImage007040295.JPG', '67216ef3-AllSkyImage007073958.JPG', 'fdbe239d-AllSkyImage007074324.JPG', '7839a5be-AllSkyImage007071320.JPG', '4b7805aa-AllSkyImage007055581.JPG', 'd93a8501-AllSkyImage007039397.JPG', '5e15f72f-AllSkyImage007040623.JPG', '9e9d89a2-AllSkyImage007071272.JPG', '7ceb443d-AllSkyImage007075176.JPG', '91a05c87-AllSkyImage007040531.JPG', '78ef8d98-AllSkyImage007072539.JPG', '03d3ec49-AllSkyImage007073905.JPG', 'd5639f5e-AllSkyImage007073697.JPG', '8547025d-AllSkyImage007071325.JPG', '0b04ffb1-AllSkyImage007075191.JPG', 'bd1bf894-AllSkyImage007073886.JPG', '751f0e7b-AllSkyImage007073735.JPG', 'aaba60fa-AllSkyImage007039401.JPG', 'a533cf9b-AllSkyImage007127551.JPG', '9f99f066-AllSkyImage007038708.JPG', '6f618c8b-AllSkyImage007075070.JPG', '2c928da7-AllSkyImage007040501.JPG', '30dd158c-AllSkyImage007073977.JPG', '988bdc81-AllSkyImage007037558.JPG', '241346ab-AllSkyImage007037440.JPG', 'e7933bd4-AllSkyImage007073669.JPG', 'cecf4990-AllSkyImage007072424.JPG', 'e0fffb2b-AllSkyImage007037496.JPG', 'e74cbac8-AllSkyImage007071397.JPG', 'f2f03637-AllSkyImage007170651.JPG', '593ca603-AllSkyImage007037469.JPG', '37a890b2-AllSkyImage007075068.JPG', 'f02adb95-AllSkyImage007075217.JPG', '72120ac8-AllSkyImage007037699.JPG', '293ffca5-AllSkyImage007037542.JPG', 'e5e0b240-AllSkyImage007072551.JPG', '1269e1c2-AllSkyImage007040280.JPG', 'fa05b6b4-AllSkyImage007074087.JPG', '3b31a7a9-AllSkyImage007071318.JPG', '5df92d6e-AllSkyImage007037557.JPG', '34f9edba-AllSkyImage007072585.JPG', 'eb5f2058-AllSkyImage007072660.JPG', 'c3c7c0b7-AllSkyImage007074267.JPG', '405a8e76-AllSkyImage007072390.JPG', 'bfa97d79-AllSkyImage007073621.JPG', '4178c77d-AllSkyImage007170767.JPG', '10ab9eea-AllSkyImage007072526.JPG', '7ff162e8-AllSkyImage007037539.JPG', '735ee491-AllSkyImage007072631.JPG', 'f6fadd92-AllSkyImage007070987.JPG', '5d29764b-AllSkyImage007073825.JPG', 'c9e7f25c-AllSkyImage007073941.JPG', '98980133-AllSkyImage007073839.JPG', '7743d482-AllSkyImage007072333.JPG', 'ef25b2c8-AllSkyImage007071025.JPG', 'bd941218-AllSkyImage007127526.JPG', 'c9fdd36c-AllSkyImage007040784.JPG', 'ac6e2906-AllSkyImage007072370.JPG', 'ad59ccef-AllSkyImage007072497.JPG', '1ef16996-AllSkyImage007075086.JPG', '5fdd17af-AllSkyImage007037723.JPG', '91d3b2e4-AllSkyImage007039219.JPG', '407f5386-AllSkyImage007072729.JPG', '0ba4a751-AllSkyImage007071340.JPG', 'bfa66e6c-AllSkyImage007071365.JPG', 'cde66efb-AllSkyImage007072296.JPG', 'a325a703-AllSkyImage007040381.JPG', '9fa9af2e-AllSkyImage007039224.JPG', 'b82619c3-AllSkyImage007073668.JPG', 'b61b8323-AllSkyImage007074163.JPG', 'e7696949-AllSkyImage007039139.JPG', 'b1b0cbc8-AllSkyImage007037738.JPG', 'a2660a52-AllSkyImage007073700.JPG', '963ab627-AllSkyImage007072584.JPG', 'f85909eb-AllSkyImage007037559.JPG', '504ded55-AllSkyImage007073803.JPG', '4d5f3666-AllSkyImage007038388.JPG', '288ca9f6-AllSkyImage007040400.JPG', '692563c9-AllSkyImage007074494.JPG', 'a660f74d-AllSkyImage007038220.JPG', '0004338d-AllSkyImage007038651.JPG', '71ea15b7-AllSkyImage007072618.JPG', 'b89f49ea-AllSkyImage007072547.JPG', '8d04a602-AllSkyImage007039322.JPG', 'a05701b4-AllSkyImage007171082.JPG', '17bfa4b2-AllSkyImage007037731.JPG', 'e93efde8-AllSkyImage007074170.JPG', 'dbde6791-AllSkyImage007073917.JPG', 'fac9d332-AllSkyImage007040607.JPG', '8c5d8a1b-AllSkyImage007039386.JPG', '34c8316a-AllSkyImage007072372.JPG', '887665a7-AllSkyImage007071462.JPG', '90e6d773-AllSkyImage007071251.JPG', '19bd2b3d-AllSkyImage007075114.JPG', 'a4fa52f1-AllSkyImage007039541.JPG', '08e29ada-AllSkyImage007170876.JPG', '592be5ea-AllSkyImage007039320.JPG', 'eb953d9f-AllSkyImage007075067.JPG', '7b971624-AllSkyImage007037746.JPG', 'a3506396-AllSkyImage007040532.JPG', '0d648e15-AllSkyImage007071219.JPG', '4c8c5198-AllSkyImage007038286.JPG', 'f6b816b4-AllSkyImage007038311.JPG', 'f87d1b4e-AllSkyImage007073843.JPG', 'cc674f30-AllSkyImage007039413.JPG', '3ac287a6-AllSkyImage007074061.JPG', '062386dc-AllSkyImage007040522.JPG', '1768ec16-AllSkyImage007038123.JPG', '9c712160-AllSkyImage007171268.JPG', 'b4ce5a5f-AllSkyImage007072691.JPG', '18b15fb0-AllSkyImage007074985.JPG', 'f9acb510-AllSkyImage007074533.JPG', '98f74fc2-AllSkyImage007038046.JPG', '19b00e1f-AllSkyImage007037442.JPG', '78b7c954-AllSkyImage007170913.JPG', '9c4ad201-AllSkyImage007075214.JPG', '2d20836c-AllSkyImage007071129.JPG', 'a0fe409a-AllSkyImage007071039.JPG', 'd02d13b3-AllSkyImage007040431.JPG', '35e2f4a0-AllSkyImage007171164.JPG', 'fae18191-AllSkyImage007171218.JPG', '46093876-AllSkyImage007040358.JPG', '8aa6fb41-AllSkyImage007039284.JPG', '2ce167e6-AllSkyImage007071193.JPG', 'a4a8b8d0-AllSkyImage007071321.JPG', 'e8d71c47-AllSkyImage007073806.JPG', '8b310f5a-AllSkyImage007072779.JPG', '862beec1-AllSkyImage007073572.JPG', 'e894a021-AllSkyImage007073574.JPG', '2ee8a32b-AllSkyImage007071181.JPG', '47960090-AllSkyImage007040762.JPG', '212a0130-AllSkyImage007171272.JPG', 'f4cbb8cb-AllSkyImage007055264.JPG', '68b55cc2-AllSkyImage007074109.JPG', '04b0736a-AllSkyImage007037489.JPG', '76f63bf2-AllSkyImage007040524.JPG', '87256c9f-AllSkyImage007039339.JPG', '77620d64-AllSkyImage007071126.JPG', '207559c9-AllSkyImage007170939.JPG', 'aa98035c-AllSkyImage007071196.JPG', '82d77c90-AllSkyImage007073656.JPG', 'da46903c-AllSkyImage007039276.JPG', '5354be50-AllSkyImage007075081.JPG', '074338cb-AllSkyImage007071525.JPG', '30ac47ff-AllSkyImage007040471.JPG', 'dbd04416-AllSkyImage007071192.JPG', 'f3ca4d72-AllSkyImage007073570.JPG', 'b7f6fbf0-AllSkyImage007072291.JPG', '01e11e2a-AllSkyImage007040434.JPG', '1982d828-AllSkyImage007170847.JPG', '1a4e47c5-AllSkyImage007075153.JPG', '08e7ef36-AllSkyImage007037498.JPG', '3a2489d5-AllSkyImage007170868.JPG', '720b0f43-AllSkyImage007071363.JPG', 'c2984b7f-AllSkyImage007127868.JPG', '78640aad-AllSkyImage007073207.JPG', '15ab5e99-AllSkyImage007039160.JPG', '0720a2a4-AllSkyImage007170800.JPG', '5f5279a6-AllSkyImage007040376.JPG', 'dfb2b6ca-AllSkyImage007072498.JPG', '4d6db5f7-AllSkyImage007037627.JPG', '6c07061e-AllSkyImage007039223.JPG', 'e41d3c19-AllSkyImage007038097.JPG', '3f271bd2-AllSkyImage007171277.JPG', '3ccf7acd-AllSkyImage007075213.JPG', '2bfa1233-AllSkyImage007070998.JPG', '2f9fe332-AllSkyImage007071039_2.JPG', 'b2ecc883-AllSkyImage007039209.JPG', '76fa8c64-AllSkyImage007038253.JPG', 'addfb261-AllSkyImage007040310.JPG', '2ab08187-AllSkyImage007075109.JPG', '8ebf197b-AllSkyImage007073881.JPG', 'b4688249-AllSkyImage007039133.JPG', '61e3f0ac-AllSkyImage007072781.JPG', '26ce4483-AllSkyImage007127552.JPG', '670c1257-AllSkyImage007037526.JPG', '70d693c2-AllSkyImage007072406.JPG', '8ffad400-AllSkyImage007127943.JPG', '917e99f4-AllSkyImage007071824.JPG', '22f53907-AllSkyImage007074089.JPG', '205c62c0-AllSkyImage007170849.JPG', '654cfbb7-AllSkyImage007072449.JPG', 'caf1169b-AllSkyImage007055530.JPG', '65d6b45c-AllSkyImage007040789.JPG', 'd05b6a7c-AllSkyImage007040399.JPG', '3b54a5aa-AllSkyImage007037745.JPG', 'fafe6f02-AllSkyImage007038493.JPG', '9db3251d-AllSkyImage007055245.JPG', 'ee8ce990-AllSkyImage007170948.JPG', '7d3cf33d-AllSkyImage007038122.JPG', 'da986876-AllSkyImage007074160.JPG', '5ff532e3-AllSkyImage007072393.JPG', '4ddf2357-AllSkyImage007039183.JPG', '45d3a464-AllSkyImage007073548.JPG', 'ddb974c3-AllSkyImage007039210.JPG', '3721ee4f-AllSkyImage007071483.JPG', 'd40d5972-AllSkyImage007040676.JPG', 'c39b1076-AllSkyImage007170964.JPG', '4a35c23e-AllSkyImage007073789.JPG', '8fdde588-AllSkyImage007071478.JPG', 'fcae524f-AllSkyImage007074058.JPG', '7490ddd5-AllSkyImage007072752.JPG', 'c8229234-AllSkyImage007039260.JPG', '93cbd13a-AllSkyImage007073698.JPG', '89e13cc3-AllSkyImage007072719.JPG', '8d282ad1-AllSkyImage007171295.JPG', 'bfb1cca3-AllSkyImage007072266.JPG', '8ea8c755-AllSkyImage007037671.JPG', '8eaccd77-AllSkyImage007075199.JPG', '22cc26f5-AllSkyImage007072672.JPG', '04cc5cb0-AllSkyImage007071229.JPG', '4274a972-AllSkyImage007039384.JPG', 'd16ff898-AllSkyImage007073975.JPG', '297dcab1-AllSkyImage007071335.JPG', '0c0be959-AllSkyImage007171266.JPG', 'e334257c-AllSkyImage007071142.JPG', '7523f5aa-AllSkyImage007055291.JPG', '27b10703-AllSkyImage007040327.JPG', '9a3263d3-AllSkyImage007072386.JPG', '7588e9c4-AllSkyImage007073670.JPG', 'f34e653c-AllSkyImage007072600.JPG', 'dc736764-AllSkyImage007038156.JPG', 'b6d68765-AllSkyImage007071393.JPG', '777f6729-AllSkyImage007075115.JPG', 'a1d04dc4-AllSkyImage007073763.JPG', '1bf3265c-AllSkyImage007040518.JPG', '3a34799c-AllSkyImage007071342.JPG', '7b0a265d-AllSkyImage007075190.JPG', '7ce24b3c-AllSkyImage007038045.JPG', 'de28187b-AllSkyImage007040737.JPG', '9031291e-AllSkyImage007071163.JPG', 'f19e304b-AllSkyImage007170884.JPG', 'bd5fc4e0-AllSkyImage007071390.JPG', 'c1d19528-AllSkyImage007071148.JPG', '1c050fc9-AllSkyImage007039623.JPG', '74d3b2b4-AllSkyImage007071328.JPG', '450c67de-AllSkyImage007040519.JPG', '3bbea5df-AllSkyImage007071405.JPG', '036f98c9-AllSkyImage007170921.JPG', 'afd16922-AllSkyImage007039697.JPG', '925693a9-AllSkyImage007055228.JPG', '07975887-AllSkyImage007040678.JPG', 'a2c7584d-AllSkyImage007170648.JPG', 'c203eeb1-AllSkyImage007071216.JPG', 'd783d1a6-AllSkyImage007071878.JPG', '4ef47ae8-AllSkyImage007039354.JPG', '2f073843-AllSkyImage007072461.JPG', 'a039e420-AllSkyImage007038308.JPG', '0967d5e7-AllSkyImage007071104.JPG', 'cca11e4b-AllSkyImage007039539.JPG', '3d9724e2-AllSkyImage007171170.JPG', '825ec8cb-AllSkyImage007039487.JPG', 'b86fb56e-AllSkyImage007073547.JPG', 'ab7d97be-AllSkyImage007171011.JPG', '9e185136-AllSkyImage007074057.JPG', 'e1b15d8f-AllSkyImage007071252.JPG', 'e9eadae0-AllSkyImage007039251.JPG', 'a47c82f8-AllSkyImage007072357_2.JPG', '25904676-AllSkyImage007038354.JPG', '5b33a4c3-AllSkyImage007072303.JPG', '68cff54d-AllSkyImage007072828.JPG', '553876cc-AllSkyImage007039229.JPG', '4bf0a051-AllSkyImage007073939.JPG', 'f01440bb-AllSkyImage007074378.JPG', 'aa0386e1-AllSkyImage007073567.JPG', 'a8ee112a-AllSkyImage007072789.JPG', '063b7fdd-AllSkyImage007071308.JPG', 'fa4ac29e-AllSkyImage007072525.JPG', '200de3ca-AllSkyImage007039602.JPG', '278333c5-AllSkyImage007170737.JPG', '05c36498-AllSkyImage007075197.JPG', '1a36bd0e-AllSkyImage007072268.JPG', 'f26b404c-AllSkyImage007075001.JPG', '84fe0cd4-AllSkyImage007056551.JPG', '8e6052e7-AllSkyImage007073832.JPG', '6ae50c1a-AllSkyImage007038023.JPG', '1e9a8ac1-AllSkyImage007038085.JPG', 'f1815b26-AllSkyImage007039365.JPG', 'f7af227a-AllSkyImage007127781.JPG', '8a035914-AllSkyImage007039246.JPG', '4b88e8fb-AllSkyImage007072679.JPG', '79615f84-AllSkyImage007055576.JPG', '95d114dd-AllSkyImage007073854.JPG', 'e25b4d36-AllSkyImage007071084.JPG', 'c1756797-AllSkyImage007040615.JPG', 'b033f699-AllSkyImage007071470.JPG', '2f386296-AllSkyImage007039407.JPG', '940ec049-AllSkyImage007071133.JPG', '34e0f73a-AllSkyImage007073744.JPG', 'b32a0a98-AllSkyImage007039434.JPG', 'deddb106-AllSkyImage007040311.JPG', '19a93505-AllSkyImage007055604.JPG', '43e59b21-AllSkyImage007170726.JPG', 'd458c79f-AllSkyImage007073878.JPG', '01e626eb-AllSkyImage007073978.JPG', 'eca0150f-AllSkyImage007072717.JPG', 'e7bae278-AllSkyImage007038256.JPG', '3e409ecc-AllSkyImage007073571.JPG', 'c95a0742-AllSkyImage007037491.JPG', '863ce673-AllSkyImage007074097.JPG', '2037926b-AllSkyImage007171176.JPG', 'e42d05d8-AllSkyImage007073765.JPG', 'c512bd85-AllSkyImage007073962.JPG', '07d16220-AllSkyImage007072381.JPG', 'c07e2082-AllSkyImage007039192.JPG', '929fa1d0-AllSkyImage007038652.JPG', '27acc6e2-AllSkyImage007055243.JPG', '168b647a-AllSkyImage007039182.JPG', '974f992f-AllSkyImage007040493.JPG', '3acaa76c-AllSkyImage007039266.JPG', 'c91f92fa-AllSkyImage007038523.JPG', '771127e1-AllSkyImage007170991.JPG', 'cc0bbb20-AllSkyImage007073613.JPG', 'c57674ac-AllSkyImage007071173.JPG', '72511a80-AllSkyImage007127553.JPG', 'a6b48c1c-AllSkyImage007037441.JPG', 'b6b8f15a-AllSkyImage007072443.JPG', 'acd08c1b-AllSkyImage007127847.JPG', '150ee42c-AllSkyImage007072716.JPG', '9a06f079-AllSkyImage007170914.JPG', '7cc58cf8-AllSkyImage007070988.JPG', '2cb68ee0-AllSkyImage007040304.JPG', '4f30ae91-AllSkyImage007039374.JPG', '2456d4ca-AllSkyImage007073931.JPG', '8853f110-AllSkyImage007071164.JPG', '93007282-AllSkyImage007056704.JPG', '1e4ed521-AllSkyImage007037463.JPG', 'c54d6030-AllSkyImage007073801.JPG', 'b70c65de-AllSkyImage007071434.JPG', 'b15e7720-AllSkyImage007071409.JPG', '174bf929-AllSkyImage007073661.JPG', '2b0fad25-AllSkyImage007072331.JPG', '3f3a3e41-AllSkyImage007039396.JPG', '3973f56b-AllSkyImage007170787.JPG', 'b3fbe368-AllSkyImage007074322_2.JPG', '78b08c53-AllSkyImage007170776.JPG', '504cded2-AllSkyImage007037587.JPG', '258b161b-AllSkyImage007038507.JPG', 'c6c5904b-AllSkyImage007040560.JPG', '8733d0a3-AllSkyImage007074066.JPG', '45b7b4bb-AllSkyImage007038155.JPG', '1eb9f95d-AllSkyImage007170882.JPG', '736916e9-AllSkyImage007072532.JPG', '34b3d984-AllSkyImage007040807.JPG', 'b01b856f-AllSkyImage007056536.JPG', '8c2466c4-AllSkyImage007072786.JPG', '2c05aaa9-AllSkyImage007055539.JPG', 'b367b190-AllSkyImage007071217.JPG', 'caff1d7f-AllSkyImage007040499.JPG', 'feecbf1b-AllSkyImage007072590.JPG', '65322ef6-AllSkyImage007037704.JPG', '5ce5485f-AllSkyImage007039653.JPG', '4cf00009-AllSkyImage007038281.JPG', '4fdbb7b3-AllSkyImage007038470.JPG', '483a6457-AllSkyImage007073847.JPG', 'c4a6ce08-AllSkyImage007073747.JPG', 'dd5066a4-AllSkyImage007039274.JPG', 'e7942df8-AllSkyImage007040561.JPG', 'e6613aa1-AllSkyImage007055490.JPG', '7f837118-AllSkyImage007037610.JPG', '600a9a7d-AllSkyImage007039601.JPG', '74edb04b-AllSkyImage007073612.JPG', '81cdf43e-AllSkyImage007071083.JPG', '7868715c-AllSkyImage007072376.JPG', '3098d28f-AllSkyImage007037548.JPG', 'af9cef5e-AllSkyImage007072430.JPG', 'd94126a0-AllSkyImage007040530.JPG', 'da00c34d-AllSkyImage007075182.JPG', 'e1423736-AllSkyImage007071143.JPG', 'ffad556b-AllSkyImage007072700.JPG', 'f08d7ed5-AllSkyImage007073684.JPG', '39df4052-AllSkyImage007037733.JPG', 'd506cb52-AllSkyImage007037705.JPG', 'fe3cd6b1-AllSkyImage007040357.JPG', '748a76b6-AllSkyImage007055251.JPG', '46446408-AllSkyImage007074112.JPG', '93d5cb18-AllSkyImage007072429.JPG', 'eed0135d-AllSkyImage007170707.JPG', 'a1c66631-AllSkyImage007072636.JPG', '953f4d8c-AllSkyImage007074537.JPG', '3aea0b3c-AllSkyImage007075108.JPG', '82c9009a-AllSkyImage007040759.JPG', 'ca31eb57-AllSkyImage007073831.JPG', 'ca2646cc-AllSkyImage007038109.JPG', 'd0fff539-AllSkyImage007073208.JPG', '03e18401-AllSkyImage007056540.JPG', '61288f1d-AllSkyImage007040297.JPG', '1c0e1b0d-AllSkyImage007037499.JPG', 'deff9049-AllSkyImage007073699.JPG', '26bfbd73-AllSkyImage007072701.JPG', 'bab163e9-AllSkyImage007073728.JPG', 'dfd4b1ae-AllSkyImage007171016.JPG', 'c6e54fa3-AllSkyImage007072658.JPG', '97724ee5-AllSkyImage007075107.JPG', '423cfd4e-AllSkyImage007040790.JPG', 'dd0fbbcb-AllSkyImage007074536.JPG', '5e972f90-AllSkyImage007040809.JPG', '3e631eca-AllSkyImage007071007.JPG', '4971dca3-AllSkyImage007171182.JPG', '222a40ca-AllSkyImage007037730.JPG', '899c800f-AllSkyImage007073929.JPG', 'e4ff06bb-AllSkyImage007039286.JPG', '8bd32ebf-AllSkyImage007040375.JPG', '83ea0bb6-AllSkyImage007039370.JPG', '7acdb5d1-AllSkyImage007039492.JPG', '0e9a53ed-AllSkyImage007056881.JPG', 'e638e833-AllSkyImage007038098.JPG', '0c3869e0-AllSkyImage007055290.JPG', 'e7f63fc5-AllSkyImage007071446.JPG', '8f41ed60-AllSkyImage007127539.JPG', 'b834c7cf-AllSkyImage007037431.JPG', '339637e5-AllSkyImage007040359.JPG', 'ac1c209b-AllSkyImage007071086.JPG', '0f5b3727-AllSkyImage007071343.JPG', '744c15cc-AllSkyImage007171247.JPG', 'eedc8758-AllSkyImage007040430.JPG', 'a89a0855-AllSkyImage007072803.JPG', 'd47328a7-AllSkyImage007039250.JPG', '81dd8686-AllSkyImage007074059.JPG', '80bdeb76-AllSkyImage007039542.JPG', '884dc0a8-AllSkyImage007038489.JPG', 'fe41a1cf-AllSkyImage007037622.JPG', '32d5fc4b-AllSkyImage007038219.JPG', 'cb490589-AllSkyImage007071095.JPG', '2e46eb77-AllSkyImage007073971.JPG', '5e337cea-AllSkyImage007072318.JPG', 'ce56e639-AllSkyImage007071021.JPG', '2d75fe69-AllSkyImage007170958.JPG', 'cd27aac1-AllSkyImage007075151.JPG', 'cd2eeecf-AllSkyImage007072654.JPG', '5dee8c59-AllSkyImage007071085.JPG', '23fdc1dc-AllSkyImage007039459.JPG', '84fada3d-AllSkyImage007072705.JPG', 'a617a82f-AllSkyImage007127751.JPG', 'de4edc3b-AllSkyImage007040506.JPG', '4c751950-AllSkyImage007170650.JPG', '1dd7ab04-AllSkyImage007071020.JPG', '64030159-AllSkyImage007040377.JPG', '0411054e-AllSkyImage007055272.JPG', '69961f98-AllSkyImage007037698.JPG', '26d0fc8a-AllSkyImage007055253.JPG', 'd5311f65-AllSkyImage007040734.JPG', '5a53ce65-AllSkyImage007074325.JPG', '3bb5bc3f-AllSkyImage007037619.JPG', 'e1f25996-AllSkyImage007040443.JPG', '4cd462e8-AllSkyImage007040473.JPG', 'ca36bd4c-AllSkyImage007070981.JPG', '5ccc55c3-AllSkyImage007075095.JPG', '692b62b6-AllSkyImage007073544.JPG', 'c2208ccf-AllSkyImage007171074.JPG', '36c4db0e-AllSkyImage007055540.JPG', 'a9a6bfeb-AllSkyImage007039265.JPG', '7c0a7775-AllSkyImage007072533.JPG', '4f7ce0f3-AllSkyImage007073855.JPG', '8a9f73ab-AllSkyImage007073655.JPG', '1d845a2d-AllSkyImage007073658.JPG', '2fe2a4c8-AllSkyImage007071172.JPG', '9befee93-AllSkyImage007171067.JPG', '5affd5e4-AllSkyImage007071826.JPG', '758aac27-AllSkyImage007171297.JPG', '5dcbc8fe-AllSkyImage007072534.JPG', '441c3a82-AllSkyImage007073740.JPG', '0359a5a7-AllSkyImage007075166.JPG', 'dfeb5c5e-AllSkyImage007056541.JPG', '8ff5d679-AllSkyImage007171210.JPG', '2e1c9ece-AllSkyImage007070990.JPG', 'e189f18c-AllSkyImage007072632.JPG', 'd02be8e3-AllSkyImage007073762.JPG', '246d129b-AllSkyImage007039325.JPG', 'a0f39392-AllSkyImage007072425.JPG', '76c1a962-AllSkyImage007073620.JPG', '0829efad-AllSkyImage007055292.JPG', '47702c0b-AllSkyImage007071610.JPG', 'b5cfbe73-AllSkyImage007170705.JPG', '54bf7873-AllSkyImage007072295.JPG', '226816b6-AllSkyImage007072383.JPG', '6934a2db-AllSkyImage007071357.JPG', '618e3797-AllSkyImage007071369.JPG', 'fba8ec2a-AllSkyImage007072541.JPG', '8b543d1a-AllSkyImage007074095.JPG', '8ee24241-AllSkyImage007073957.JPG', 'fe07640c-AllSkyImage007073966.JPG', 'a7b677d2-AllSkyImage007037573.JPG', '47c4d485-AllSkyImage007071471.JPG', '01b7c515-AllSkyImage007040296.JPG', '19d90605-AllSkyImage007039159.JPG', '6a81b237-AllSkyImage007040398.JPG', '7190d69b-AllSkyImage007170785.JPG', '222a78ca-AllSkyImage007074091.JPG', 'd8804572-AllSkyImage007170930.JPG', '26d14a6e-AllSkyImage007038487.JPG', '0fca120a-AllSkyImage007038488.JPG', '3a47b790-AllSkyImage007075168.JPG', 'ef084270-AllSkyImage007072530.JPG', 'd7cef651-AllSkyImage007037462.JPG', '486f72ab-AllSkyImage007039221.JPG', '2764823f-AllSkyImage007039240.JPG', 'cff32b7a-AllSkyImage007055239.JPG', 'ef63f465-AllSkyImage007170727.JPG', 'e5ecd62c-AllSkyImage007072403.JPG', '6e79f757-AllSkyImage007039448.JPG', 'a52530f0-AllSkyImage007072628.JPG', '3ffb3f7e-AllSkyImage007170661.JPG', 'ba69e4e2-AllSkyImage007039258.JPG', '5db6df8f-AllSkyImage007075077.JPG', '8b218aa9-AllSkyImage007039625.JPG', '192a21e2-AllSkyImage007074033.JPG', '0fc0ca95-AllSkyImage007073766.JPG', 'c38eab33-AllSkyImage007039244.JPG', 'afe1da6a-AllSkyImage007071243.JPG', '00a8f217-AllSkyImage007073948.JPG', 'eb113dad-AllSkyImage007037490.JPG', '6ce73f55-AllSkyImage007071315.JPG', '210ec54e-AllSkyImage007073916.JPG', 'f1e7e5c8-AllSkyImage007073550.JPG', '95681c58-AllSkyImage007170957.JPG', '153b395f-AllSkyImage007071123.JPG', '90a958d2-AllSkyImage007071435.JPG', '77ac0351-AllSkyImage007073938.JPG', 'd22ee7c5-AllSkyImage007071094.JPG', 'e266b836-AllSkyImage007073793.JPG', '0660ada8-AllSkyImage007038389.JPG', '76968521-AllSkyImage007170745.JPG', '16f9c0a4-AllSkyImage007073817.JPG', 'ae2ee5e2-AllSkyImage007071242.JPG', 'a23bb9a4-AllSkyImage007071681.JPG', 'a3b21149-AllSkyImage007040558.JPG', '2229967e-AllSkyImage007072891.JPG', 'd7490f09-AllSkyImage007071249.JPG', '2a9cae76-AllSkyImage007071016.JPG', 'c1071467-AllSkyImage007170804.JPG', '8f3ec1d3-AllSkyImage007170832.JPG', '9180c8ae-AllSkyImage007038106.JPG', '37cbfd11-AllSkyImage007055575.JPG', 'c57bdeba-AllSkyImage007073644.JPG', '4a7b1288-AllSkyImage007170775.JPG', '7472631a-AllSkyImage007073701.JPG', '661b58a6-AllSkyImage007072785.JPG', '0ffa0860-AllSkyImage007073976.JPG', '09596ed6-AllSkyImage007055306.JPG', '48faf6e3-AllSkyImage007170866.JPG', '0a50933b-AllSkyImage007037510.JPG', 'e23a8582-AllSkyImage007040300.JPG', 'af6362f5-AllSkyImage007073776.JPG', 'fa5eadb4-AllSkyImage007071134.JPG', 'a11a6c14-AllSkyImage007039157.JPG', '09ad15b0-AllSkyImage007071481.JPG', 'c3e84619-AllSkyImage007071334.JPG', '69b7e69f-AllSkyImage007073780.JPG', '49d43b16-AllSkyImage007039353.JPG', 'f33db635-AllSkyImage007073820.JPG', '908685ce-AllSkyImage007072704.JPG', '221f6edd-AllSkyImage007073778.JPG', 'c4681aa0-AllSkyImage007072549.JPG', 'd8c31d20-AllSkyImage007074534.JPG', '21334ca5-AllSkyImage007073920.JPG', '2de33c19-AllSkyImage007039373.JPG', 'eca77024-AllSkyImage007170805.JPG', '034d2dd2-AllSkyImage007074111.JPG', 'dea38e46-AllSkyImage007040460.JPG', 'e69b8556-AllSkyImage007073850.JPG', '36794df2-AllSkyImage007072760.JPG', '80287077-AllSkyImage007039495.JPG', 'e6ff1793-AllSkyImage007072804.JPG', '0cec89b8-AllSkyImage007074973.JPG', 'bf436e71-AllSkyImage007072444.JPG', '62442a64-AllSkyImage007071292.JPG', '42b3eb8f-AllSkyImage007171293.JPG', '1a5a8c5b-AllSkyImage007074495.JPG', '48f4ac05-AllSkyImage007074110.JPG', '27b74a09-AllSkyImage007073994.JPG', 'ce0f5c58-AllSkyImage007170864.JPG', '926ab735-AllSkyImage007072611.JPG', '846d05d4-AllSkyImage007071290.JPG', '7745e4db-AllSkyImage007040500.JPG', 'e857174f-AllSkyImage007040498.JPG', '4f0ff6d8-AllSkyImage007040287.JPG', '2185f0bb-AllSkyImage007073999.JPG', '024cad37-AllSkyImage007038393.JPG', '46023452-AllSkyImage007075000.JPG', '6053af01-AllSkyImage007072397.JPG', 'd6047922-AllSkyImage007074171.JPG', '402a5e02-AllSkyImage007072501.JPG', '3b7bf7f5-AllSkyImage007040305.JPG', 'aa7b72bb-AllSkyImage007074972.JPG', 'afd9b6ce-AllSkyImage007171038.JPG', 'ad0bdc2f-AllSkyImage007037742.JPG', '67327add-AllSkyImage007037618.JPG', '99ef0c56-AllSkyImage007040665.JPG', '9f4a0935-AllSkyImage007039257.JPG', 'b24aa7e5-AllSkyImage007071093.JPG', '05b8231a-AllSkyImage007074435.JPG', '71ee28db-AllSkyImage007071401.JPG', '9997cf2e-AllSkyImage007073918.JPG', 'd19a152d-AllSkyImage007056694.JPG', '340733da-AllSkyImage007040445.JPG', '51db271c-AllSkyImage007073880.JPG', 'c09295b3-AllSkyImage007071014.JPG', '9143060a-AllSkyImage007073577.JPG', '3dbc035a-AllSkyImage007072254.JPG', 'fe8267d6-AllSkyImage007038366.JPG', '612be1e3-AllSkyImage007071186.JPG', 'cccc7ed0-AllSkyImage007171278.JPG', 'a00dda5d-AllSkyImage007073961.JPG', 'ae96ec1d-AllSkyImage007071105.JPG', '9469d23d-AllSkyImage007071106.JPG', '688ae6c2-AllSkyImage007127952.JPG', '15b3712f-AllSkyImage007127808.JPG', '75b06cf6-AllSkyImage007074034.JPG', 'ae090320-AllSkyImage007071350.JPG', '9db570dd-AllSkyImage007171014.JPG', '87c60939-AllSkyImage007071792.JPG', 'c871a13e-AllSkyImage007039208.JPG', '98e92665-AllSkyImage007074956.JPG', '6456f89f-AllSkyImage007071392.JPG', 'cfa84dda-AllSkyImage007073818.JPG', '00733eb3-AllSkyImage007055591.JPG', 'a58dd26b-AllSkyImage007071000.JPG', '8c82e48f-AllSkyImage007039540.JPG', '9f2d35f7-AllSkyImage007040354.JPG', 'e7708f7d-AllSkyImage007072375.JPG', '494c4885-AllSkyImage007170807.JPG', '84b877b6-AllSkyImage007071361.JPG', '63c6de4a-AllSkyImage007039277.JPG', '99ef62de-AllSkyImage007074532.JPG', '24e7d6a4-AllSkyImage007039436.JPG', '0e86f4c7-AllSkyImage007071329.JPG', '01a19ecb-AllSkyImage007038089.JPG', 'd5040e13-AllSkyImage007071114.JPG', 'b243f105-AllSkyImage007171039.JPG', 'd0c955fb-AllSkyImage007127538.JPG', '323902ef-AllSkyImage007040288.JPG', '55446b72-AllSkyImage007127783.JPG', 'bfca9fdc-AllSkyImage007037728.JPG', 'd461f45b-AllSkyImage007071351.JPG', '186257fd-AllSkyImage007039345.JPG', 'd41e1254-AllSkyImage007039509.JPG', '793bd16a-AllSkyImage007073688.JPG', '0b92aa21-AllSkyImage007040787.JPG', '4fb32176-AllSkyImage007073845.JPG', '7a7bb06e-AllSkyImage007072599.JPG', '9164e94a-AllSkyImage007071794.JPG', '33562bee-AllSkyImage007075002.JPG', '75f726b9-AllSkyImage007040611.JPG', '922aac9a-AllSkyImage007072649.JPG', '9bc9462e-AllSkyImage007071080.JPG', 'cbfd7aca-AllSkyImage007071337.JPG', '0cbf6958-AllSkyImage007075105.JPG', 'c21a06fa-AllSkyImage007037547.JPG', '3e9dbe56-AllSkyImage007075094.JPG', 'b0b20756-AllSkyImage007072715.JPG', '25b4ca8f-AllSkyImage007071037.JPG', '67f74171-AllSkyImage007072529.JPG', '736f36cd-AllSkyImage007055271.JPG', '9c0b6736-AllSkyImage007171209.JPG', '8c094675-AllSkyImage007072673.JPG', '9f110a2d-AllSkyImage007073945.JPG', '17522ea4-AllSkyImage007073689.JPG', 'f074b004-AllSkyImage007171071.JPG', '4b4afa66-AllSkyImage007073686.JPG', '9a943c19-AllSkyImage007073970.JPG', '4122c697-AllSkyImage007073573.JPG', 'e45b8ce7-AllSkyImage007074266.JPG', 'd0dd22fc-AllSkyImage007170990.JPG', '26d62209-AllSkyImage007170669.JPG', 'cff65a8c-AllSkyImage007071327.JPG', '6e6ac051-AllSkyImage007040360.JPG', 'c46f9e2b-AllSkyImage007073731.JPG', '24f0c14d-AllSkyImage007170729.JPG', 'e552454d-AllSkyImage007072552.JPG', '83de476f-AllSkyImage007171190.JPG', 'a42c7f76-AllSkyImage007040771.JPG', '6739dad4-AllSkyImage007072670.JPG', 'dadd03e7-AllSkyImage007037666.JPG', 'b9ee734c-AllSkyImage007074060.JPG', 'aa78383d-AllSkyImage007039725.JPG', '55f4353d-AllSkyImage007072536.JPG', '1575179a-AllSkyImage007039695.JPG', 'fa3af730-AllSkyImage007039400.JPG', 'b1a76d23-AllSkyImage007071477.JPG', '1e16b17f-AllSkyImage007071187.JPG', '6f7241cb-AllSkyImage007073908.JPG', '9506726b-AllSkyImage007071051.JPG', 'aad305fb-AllSkyImage007040578.JPG', 'b46ecee5-AllSkyImage007037575.JPG', 'abf8f8d4-AllSkyImage007037700.JPG', '14edd118-AllSkyImage007074014.JPG', '44412fe7-AllSkyImage007072316.JPG', 'f2b062df-AllSkyImage007170871.JPG', '26e3b350-AllSkyImage007037512.JPG', '22a812ad-AllSkyImage007037540.JPG', '31b7d9c9-AllSkyImage007055590.JPG', '4c1e279c-AllSkyImage007072319.JPG', '2a70c2ff-AllSkyImage007075073.JPG', '3e85ede8-AllSkyImage007171041.JPG', 'cd263f7c-AllSkyImage007056571.JPG', 'e3298c44-AllSkyImage007038144.JPG', '933e9829-AllSkyImage007073626.JPG', '2270ff59-AllSkyImage007170901.JPG', '68f0816f-AllSkyImage007037482.JPG', '89b59274-AllSkyImage007055326.JPG', 'd9745858-AllSkyImage007038285.JPG', '4b700a17-AllSkyImage007171265.JPG', '7a5ccd23-AllSkyImage007038634.JPG', '1fced624-AllSkyImage007073672.JPG', '97dc2b46-AllSkyImage007073907.JPG', '7edccc1c-AllSkyImage007040504.JPG', 'd9c6d525-AllSkyImage007170940.JPG', '998f64a6-AllSkyImage007071092.JPG', '87d120ea-AllSkyImage007040803.JPG', '1ce99b0c-AllSkyImage007039486.JPG', 'db1a2c7a-AllSkyImage007037591.JPG', '18034868-AllSkyImage007170738.JPG', '016badb4-AllSkyImage007073884.JPG', 'f191453e-AllSkyImage007040617.JPG', '66a2e42b-AllSkyImage007039217.JPG', '9308ef91-AllSkyImage007040515.JPG', '563d004d-AllSkyImage007040332.JPG', 'c987091b-AllSkyImage007073566.JPG', '34b7d0ad-AllSkyImage007073752.JPG', '5cf779dd-AllSkyImage007074174.JPG', '82482e5d-AllSkyImage007170777.JPG', 'd6cb0eba-AllSkyImage007072601.JPG', '9cae2620-AllSkyImage007071248.JPG', '250de2af-AllSkyImage007055227.JPG', '498e4ac2-AllSkyImage007071223.JPG', 'fc141d3b-AllSkyImage007073936.JPG', '4dfbb148-AllSkyImage007073953.JPG', '52ca510a-AllSkyImage007072426.JPG', '2d10326b-AllSkyImage007127870.JPG', '43a813be-AllSkyImage007039624.JPG', '354d5101-AllSkyImage007073816.JPG', '2406cc49-AllSkyImage007055254.JPG', '54919e20-AllSkyImage007056740.JPG', 'ae313f11-AllSkyImage007055475.JPG', 'fb91e5b5-AllSkyImage007071008.JPG', '82ed1fe9-AllSkyImage007075106.JPG', '3a8c894b-AllSkyImage007073967.JPG', '0b7dd836-AllSkyImage007170744.JPG', '6ded0dab-AllSkyImage007075079.JPG', 'fd9e0ffb-AllSkyImage007073657.JPG', 'e2fc4684-AllSkyImage007040619.JPG', 'a14bad0e-AllSkyImage007072538.JPG', '18c4c02a-AllSkyImage007040565.JPG', '4f84ce7b-AllSkyImage007055278.JPG', '252175da-AllSkyImage007171081.JPG', 'af93c868-AllSkyImage007071348.JPG', '29b0e7e2-AllSkyImage007073798.JPG', '46f63679-AllSkyImage007073946.JPG', '6522db4d-AllSkyImage007074323.JPG', '171c3a96-AllSkyImage007072793.JPG', '6daee53d-AllSkyImage007038218.JPG', '8535d9f6-AllSkyImage007071174.JPG', '5faa27cb-AllSkyImage007171140.JPG', '39e62464-AllSkyImage007039185.JPG', '4f429fda-AllSkyImage007039252.JPG', '1c582dad-AllSkyImage007071463.JPG', '14b39a61-AllSkyImage007039510.JPG', '5608a7e5-AllSkyImage007039387.JPG', '929893d9-AllSkyImage007071034.JPG', '11ca6cff-AllSkyImage007038273.JPG', '27150339-AllSkyImage007071403.JPG', '4fbc3650-AllSkyImage007055248.JPG', 'a5963318-AllSkyImage007073849.JPG', 'da565414-AllSkyImage007072586.JPG', '63287771-AllSkyImage007040520.JPG', '050f2876-AllSkyImage007072447.JPG', 'ee53d5f5-AllSkyImage007039140.JPG', '01bde452-AllSkyImage007170881.JPG', '6499511d-AllSkyImage007039450.JPG', '4665857a-AllSkyImage007074100.JPG', '9c9a682a-AllSkyImage007038271.JPG', 'dec07fc0-AllSkyImage007074980.JPG', 'eb53e3b3-AllSkyImage007040282.JPG', 'd06d98dd-AllSkyImage007075066.JPG', '9d99ef11-AllSkyImage007038225.JPG', '761bd128-AllSkyImage007071250.JPG', '89e245f2-AllSkyImage007039207.JPG', '5ce7118b-AllSkyImage007171051.JPG', '983cc61e-AllSkyImage007071222.JPG', '40561636-AllSkyImage007038124.JPG', '82e32281-AllSkyImage007127782.JPG', '1051f090-AllSkyImage007170788.JPG', 'b057e9ad-AllSkyImage007072535.JPG', '88d84e82-AllSkyImage007040568.JPG', '9575aac9-AllSkyImage007037585.JPG', '148444c1-AllSkyImage007039153.JPG', 'f7be3432-AllSkyImage007073937.JPG', 'd258c2ac-AllSkyImage007038272.JPG', '3bf1a6fd-AllSkyImage007072714.JPG', '3a1e0da1-AllSkyImage007073646.JPG', '64a9d412-AllSkyImage007127839.JPG', '4f833317-AllSkyImage007074054.JPG', '093a1b10-AllSkyImage007040766.JPG', '84618b2c-AllSkyImage007071317.JPG', 'a9cbd9bc-AllSkyImage007056535.JPG', '69486adc-AllSkyImage007072459.JPG', '50b8b87f-AllSkyImage007055460.JPG', '5cd5a14b-AllSkyImage007039654.JPG', '7fedf901-AllSkyImage007072635.JPG', 'e7b96acd-AllSkyImage007073591.JPG', '37e1718a-AllSkyImage007072398.JPG', 'dc724e01-AllSkyImage007071359.JPG', '57b62ad1-AllSkyImage007037748.JPG', '34a35c5c-AllSkyImage007073902.JPG', '315cd1c1-AllSkyImage007038242.JPG', '6a89ed0d-AllSkyImage007040466.JPG', 'e6a1def0-AllSkyImage007073914.JPG', 'a9f113d5-AllSkyImage007074000.JPG', 'a0d1d38c-AllSkyImage007074496.JPG', 'a395080a-AllSkyImage007074158.JPG', 'f1092fd9-AllSkyImage007075030.JPG', '51ee97be-AllSkyImage007037747.JPG', 'b8ccb7eb-AllSkyImage007171178.JPG', 'e1fdf0ba-AllSkyImage007170886.JPG', 'aeb398b9-AllSkyImage007072500.JPG', '3dbb0626-AllSkyImage007127838.JPG', '4eb37b85-AllSkyImage007039369.JPG', '9728902f-AllSkyImage007071879.JPG', '4f527803-AllSkyImage007037609.JPG', '63d2e08c-AllSkyImage007170987.JPG', 'b72c1470-AllSkyImage007037476.JPG', 'dc1f768b-AllSkyImage007040662.JPG', 'c6ecc733-AllSkyImage007039398.JPG', '70744601-AllSkyImage007072272.JPG', 'ebb3134f-AllSkyImage007072613.JPG', '52383760-AllSkyImage007037743.JPG', 'cfb8616a-AllSkyImage007073841.JPG', '50ac5c1b-AllSkyImage007037586.JPG', '9a4b28e4-AllSkyImage007075216.JPG', 'd229b429-AllSkyImage007039175.JPG', '73d0a210-AllSkyImage007038355.JPG', '17a537cf-AllSkyImage007127560_2.JPG', '15b18c28-AllSkyImage007072694.JPG', 'd34a0001-AllSkyImage007040577.JPG', '02c098bb-AllSkyImage007039194.JPG', '6478571b-AllSkyImage007170698.JPG', '0573b7cc-AllSkyImage007038033.JPG', '89ae78a1-AllSkyImage007072286.JPG', 'da246b48-AllSkyImage007073790.JPG', '98920ae7-AllSkyImage007040643.JPG', '0a457fc0-AllSkyImage007072818.JPG', '85ca915f-AllSkyImage007040761.JPG', 'dfb72c55-AllSkyImage007170770.JPG', '4b314425-AllSkyImage007170831.JPG', 'b1d024fc-AllSkyImage007071326.JPG', 'b46cbbde-AllSkyImage007039338.JPG', '3818a5a4-AllSkyImage007073940.JPG', '0074e073-AllSkyImage007071402.JPG', '329bfb0d-AllSkyImage007038632.JPG', '10e06c74-AllSkyImage007071171.JPG', '71474a07-AllSkyImage007039184.JPG', '469d817f-AllSkyImage007170988.JPG', 'e0f1c9b7-AllSkyImage007073935.JPG', '46108379-AllSkyImage007072614.JPG', 'c381abb0-AllSkyImage007038409.JPG', '38390222-AllSkyImage007171246.JPG', 'c94901fb-AllSkyImage007073613.JPG', '5c1f71aa-AllSkyImage007039389.JPG', 'bc8e67c8-AllSkyImage007071468.JPG', 'a7637116-AllSkyImage007072589.JPG', '381d6531-AllSkyImage007071273.JPG', '86099eb1-AllSkyImage007055294.JPG', '0b2cff38-AllSkyImage007171102.JPG', '7ed601fe-AllSkyImage007071149.JPG', '8a9586d5-AllSkyImage007071224.JPG', 'db8b2088-AllSkyImage007040608.JPG', '8bcc7896-AllSkyImage007071170.JPG', '7288dd4b-AllSkyImage007073785.JPG', 'eaecf728-AllSkyImage007055605.JPG', '013aa42b-AllSkyImage007055265.JPG', '6e6bd61e-AllSkyImage007170986.JPG', '64bbb5af-AllSkyImage007038143.JPG', 'aa64576e-AllSkyImage007071188.JPG', '4df23a74-AllSkyImage007037483.JPG', '78b7a15f-AllSkyImage007073652.JPG', '6abb4654-AllSkyImage007055296.JPG', '475e2223-AllSkyImage007040664.JPG', 'a3398d00-AllSkyImage007171028.JPG', '7bdef1c7-AllSkyImage007073611.JPG', '4461b77c-AllSkyImage007071010.JPG', '583ded47-AllSkyImage007037641.JPG', '70be1828-AllSkyImage007040259.JPG', '03334613-AllSkyImage007075031.JPG', 'ec45487f-AllSkyImage007127809.JPG', 'c7b6098f-AllSkyImage007073904.JPG', '9e3803c7-AllSkyImage007071524.JPG', 'a3cf883a-AllSkyImage007038255.JPG', '9d21718a-AllSkyImage007073928.JPG', '84d9ed40-AllSkyImage007040760.JPG', 'f375bfdc-AllSkyImage007071384.JPG', '4cc3ba5d-AllSkyImage007071065.JPG', 'ce6cf17b-AllSkyImage007039367.JPG', '4130e8ad-AllSkyImage007073784.JPG', 'e73c30dd-AllSkyImage007073777.JPG', '2a2374d5-AllSkyImage007073903.JPG', '41f53820-AllSkyImage007073590.JPG', '0eaf0436-AllSkyImage007039125.JPG', '44eb8c11-AllSkyImage007075174.JPG', 'f2215817-AllSkyImage007171052.JPG', '1ffdd516-AllSkyImage007071611.JPG', 'a0c5879b-AllSkyImage007072427.JPG', '50daf49f-AllSkyImage007074322.JPG', '704eac63-AllSkyImage007039543.JPG', '59f962ed-AllSkyImage007073683.JPG', '77f8922a-AllSkyImage007071467.JPG', '0e1d1d2b-AllSkyImage007073827.JPG', '4f615070-AllSkyImage007171213.JPG', '05c22db0-AllSkyImage007040805.JPG', '8552bcf4-AllSkyImage007037735.JPG', '95925d60-AllSkyImage007127559.JPG', '92949009-AllSkyImage007071336.JPG', 'f764431b-AllSkyImage007171027.JPG', '240b2d5e-AllSkyImage007039248.JPG', '36d9f2bb-AllSkyImage007071038.JPG', '3e689c13-AllSkyImage007040802.JPG', '37d8724b-AllSkyImage007055237.JPG', '728b473d-AllSkyImage007039262.JPG', 'e3727963-AllSkyImage007071135.JPG', 'e908b769-AllSkyImage007072790.JPG', '1e62ceea-AllSkyImage007074068.JPG', '18d22a1a-AllSkyImage007072843.JPG', '5a793718-AllSkyImage007075183.JPG', '7ad337c6-AllSkyImage007071410.JPG', '4325e844-AllSkyImage007072351.JPG', 'ec8b3189-AllSkyImage007055225.JPG', 'a29c1392-AllSkyImage007171248.JPG', '2c4f71ad-AllSkyImage007171192.JPG', '1f97b648-AllSkyImage007039132.JPG', '1f6ad1f4-AllSkyImage007127941.JPG', '476aff15-AllSkyImage007040642.JPG', '59d98276-AllSkyImage007072678.JPG', 'd4d50e79-AllSkyImage007073576.JPG', '70e68189-AllSkyImage007040525.JPG', '7fbcb84b-AllSkyImage007075071.JPG', '4b776c86-AllSkyImage007037626.JPG', '23edbc3c-AllSkyImage007171166.JPG', '84afe9b0-AllSkyImage007073651.JPG', 'c71e88c9-AllSkyImage007074999.JPG', '7897fd67-AllSkyImage007071391.JPG', 'c356139c-AllSkyImage007071161.JPG', '55b5fbc2-AllSkyImage007071023.JPG', '006ed7e0-AllSkyImage007170706.JPG', 'aefb83f5-AllSkyImage007073650.JPG', '74025d95-AllSkyImage007073647.JPG', 'fe8da856-AllSkyImage007055536.JPG', 'f71644a6-AllSkyImage007037697.JPG', '39a1adb1-AllSkyImage007037707.JPG', '1cdfb1e7-AllSkyImage007038208.JPG', '0cb8a306-AllSkyImage007071895.JPG', '88ddc8bf-AllSkyImage007073888.JPG', '840e9df7-AllSkyImage007040663.JPG', '3daf5e4e-AllSkyImage007038707.JPG', '298fd424-AllSkyImage007072441.JPG', 'f4e11068-AllSkyImage007071036.JPG', '709c9184-AllSkyImage007040301.JPG', 'b56b2376-AllSkyImage007071362.JPG', '081e6952-AllSkyImage007037503.JPG', 'ba119b66-AllSkyImage007040640.JPG', 'f395096e-AllSkyImage007055295.JPG', 'f9071b15-AllSkyImage007073947.JPG', '460e614e-AllSkyImage007040334.JPG', 'dd75576d-AllSkyImage007039263.JPG', '02d9e46e-AllSkyImage007074984.JPG', 'd86cc8a4-AllSkyImage007071027.JPG', '31006e18-AllSkyImage007073705.JPG', '2020f757-AllSkyImage007040735.JPG', '95be83ef-AllSkyImage007040606.JPG', 'b8884deb-AllSkyImage007073649.JPG', 'c683f40a-AllSkyImage007073848.JPG', '9caa602f-AllSkyImage007071293.JPG', '1277f52c-AllSkyImage007037623.JPG', 'b57a1a2a-AllSkyImage007040660.JPG', '6972c4e0-AllSkyImage007127753.JPG', '689a3cdf-AllSkyImage007075165.JPG', 'd5d40644-AllSkyImage007075056.JPG', '33f49b6f-AllSkyImage007074145.JPG', '6685dd3d-AllSkyImage007071877.JPG', '2c02f6d7-AllSkyImage007039307.JPG', 'c9422602-AllSkyImage007040260.JPG', '63cf31eb-AllSkyImage007071464.JPG', '24f896ac-AllSkyImage007037527.JPG', 'efeaf12f-AllSkyImage007055634.JPG', 'fe552202-AllSkyImage007074044.JPG', '9549cbea-AllSkyImage007073573.JPG', '746e2966-AllSkyImage007055582.JPG', '449d4f45-AllSkyImage007039346.JPG', 'ae6deb8a-AllSkyImage007040505.JPG', 'b021864c-AllSkyImage007127540.JPG', '30e9d499-AllSkyImage007072755.JPG', '9877b794-AllSkyImage007072792.JPG', 'f921b335-AllSkyImage007075076.JPG', 'def20531-AllSkyImage007039424.JPG', '1babbe18-AllSkyImage007073942.JPG', '629ed47c-AllSkyImage007037593.JPG', '732c4417-AllSkyImage007039232.JPG', 'cf52d897-AllSkyImage007040383.JPG', 'a408c9e2-AllSkyImage007171009.JPG', 'c3278ac1-AllSkyImage007072775.JPG', 'd4a9c051-AllSkyImage007038129.JPG', 'ae51b25f-AllSkyImage007071063.JPG', '5a4491ca-AllSkyImage007071026.JPG', 'cfcc3bdf-AllSkyImage007072478.JPG', '3a90fe8b-AllSkyImage007072320.JPG', '654ce5ab-AllSkyImage007040316.JPG', 'd8dd6983-AllSkyImage007037471.JPG', 'bda62e72-AllSkyImage007039126.JPG', 'cc27409a-AllSkyImage007170664.JPG', '380f1c80-AllSkyImage007039154.JPG', 'a014864a-AllSkyImage007073746.JPG', '6aae6036-AllSkyImage007040621.JPG', 'b0bee7b1-AllSkyImage007037592.JPG', '60a56e1f-AllSkyImage007040517.JPG', 'f9a52af1-AllSkyImage007039727.JPG', '058f9fe6-AllSkyImage007071366.JPG', '2a12c81a-AllSkyImage007072377.JPG', 'f326514e-AllSkyImage007040659.JPG', '9eda1e95-AllSkyImage007073751.JPG', 'c962401b-AllSkyImage007170696.JPG', '2e38390b-AllSkyImage007170792.JPG', '73a1dedb-AllSkyImage007171040.JPG', 'd7e2558c-AllSkyImage007170668.JPG', '00aa267e-AllSkyImage007039372.JPG', '0ad71ea1-AllSkyImage007170647.JPG', 'ac5d8157-AllSkyImage007071115.JPG', 'e68a539d-AllSkyImage007038257.JPG', 'f9087737-AllSkyImage007071339.JPG', '60563257-AllSkyImage007039412.JPG', '21b75e22-AllSkyImage007072630.JPG', '845d21e9-AllSkyImage007073732.JPG', '04c25932-AllSkyImage007075170.JPG', '7b7e7e0f-AllSkyImage007071827.JPG', '0c5fb185-AllSkyImage007071612.JPG', '8720e2f4-AllSkyImage007073844.JPG', '8e6e30a7-AllSkyImage007171296.JPG', '3cea9628-AllSkyImage007037439.JPG', '2246b164-AllSkyImage007071002.JPG', 'f56db9cf-AllSkyImage007075218.JPG', '1942dc3f-AllSkyImage007040768.JPG', '43fe52c8-AllSkyImage007073612.JPG', '90c6b4a6-AllSkyImage007074955.JPG', '9bf4636d-AllSkyImage007040328.JPG', '804fced7-AllSkyImage007071314.JPG', '984c00f9-AllSkyImage007127669.JPG', '9a8313eb-AllSkyImage007071382.JPG', '477e430c-AllSkyImage007073897.JPG', '8c267634-AllSkyImage007071444.JPG', '2825ecf6-AllSkyImage007039158.JPG', 'd35938f3-AllSkyImage007055280.JPG', '03a18f39-AllSkyImage007039134.JPG', 'bb664c61-AllSkyImage007039243.JPG', '9a520066-AllSkyImage007073660.JPG', '7b922b06-AllSkyImage007039231.JPG', 'babb3954-AllSkyImage007074162.JPG', '32c270fd-AllSkyImage007040618.JPG', '20500119-AllSkyImage007073913.JPG', '2ed7638c-AllSkyImage007073834.JPG', '7abd76f4-AllSkyImage007075184.JPG', '2d65bdf2-AllSkyImage007171043.JPG', '16a41bc3-AllSkyImage007039406.JPG', 'e3f6a1bf-AllSkyImage007073717.JPG', '9719b54c-AllSkyImage007170786.JPG', '0258030e-AllSkyImage007072366.JPG', '23837a92-AllSkyImage007071289.JPG', 'e5005604-AllSkyImage007039347.JPG', 'ea434bbc-AllSkyImage007072602.JPG', 'f5fd061e-AllSkyImage007071324.JPG', 'a7976053-AllSkyImage007056548.JPG', 'd0d35741-AllSkyImage007071374.JPG', '7446e587-AllSkyImage007039371.JPG', '7b4269a9-AllSkyImage007073664.JPG', '96e8462b-AllSkyImage007039128.JPG', '6a17f5f5-AllSkyImage007171167.JPG', '12d3ead4-AllSkyImage007039331.JPG', '3334cd1c-AllSkyImage007055378.JPG', 'f7d40ddd-AllSkyImage007075193.JPG', 'e86fb480-AllSkyImage007038263.JPG', 'c29064cb-AllSkyImage007037701.JPG', 'c4f44892-AllSkyImage007037709.JPG', '374b227e-AllSkyImage007071407.JPG', 'bb2aee5c-AllSkyImage007073811.JPG', '0f7519ec-AllSkyImage007170700.JPG', '678c2d79-AllSkyImage007040329.JPG', 'ba65a286-AllSkyImage007072496.JPG', '0920986e-AllSkyImage007072798.JPG', '9af2e94b-AllSkyImage007055251-1.JPG', '6467bea9-AllSkyImage007040252.JPG', '028ffbaa-AllSkyImage007170739.JPG', '4a31eb70-AllSkyImage007075116.JPG', '7753af18-AllSkyImage007055476.JPG', 'fe041f0c-AllSkyImage007071829.JPG', '53456f9b-AllSkyImage007038309.JPG', 'b8c7c31b-AllSkyImage007073998.JPG', '4dafd6a0-AllSkyImage007038492.JPG', 'efe6e596-AllSkyImage007073794.JPG', 'ad0ffa44-AllSkyImage007171191.JPG', 'fa862128-AllSkyImage007037596.JPG', '7dd7cb98-AllSkyImage007074092.JPG', '698411b9-AllSkyImage007170889.JPG', 'cc20fa01-AllSkyImage007071062.JPG', '1823e6d1-AllSkyImage007074041.JPG', '889ce4e4-AllSkyImage007038282.JPG', 'bef9462b-AllSkyImage007039156.JPG', '387ebc30-AllSkyImage007075072.JPG', 'fb65c0c3-AllSkyImage007037599.JPG', 'c33e4c66-AllSkyImage007039508.JPG', '6014e55c-AllSkyImage007073799.JPG', '1f5229c4-AllSkyImage007072609.JPG', 'b02b4910-AllSkyImage007037725.JPG', '74e6cfa6-AllSkyImage007039213.JPG', '45f4e8ac-AllSkyImage007037488.JPG', '9a8974bf-AllSkyImage007040384.JPG', '263b9ee2-AllSkyImage007040374.JPG', 'd1dcf129-AllSkyImage007039304.JPG', '348230fe-AllSkyImage007055244.JPG', '85d6b8bc-AllSkyImage007056617.JPG', '72e4cc77-AllSkyImage007055263.JPG', 'd3e2f800-AllSkyImage007040373.JPG', '2c5ca341-AllSkyImage007040624.JPG', 'd0a9804e-AllSkyImage007038075.JPG', 'f5decdcf-AllSkyImage007071176.JPG', '51f431fc-AllSkyImage007072371.JPG', '18e45a9a-AllSkyImage007170965.JPG', 'ea562d0a-AllSkyImage007037427.JPG', '6a7c5b9d-AllSkyImage007037706.JPG', '39707942-AllSkyImage007038035.JPG', 'e61dff22-AllSkyImage007073662.JPG', '4eb26d2a-AllSkyImage007040562.JPG', 'ca52622e-AllSkyImage007072255.JPG', '981942ca-AllSkyImage007071230.JPG', '7a135425-AllSkyImage007037667.JPG', '2bfbb4f2-AllSkyImage007073906.JPG', '2c30388f-AllSkyImage007072666.JPG', 'd63513c9-AllSkyImage007170966.JPG', 'db3cf19a-AllSkyImage007039127.JPG', '5daa63e1-AllSkyImage007073809.JPG', '4036b799-AllSkyImage007074010.JPG', 'a93fb9e1-AllSkyImage007072317.JPG', '345db2ed-AllSkyImage007075192.JPG', 'bc90b8cd-AllSkyImage007073645.JPG', '750288d4-AllSkyImage007071215.JPG', 'e382f3e7-AllSkyImage007040333.JPG', '633e30db-AllSkyImage007072693.JPG', 'c09c2aca-AllSkyImage007074498.JPG', '7cfbc262-AllSkyImage007072439.JPG', '70b2f25a-AllSkyImage007072692.JPG', '6aabcff2-AllSkyImage007073745.JPG', '66ce0f1e-AllSkyImage007071275.JPG', '12a2271d-AllSkyImage007072436.JPG', 'f71eb56e-AllSkyImage007073749.JPG', 'a1f92c2f-AllSkyImage007072302.JPG', '72641df6-AllSkyImage007127605.JPG', '09ff3530-AllSkyImage007127670_2.JPG', '44ffe989-AllSkyImage007072417.JPG', 'a61389ea-AllSkyImage007072627.JPG', '08e99161-AllSkyImage007073824.JPG', '62e0f420-AllSkyImage007074497.JPG', 'c5fe855a-AllSkyImage007056695.JPG', '1d98bb2b-AllSkyImage007073950.JPG', 'fd74657f-AllSkyImage007038390.JPG', '56ca9add-AllSkyImage007073814.JPG', '4e324264-AllSkyImage007073923.JPG', '41e3be6b-AllSkyImage007040692.JPG', '7d21a187-AllSkyImage007073569.JPG', 'e5291e3f-AllSkyImage007075021.JPG', 'a2a38b24-AllSkyImage007040406.JPG', 'e15bb51e-AllSkyImage007055491.JPG', '1d515e32-AllSkyImage007072350.JPG', 'afda18c8-AllSkyImage007075085.JPG', '1fd98f8a-AllSkyImage007040309.JPG', 'ce00e1d8-AllSkyImage007037466.JPG', '7bf7256e-AllSkyImage007073842.JPG', '753ef04c-AllSkyImage007073614.JPG', 'e57d5744-AllSkyImage007073934.JPG', '1ab6b20e-AllSkyImage007040382.JPG', '00101801-AllSkyImage007055630.JPG', 'f5c9d88b-AllSkyImage007127814.JPG', 'b88d0324-AllSkyImage007056735.JPG', '773314ad-AllSkyImage007037595.JPG', '241706bc-AllSkyImage007038490.JPG', '28e50fa0-AllSkyImage007055288.JPG', 'db0581bb-AllSkyImage007071116.JPG', 'ae0abc03-AllSkyImage007040307.JPG', '337ba48a-AllSkyImage007072829.JPG', 'c0259cb0-AllSkyImage007038365.JPG', '2a2a4a86-AllSkyImage007073796.JPG', 'ebfed955-AllSkyImage007038506.JPG', '9bb3298f-AllSkyImage007039225.JPG', '654e3173-AllSkyImage007040529.JPG', '8f923e5b-AllSkyImage007073887.JPG', '82d5b6ce-AllSkyImage007073714.JPG', 'e377c4d4-AllSkyImage007071466.JPG', '49215aa3-AllSkyImage007039305.JPG', '0af99825-AllSkyImage007073783.JPG', '90aa2692-AllSkyImage007171008.JPG', 'a3d899f2-AllSkyImage007040492.JPG', '2b250481-AllSkyImage007072334.JPG', '5100e0b1-AllSkyImage007071144.JPG', '49d81346-AllSkyImage007073641.JPG', '08ff57eb-AllSkyImage007073757.JPG', 'fee39146-AllSkyImage007075029.JPG', '75bf3f77-AllSkyImage007071461.JPG', 'f62bcc29-AllSkyImage007072402.JPG', '9ebde4a6-AllSkyImage007040283.JPG', '9d65e49d-AllSkyImage007075063.JPG', 'f41536c7-AllSkyImage007072389.JPG', 'a9def2df-AllSkyImage007075167.JPG', 'dae80ea9-AllSkyImage007071122.JPG', '5563bf35-AllSkyImage007056708.JPG', 'f808c4c6-AllSkyImage007075054.JPG', '92ad9a6a-AllSkyImage007037465.JPG', '8aa4b289-AllSkyImage007075173.JPG', 'd211f575-AllSkyImage007071001.JPG', '4e5e42ef-AllSkyImage007040472.JPG', 'f7cfb9c8-AllSkyImage007073090.JPG', '9353dc48-AllSkyImage007171114.JPG', '4d44fbb3-AllSkyImage007072442.JPG', 'c440791d-AllSkyImage007071323.JPG', '5880bb5a-AllSkyImage007056530.JPG', 'cb333dfa-AllSkyImage007039245.JPG', 'e561bf06-AllSkyImage007040281.JPG', 'eab01d05-AllSkyImage007040767.JPG', '6b978ea0-AllSkyImage007127810.JPG', '96259e67-AllSkyImage007037521.JPG', 'cab39b7d-AllSkyImage007039449.JPG', '52f93d86-AllSkyImage007071347.JPG', 'e32b39f9-AllSkyImage007074042.JPG', 'a1e2eddf-AllSkyImage007072629.JPG', '21292405-AllSkyImage007073715.JPG', '3388e9ad-AllSkyImage007170742.JPG', '1bc4c8eb-AllSkyImage007073758.JPG', '78cd5f15-AllSkyImage007170982.JPG', 'd7ec43dc-AllSkyImage007072777.JPG', '96388778-AllSkyImage007075198.JPG', '9e2fc9db-AllSkyImage007056531.JPG', 'c8e15baf-AllSkyImage007072615.JPG', '758e2dff-AllSkyImage007072619.JPG', '456b9eba-AllSkyImage007073659.JPG', '4e626960-AllSkyImage007171208.JPG', '80960a07-AllSkyImage007171249.JPG', 'ef310a7f-AllSkyImage007071411.JPG', '614b7d17-AllSkyImage007074981.JPG', '5d05067e-AllSkyImage007038254.JPG', '7a7578cb-AllSkyImage007073724.JPG', '00fd143a-AllSkyImage007072753.JPG', '7d0206fb-AllSkyImage007075203.JPG', '30eed34f-AllSkyImage007072542.JPG', 'f51ce0af-AllSkyImage007073922.JPG', '9337f449-AllSkyImage007071052.JPG', '105112d1-AllSkyImage007037464.JPG', 'e11b2794-AllSkyImage007075201.JPG', '2ff6e5c6-AllSkyImage007072494.JPG', '7a881c08-AllSkyImage007075200.JPG', 'c8646643-AllSkyImage007039218.JPG', '7d62923e-AllSkyImage007074094.JPG', '81bec065-AllSkyImage007071368.JPG', 'cba74da0-AllSkyImage007073804.JPG', '53f72564-AllSkyImage007040468.JPG', '5e202c41-AllSkyImage007038531.JPG', '094ed999-AllSkyImage007071003.JPG', '7397cda6-AllSkyImage007055537.JPG', '4da1f90d-AllSkyImage007040502.JPG', '12ce1608-AllSkyImage007038074.JPG', 'e1dc18d5-AllSkyImage007071004.JPG', 'b13bb76f-AllSkyImage007037714.JPG', '26eadb12-AllSkyImage007037433.JPG', 'c3eecb2c-AllSkyImage007038090.JPG', '1b1c05fd-AllSkyImage007056726.JPG', '5ee388bd-AllSkyImage007074161.JPG', 'ba7ac105-AllSkyImage007037694.JPG', '3fdef526-AllSkyImage007071375.JPG', '9f3abf06-AllSkyImage007039368.JPG', '7db3ef1e-AllSkyImage007170709.JPG', '0ccaf9fb-AllSkyImage007071319.JPG', '377fd867-AllSkyImage007127870_2.JPG', '6406a497-AllSkyImage007073549.JPG', '606bb8e9-AllSkyImage007073736.JPG', '8740d5ef-AllSkyImage007075025.JPG', '76ba6315-AllSkyImage007075118.JPG', '1d630740-AllSkyImage007039433.JPG', 'c52f7d1e-AllSkyImage007170844.JPG', '113f2306-AllSkyImage007073930.JPG', '4b517621-AllSkyImage007072665.JPG', 'cb4ad82b-AllSkyImage007073828.JPG', 'e8c6c9f1-AllSkyImage007038043.JPG', '4e043c0b-AllSkyImage007073756.JPG', '52f76561-AllSkyImage007038188.JPG', 'a4fa6cec-AllSkyImage007071465.JPG', 'daf261d7-AllSkyImage007075172.JPG', '0866db47-AllSkyImage007074159.JPG', '90b2e887-AllSkyImage007040319.JPG', 'afe6791a-AllSkyImage007072830.JPG', '1dea767e-AllSkyImage007055293.JPG', 'c12c2d28-AllSkyImage007170793.JPG', 'ab9aef6f-AllSkyImage007075211.JPG', '016659a8-AllSkyImage007037668.JPG', '7007762a-AllSkyImage007037665.JPG', '2ec7a756-AllSkyImage007073653.JPG', 'e0bcec8d-AllSkyImage007040610.JPG', '0c9afe6e-AllSkyImage007073921.JPG', '6a3c7120-AllSkyImage007170867.JPG', '62b3313d-AllSkyImage007170697.JPG', '5fd2ef9d-AllSkyImage007072395.JPG', '9f04bea6-AllSkyImage007073813.JPG', 'd70c0fe3-AllSkyImage007070991.JPG', 'b2a05c8d-AllSkyImage007055247.JPG', '3ffcd506-AllSkyImage007127837.JPG', '699d08a8-AllSkyImage007071355.JPG', 'eaa96211-AllSkyImage007071386.JPG', '4cec7916-AllSkyImage007039186.JPG', 'da43ffb7-AllSkyImage007073912.JPG', '5d3f4a3b-AllSkyImage007072428.JPG', '1e12b132-AllSkyImage007071364.JPG', '28b84426-AllSkyImage007039327.JPG', 'd723cae1-AllSkyImage007071089.JPG', '3e2f2a06-AllSkyImage007038179.JPG', '6c0a7fc4-AllSkyImage007039308.JPG', 'c6c065ec-AllSkyImage007039408.JPG', 'f420b41e-AllSkyImage007037484.JPG', '470cab48-AllSkyImage007073960.JPG', '16fe978e-AllSkyImage007038034.JPG', '3459b8a2-AllSkyImage007040353.JPG', 'f5a6adc5-AllSkyImage007170959.JPG', '0347c33a-AllSkyImage007073764.JPG', '82c94daf-AllSkyImage007038108.JPG', '027c61cd-AllSkyImage007071377.JPG', 'c062f5ee-AllSkyImage007073815.JPG', '57acda22-AllSkyImage007074265.JPG', '51dfc927-AllSkyImage007037461.JPG', '9127f0eb-AllSkyImage007071353.JPG', 'd5666df7-AllSkyImage007039193.JPG', '32965fa4-AllSkyImage007073807.JPG', '95aaee0e-AllSkyImage007056550.JPG', 'a3f02511-AllSkyImage007038159.JPG', 'fea88615-AllSkyImage007038088.JPG', 'b1409914-AllSkyImage007073761.JPG', '28f5999a-AllSkyImage007040772.JPG', '3bda4370-AllSkyImage007071378.JPG', '40a3eea1-AllSkyImage007055249.JPG', '477fa4e6-AllSkyImage007055246.JPG', '240aca7f-AllSkyImage007039493.JPG', 'dce76274-AllSkyImage007170848.JPG', 'f901bc26-AllSkyImage007127811.JPG', 'e5513640-AllSkyImage007071825.JPG', '6bb850ab-AllSkyImage007071316.JPG', '7d16172b-AllSkyImage007072543.JPG', '28f5a41c-AllSkyImage007072462.JPG', '4fe5a3f6-AllSkyImage007072713.JPG', 'cfe8f6f4-AllSkyImage007040770.JPG', 'd15a74be-AllSkyImage007040490.JPG', '8f228b54-AllSkyImage007038025.JPG', '9372f2a6-AllSkyImage007055433.JPG', '19c02eb3-AllSkyImage007071225.JPG', '775ffd46-AllSkyImage007072368.JPG', '824244dd-AllSkyImage007171044.JPG', 'fe27dbab-AllSkyImage007075202.JPG', 'e26aba05-AllSkyImage007073590.JPG', '6ecfe521-AllSkyImage007039261.JPG', 'd2709c1f-AllSkyImage007074099.JPG', '0cb13c3a-AllSkyImage007039328.JPG', 'df94728b-AllSkyImage007072676.JPG', '02f93398-AllSkyImage007071354.JPG', '7f70aeb9-AllSkyImage007127752.JPG', 'f3de782e-AllSkyImage007170769.JPG', '67d6c8aa-AllSkyImage007038410.JPG', '624a2974-AllSkyImage007072597.JPG', 'a0d3d8a3-AllSkyImage007037669.JPG', '7465014e-AllSkyImage007038491.JPG', 'ea567dd8-AllSkyImage007170912.JPG', '5875f47f-AllSkyImage007071309.JPG', 'abbf339f-AllSkyImage007071183.JPG', '09112591-AllSkyImage007072440.JPG', '19422d14-AllSkyImage007170833.JPG', '26d88d3d-AllSkyImage007038224.JPG', '1af574e6-AllSkyImage007073733.JPG', '6067e34b-AllSkyImage007072448.JPG', 'b65785cc-AllSkyImage007073551.JPG', '8eb975db-AllSkyImage007171138.JPG', 'ababd50f-AllSkyImage007072550.JPG', '59c04b51-AllSkyImage007037537.JPG', '12a9204d-AllSkyImage007037732.JPG', '5e361f3f-AllSkyImage007071247.JPG', '431a890e-AllSkyImage007055651.JPG', '9e7ce10b-AllSkyImage007072617.JPG', '19a718c4-AllSkyImage007075028.JPG', 'c2bf6af7-AllSkyImage007074954.JPG', '9793097e-AllSkyImage007075065.JPG', 'cae552fc-AllSkyImage007075189.JPG', 'e10528b0-AllSkyImage007073810.JPG', '40911c14-AllSkyImage007039385.JPG', '6694679f-AllSkyImage007075148.JPG', '4176439d-AllSkyImage007039323.JPG', '9873357b-AllSkyImage007073800.JPG', 'c2ac2dff-AllSkyImage007071195.JPG', 'b6a1d94b-AllSkyImage007071064.JPG', '9cfe8761-AllSkyImage007037429.JPG', '5e0b5431-AllSkyImage007072502.JPG', 'dd8b6815-AllSkyImage007071011.JPG', '8b5c1acf-AllSkyImage007171100.JPG', 'b69f7430-AllSkyImage007039423.JPG', 'fd74d2e6-AllSkyImage007075047.JPG', '0cfb9c70-AllSkyImage007072591.JPG', 'd231439c-AllSkyImage007075117.JPG', '90404149-AllSkyImage007127560.JPG', '166044a6-AllSkyImage007037541.JPG', 'b1bcf04f-AllSkyImage007072391.JPG', 'a1528a59-AllSkyImage007071078.JPG', 'fc13613f-AllSkyImage007074043.JPG', 'cb23a984-AllSkyImage007037708.JPG', 'bf19fa91-AllSkyImage007071091.JPG', '05b76a6f-AllSkyImage007072610.JPG', '11bb5ff3-AllSkyImage007039253.JPG', 'c91ad06b-AllSkyImage007040516.JPG', '34a4f020-AllSkyImage007171215.JPG', '28434e2e-AllSkyImage007071338.JPG', '9c79d42d-AllSkyImage007170789.JPG', '13d442c4-AllSkyImage007170865.JPG', '1c92c92f-AllSkyImage007037500.JPG', '32043bb6-AllSkyImage007037594.JPG', 'a1c7a88d-AllSkyImage007040308.JPG', 'b5bd92ba-AllSkyImage007072495.JPG', 'ff35474e-AllSkyImage007073805.JPG', '9d7c5177-AllSkyImage007072703.JPG', '7fa1b344-AllSkyImage007072283.JPG', '8136525a-AllSkyImage007127670.JPG', '83c64529-AllSkyImage007040616.JPG', '532a0cf6-AllSkyImage007074088.JPG', 'be4e2cce-AllSkyImage007072527.JPG', '8dc2f45f-AllSkyImage007171271.JPG', '7309edaa-AllSkyImage007071482.JPG', '1336aeca-AllSkyImage007074001.JPG', '7534e02c-AllSkyImage007171270.JPG', 'bbcc4db3-AllSkyImage007039234.JPG', '666042c4-AllSkyImage007073565.JPG', 'f69929c2-AllSkyImage007074958.JPG', '344c1908-AllSkyImage007075019.JPG', 'fb2d8c86-AllSkyImage007040521.JPG', '0631004f-AllSkyImage007040604.JPG', 'fcbc3a90-AllSkyImage007171212.JPG', '7be629de-AllSkyImage007073545.JPG', 'e66c3619-AllSkyImage007071241.JPG', '459f02b8-AllSkyImage007039410.JPG', 'a58e6c86-AllSkyImage007038310.JPG', '8dc4788b-AllSkyImage007072712.JPG', '49bcab2e-AllSkyImage007040785.JPG', 'd56f1460-AllSkyImage007038277.JPG', '04a05504-AllSkyImage007075005.JPG', '38c9aaa6-AllSkyImage007038412.JPG', '5abf83a2-AllSkyImage007071218_2.JPG', '2f82b25e-AllSkyImage007038145.JPG', 'c0b066ad-AllSkyImage007073741.JPG', '37e8b353-AllSkyImage007071079.JPG', '78031ba6-AllSkyImage007074113.JPG', 'a7764670-AllSkyImage007037736.JPG', '22b2f566-AllSkyImage007071370.JPG', '7074d6d8-AllSkyImage007073943.JPG', '416d4f58-AllSkyImage007040559.JPG', 'd93d763b-AllSkyImage007071371.JPG', '04215e70-AllSkyImage007071127.JPG', 'f1e30945-AllSkyImage007039422.JPG', 'f266baeb-AllSkyImage007071472.JPG', 'd2651614-AllSkyImage007072451.JPG', 'd14160c5-AllSkyImage007071291.JPG', '5a93f01a-AllSkyImage007074096.JPG', '689e0adb-AllSkyImage007074032.JPG', '5be423f2-AllSkyImage007040736.JPG', 'e2fb126c-AllSkyImage007039310.JPG', '4f97b8f0-AllSkyImage007038394.JPG', '713c1f73-AllSkyImage007170931.JPG', 'a3c5d72b-AllSkyImage007073883.JPG', 'd258116d-AllSkyImage007073836.JPG', '048c0e19-AllSkyImage007040677.JPG', '86ce4939-AllSkyImage007040622.JPG', '8b1cae8e-AllSkyImage007170830.JPG', '9cc90f31-AllSkyImage007039285.JPG', '4ae9ae0b-AllSkyImage007074535.JPG', '67d4e840-AllSkyImage007072528.JPG', '3f2b6436-AllSkyImage007075169.JPG', '8df696ba-AllSkyImage007040378.JPG', '13467202-AllSkyImage007038574.JPG', 'df26576f-AllSkyImage007039321.JPG', '741b5a7e-AllSkyImage007037624.JPG', 'e78c31de-AllSkyImage007037475.JPG', 'd8abf3f1-AllSkyImage007071383.JPG', '0f323c65-AllSkyImage007072587.JPG', 'c00afbab-AllSkyImage007071175.JPG', '3941ab5f-AllSkyImage007072330.JPG', '18f83eac-AllSkyImage007075058.JPG', 'bbb9b12c-AllSkyImage007071191.JPG', '115e4a95-AllSkyImage007071087.JPG', '2197c0fb-AllSkyImage007073833.JPG', 'f765629c-AllSkyImage007073979.JPG', '2f4309be-AllSkyImage007038283.JPG', 'faba7bda-AllSkyImage007072540.JPG', '1270674a-AllSkyImage007072388.JPG', '1c703bd0-AllSkyImage007073625.JPG', '4975efd4-AllSkyImage007037724.JPG', '00c814e6-AllSkyImage007072385.JPG', 'af189cda-AllSkyImage007039259.JPG', 'e766abc8-AllSkyImage007073821.JPG', 'ce84eb36-AllSkyImage007127867.JPG', 'f892a413-AllSkyImage007056766.JPG', '54c9e711-AllSkyImage007072616.JPG', 'dc9e54e6-AllSkyImage007040791.JPG', '6295cc4b-AllSkyImage007073627.JPG', '9c51fd17-AllSkyImage007038142.JPG', '8431e0f4-AllSkyImage007075219.JPG', '5247aca0-AllSkyImage007170652.JPG', '0668fda8-AllSkyImage007170801.JPG', 'c1f0957d-AllSkyImage007072321.JPG', 'd67189c9-AllSkyImage007073737.JPG', '796108b1-AllSkyImage007074012.JPG', '9af09379-AllSkyImage007071330.JPG', '9c0f9885-AllSkyImage007040491.JPG', '74af7370-AllSkyImage007072446.JPG', '179a9ef3-AllSkyImage007072817.JPG', 'a64ec0d7-AllSkyImage007037546.JPG', '8ac0e34b-AllSkyImage007071678.JPG', 'f5129844-AllSkyImage007071218.JPG', 'fd4cc6c6-AllSkyImage007039146.JPG', 'ec0716d3-AllSkyImage007055434.JPG', 'd83efbe4-AllSkyImage007038171.JPG', '008887e2-AllSkyImage007040620.JPG', '9accd5db-AllSkyImage007072453.JPG', '1cfb8b45-AllSkyImage007071053.JPG', 'f520aed3-AllSkyImage007127840.JPG', 'ebd7265a-AllSkyImage007037511.JPG', 'aa1eb090-AllSkyImage007037664.JPG', 'fb3da18b-AllSkyImage007072273.JPG', 'f99a15b4-AllSkyImage007071433.JPG', 'e162c877-AllSkyImage007071253.JPG', 'b193590d-AllSkyImage007071793.JPG', 'fc68423c-AllSkyImage007037729.JPG', '3e101cb3-AllSkyImage007039155.JPG', '02be16cd-AllSkyImage007074288.JPG', '62caf9e5-AllSkyImage007055662.JPG', '9a040b97-AllSkyImage007073748.JPG', '7c2ad973-AllSkyImage007073835.JPG', 'a7f0e64b-AllSkyImage007039190.JPG', 'd1d5e064-AllSkyImage007171070.JPG', 'd482e0c2-AllSkyImage007072675.JPG', '5c2d9f5c-AllSkyImage007071088.JPG', '3f4d902d-AllSkyImage007075196.JPG', '8c8adb29-AllSkyImage007038284.JPG', 'e640834c-AllSkyImage007171267.JPG', '221ffe50-AllSkyImage007073591.JPG', '6fb862d4-AllSkyImage007171165.JPG', '4ef5b260-AllSkyImage007039395.JPG', '1799e874-AllSkyImage007074953.JPG', '41b92b40-AllSkyImage007170743.JPG', '9e81a76b-AllSkyImage007070982.JPG', '70d28252-AllSkyImage007038141.JPG', 'c63e391d-AllSkyImage007039432.JPG', '43bdf945-AllSkyImage007073959.JPG', '959ff3c2-AllSkyImage007071381.JPG', '34b2bd3f-AllSkyImage007039696.JPG', 'ac0b44fa-AllSkyImage007170860.JPG', 'b837e639-AllSkyImage007071022.JPG', '3272a4f8-AllSkyImage007039494.JPG', '6e4d9ef0-AllSkyImage007072294.JPG', '0edcc37e-AllSkyImage007171294.JPG', '00a86d01-AllSkyImage007170989.JPG', 'c47ed637-AllSkyImage007037607.JPG', '3ea96b89-AllSkyImage007071006.JPG', 'c3190b3f-AllSkyImage007071680.JPG', 'aefe426b-AllSkyImage007071117.JPG', '73207cf1-AllSkyImage007171015.JPG', 'd5ee3312-AllSkyImage007073568.JPG', 'dba88808-AllSkyImage007071288.JPG', '9ffd95a2-AllSkyImage007040804.JPG', 'ea497efd-AllSkyImage007040567.JPG', 'acd152ea-AllSkyImage007071679.JPG', '1ea75541-AllSkyImage007075195.JPG', '8522daa8-AllSkyImage007071274.JPG', '52e713ac-AllSkyImage007074056.JPG', 'e7cd1e45-AllSkyImage007039220.JPG', '25ab4134-AllSkyImage007075171.JPG', '0ff2fd74-AllSkyImage007039233.JPG', '5a386c0a-AllSkyImage007075147.JPG', '79fd9650-AllSkyImage007071136.JPG', '5db88565-AllSkyImage007040326.JPG', 'e7d288f9-AllSkyImage007072454.JPG', '7c040416-AllSkyImage007039699.JPG', '0b50272c-AllSkyImage007127942.JPG', '6238beb6-AllSkyImage007072460.JPG', '56fd4d44-AllSkyImage007170853.JPG', '57a04af9-AllSkyImage007071009.JPG', '379449b0-AllSkyImage007039309.JPG', 'ca0d0892-AllSkyImage007072382.JPG', 'cf28db13-AllSkyImage007055366.JPG', 'c6600d72-AllSkyImage007073851.JPG', 'ce1516c0-AllSkyImage007170711.JPG', '62e2e8ca-AllSkyImage007038307.JPG', 'e20e57e0-AllSkyImage007071356.JPG', 'c7c4a6a0-AllSkyImage007039324.JPG', 'c52fe907-AllSkyImage007171177.JPG', '3ef1a7d2-AllSkyImage007072405.JPG', '23bac835-AllSkyImage007056765.JPG', '43159753-AllSkyImage007072608.JPG', '1b69ed94-AllSkyImage007073879.JPG', '4d2ecb32-AllSkyImage007075146.JPG', 'f4b2aef0-AllSkyImage007071125.JPG', '35201cf4-AllSkyImage007040349.JPG', 'f558666d-AllSkyImage007039256.JPG', '99c4da3a-AllSkyImage007073909.JPG', 'ba93469b-AllSkyImage007039411.JPG', 'd1fb9ce8-AllSkyImage007072680.JPG', '1358c4aa-AllSkyImage007074108.JPG', '45a789ff-AllSkyImage007071276.JPG', '3ae32525-AllSkyImage007038042.JPG', 'e8562021-AllSkyImage007075104.JPG', 'da07e2f0-AllSkyImage007040658.JPG', '42470dc8-AllSkyImage007072776.JPG', 'a6cf41d0-AllSkyImage007071358.JPG', '38ff96db-AllSkyImage007056537.JPG', 'b34cd10f-AllSkyImage007073911.JPG', '9630e5c6-AllSkyImage007071367.JPG', 'ddb6159f-AllSkyImage007070999.JPG', '751604ce-AllSkyImage007071312.JPG', 'e60911d7-AllSkyImage007171073.JPG', 'ff599da1-AllSkyImage007039329.JPG', 'e047c0b4-AllSkyImage007073576.JPG', '776c8c4d-AllSkyImage007037602.JPG', 'dbc8e438-AllSkyImage007170929.JPG', 'b0779cf8-AllSkyImage007170728.JPG', 'b858098e-AllSkyImage007170983.JPG', '8fc19f7f-AllSkyImage007072754.JPG', 'edd32fef-AllSkyImage007171139.JPG', '70d2927b-AllSkyImage007170699.JPG', '29ef31af-AllSkyImage007039336.JPG', 'ca479208-AllSkyImage007074173.JPG', '5adaf3ee-AllSkyImage007170880.JPG', '8cf64aa6-AllSkyImage007073702.JPG', '578fb374-AllSkyImage007072612.JPG', 'b4b5b4a6-AllSkyImage007127784.JPG', 'eeab4a5e-AllSkyImage007037737.JPG', 'a6597031-AllSkyImage007075180.JPG', '54a4a20c-AllSkyImage007075003.JPG', '82ba312c-AllSkyImage007055631.JPG', '72bd2d6b-AllSkyImage007073915.JPG', 'e8aaa07d-AllSkyImage007075093.JPG', '884aa9d5-AllSkyImage007037430.JPG', '49e6df9c-AllSkyImage007039698.JPG', '6d2f5010-AllSkyImage007073788.JPG', '11500561-AllSkyImage007039399.JPG', '6ae11ba1-AllSkyImage007039273.JPG', '37cd0a3d-AllSkyImage007039388.JPG', '9a42cb67-AllSkyImage007171250.JPG', '2124b020-AllSkyImage007037434.JPG', '9a4175fc-AllSkyImage007072455.JPG', '29adb57c-AllSkyImage007073685.JPG', '10a16234-AllSkyImage007072378.JPG', 'b1847328-AllSkyImage007073952.JPG', 'c1985779-AllSkyImage007073729.JPG', '4c659757-AllSkyImage007038392.JPG', 'a4eea1e0-AllSkyImage007055238.JPG', 'b21ebbb7-AllSkyImage007037620.JPG', '66eef7a4-AllSkyImage007170768.JPG', '61c145fc-AllSkyImage007039352.JPG', 'ef413deb-AllSkyImage007039188.JPG', 'abe7476d-AllSkyImage007072450.JPG', 'f96a786a-AllSkyImage007039655.JPG', 'd9dd87bd-AllSkyImage007171072.JPG', 'b8ba6a3d-AllSkyImage007170663.JPG', '92137ccc-AllSkyImage007071301.JPG', '787386f7-AllSkyImage007170794.JPG', 'ba16e213-AllSkyImage007171050.JPG', '0aa0cd25-AllSkyImage007072799.JPG', 'e3cd4082-AllSkyImage007071141.JPG', '304b292e-AllSkyImage007075181.JPG', '71bd7eab-AllSkyImage007037432.JPG', '098691a9-AllSkyImage007040465.JPG', '870e2b01-AllSkyImage007073574.JPG', 'e1678f8b-AllSkyImage007037467.JPG', '7f05c9f2-AllSkyImage007171183.JPG', '1ef29171-AllSkyImage007073792.JPG', 'd562d08d-AllSkyImage007040605.JPG', '7d549314-AllSkyImage007039435.JPG', '04c8e287-AllSkyImage007040317.JPG', '79687f82-AllSkyImage007074090.JPG', '41b2c98a-AllSkyImage007071313.JPG', 'feb406bf-AllSkyImage007073856.JPG', '34d9e21b-AllSkyImage007072650.JPG', '7500eaae-AllSkyImage007074146.JPG', '3f3bf93e-AllSkyImage007072373.JPG', 'dc124dd2-AllSkyImage007038635.JPG', '226d75b9-AllSkyImage007072284.JPG', '5b85bd61-AllSkyImage007075084.JPG', '9a961072-AllSkyImage007040614.JPG', '26fe9d25-AllSkyImage007037497.JPG', '7162f156-AllSkyImage007038178.JPG', 'eb09923b-AllSkyImage007074011.JPG', 'c8354a31-AllSkyImage007038128.JPG', 'ef5fca2b-AllSkyImage007038262.JPG', 'bf2a797f-AllSkyImage007170918.JPG', 'e9503bbe-AllSkyImage007038241.JPG', '13705ce8-AllSkyImage007071445.JPG', '83bedf9d-AllSkyImage007072404.JPG', 'c87fb036-AllSkyImage007039222.JPG', '84f8247e-AllSkyImage007072384.JPG', 'c83dca40-AllSkyImage007039287.JPG', '7c9bf55a-AllSkyImage007038411.JPG', '1f4ca36c-AllSkyImage007040564.JPG', '3dba0a20-AllSkyImage007075018.JPG', '73e2635d-AllSkyImage007055459.JPG', 'fe988847-AllSkyImage007040523.JPG', '96eda1a0-AllSkyImage007072332.JPG', 'b1ff2099-AllSkyImage007127869.JPG', '7ad5ac36-AllSkyImage007040783.JPG', '7e8e91be-AllSkyImage007055438.JPG', '298e5100-AllSkyImage007071124.JPG', 'a911304e-AllSkyImage007039337.JPG', 'c51fcfc7-AllSkyImage007040613.JPG', '2eca12cd-AllSkyImage007040769.JPG', 'b47db7cf-AllSkyImage007040641.JPG', 'ce1e3cd6-AllSkyImage007039694.JPG', '0db9f9ab-AllSkyImage007073648.JPG', '6fb8effa-AllSkyImage007075069.JPG', '3d6c3750-AllSkyImage007055663.JPG', '8ea1a8bb-AllSkyImage007039326.JPG', '9e77b556-AllSkyImage007040325.JPG', '7a06a1f0-AllSkyImage007071484.JPG', '9f997ebc-AllSkyImage007071372.JPG', 'a665f132-AllSkyImage007075215.JPG', '55179a1b-AllSkyImage007074998.JPG', 'd0450421-AllSkyImage007073671.JPG', '9d47293a-AllSkyImage007073642.JPG', '71890e8d-AllSkyImage007074065.JPG', '78ccda87-AllSkyImage007072778.JPG', 'b119b573-AllSkyImage007170887.JPG', '4fa52162-AllSkyImage007055483.JPG', '65e46229-AllSkyImage007072531.JPG', '430d82ea-AllSkyImage007072626.JPG', 'd5647fda-AllSkyImage007074013.JPG', 'cd2b9f09-AllSkyImage007127950.JPG', '138089cd-AllSkyImage007040496.JPG', '380cb827-AllSkyImage007075112.JPG', 'f750bf8e-AllSkyImage007037625.JPG', 'ef2eaaaa-AllSkyImage007040467.JPG', 'da677f0c-AllSkyImage007072805.JPG', '04e3e77b-AllSkyImage007055252.JPG', '62d59eac-AllSkyImage007073882.JPG', '9be3844f-AllSkyImage007170662.JPG', '024861a4-AllSkyImage007127606.JPG', 'fb5f2296-AllSkyImage007070985.JPG', 'f4a4358d-AllSkyImage007040306.JPG']\n",
            "size of training set 1562\n",
            "size of testing set 391\n",
            "Overall Number of Images Input into Model: 1953\n"
          ]
        }
      ]
    },
    {
      "cell_type": "markdown",
      "metadata": {
        "id": "OLU-rs_ipfDE"
      },
      "source": [
        "#3. Download Tensorflow Object Detection API and Models"
      ]
    },
    {
      "cell_type": "code",
      "execution_count": null,
      "metadata": {
        "id": "iA1DIq5OpfDE",
        "colab": {
          "base_uri": "https://localhost:8080/"
        },
        "outputId": "1db5536d-3b6e-4fa9-f224-c4f15499ee41"
      },
      "outputs": [
        {
          "output_type": "stream",
          "name": "stdout",
          "text": [
            "Cloning into 'Tensorflow/models'...\n",
            "remote: Enumerating objects: 89900, done.\u001b[K\n",
            "remote: Counting objects: 100% (3608/3608), done.\u001b[K\n",
            "remote: Compressing objects: 100% (1935/1935), done.\u001b[K\n",
            "remote: Total 89900 (delta 1907), reused 3278 (delta 1635), pack-reused 86292\u001b[K\n",
            "Receiving objects: 100% (89900/89900), 606.57 MiB | 24.23 MiB/s, done.\n",
            "Resolving deltas: 100% (63818/63818), done.\n"
          ]
        }
      ],
      "source": [
        "#This downloads the object detection API\n",
        "if not os.path.exists(os.path.join(folderpaths['APIMODEL_PATH'], 'research', 'object_detection')):\n",
        "    !git clone https://github.com/tensorflow/models {folderpaths['APIMODEL_PATH']}"
      ]
    },
    {
      "cell_type": "code",
      "execution_count": null,
      "metadata": {
        "id": "rJjMHbnDs3Tv",
        "colab": {
          "base_uri": "https://localhost:8080/"
        },
        "outputId": "83928090-17a8-4ad0-a883-545375ffbaf2"
      },
      "outputs": [
        {
          "output_type": "stream",
          "name": "stdout",
          "text": [
            "Reading package lists... Done\n",
            "Building dependency tree... Done\n",
            "Reading state information... Done\n",
            "protobuf-compiler is already the newest version (3.12.4-1ubuntu7.22.04.1).\n",
            "0 upgraded, 0 newly installed, 0 to remove and 8 not upgraded.\n",
            "Processing /content/Tensorflow/models/research\n",
            "  Preparing metadata (setup.py) ... \u001b[?25l\u001b[?25hdone\n",
            "Collecting avro-python3 (from object-detection==0.1)\n",
            "  Downloading avro-python3-1.10.2.tar.gz (38 kB)\n",
            "  Preparing metadata (setup.py) ... \u001b[?25l\u001b[?25hdone\n",
            "Collecting apache-beam (from object-detection==0.1)\n",
            "  Downloading apache_beam-2.51.0-cp310-cp310-manylinux_2_17_x86_64.manylinux2014_x86_64.whl (14.7 MB)\n",
            "\u001b[2K     \u001b[90m━━━━━━━━━━━━━━━━━━━━━━━━━━━━━━━━━━━━━━━━\u001b[0m \u001b[32m14.7/14.7 MB\u001b[0m \u001b[31m70.0 MB/s\u001b[0m eta \u001b[36m0:00:00\u001b[0m\n",
            "\u001b[?25hRequirement already satisfied: pillow in /usr/local/lib/python3.10/dist-packages (from object-detection==0.1) (9.4.0)\n",
            "Requirement already satisfied: lxml in /usr/local/lib/python3.10/dist-packages (from object-detection==0.1) (4.9.3)\n",
            "Requirement already satisfied: matplotlib in /usr/local/lib/python3.10/dist-packages (from object-detection==0.1) (3.7.1)\n",
            "Requirement already satisfied: Cython in /usr/local/lib/python3.10/dist-packages (from object-detection==0.1) (3.0.5)\n",
            "Requirement already satisfied: contextlib2 in /usr/local/lib/python3.10/dist-packages (from object-detection==0.1) (21.6.0)\n",
            "Requirement already satisfied: tf-slim in /usr/local/lib/python3.10/dist-packages (from object-detection==0.1) (1.1.0)\n",
            "Requirement already satisfied: six in /usr/local/lib/python3.10/dist-packages (from object-detection==0.1) (1.16.0)\n",
            "Requirement already satisfied: pycocotools in /usr/local/lib/python3.10/dist-packages (from object-detection==0.1) (2.0.7)\n",
            "Collecting lvis (from object-detection==0.1)\n",
            "  Downloading lvis-0.5.3-py3-none-any.whl (14 kB)\n",
            "Requirement already satisfied: scipy in /usr/local/lib/python3.10/dist-packages (from object-detection==0.1) (1.11.3)\n",
            "Requirement already satisfied: pandas in /usr/local/lib/python3.10/dist-packages (from object-detection==0.1) (1.5.3)\n",
            "Collecting tf-models-official>=2.5.1 (from object-detection==0.1)\n",
            "  Downloading tf_models_official-2.15.0-py2.py3-none-any.whl (2.7 MB)\n",
            "\u001b[2K     \u001b[90m━━━━━━━━━━━━━━━━━━━━━━━━━━━━━━━━━━━━━━━━\u001b[0m \u001b[32m2.7/2.7 MB\u001b[0m \u001b[31m84.7 MB/s\u001b[0m eta \u001b[36m0:00:00\u001b[0m\n",
            "\u001b[?25hCollecting tensorflow_io (from object-detection==0.1)\n",
            "  Downloading tensorflow_io-0.34.0-cp310-cp310-manylinux_2_12_x86_64.manylinux2010_x86_64.whl (28.8 MB)\n",
            "\u001b[2K     \u001b[90m━━━━━━━━━━━━━━━━━━━━━━━━━━━━━━━━━━━━━━━━\u001b[0m \u001b[32m28.8/28.8 MB\u001b[0m \u001b[31m53.4 MB/s\u001b[0m eta \u001b[36m0:00:00\u001b[0m\n",
            "\u001b[?25hRequirement already satisfied: keras in /usr/local/lib/python3.10/dist-packages (from object-detection==0.1) (2.14.0)\n",
            "Collecting pyparsing==2.4.7 (from object-detection==0.1)\n",
            "  Downloading pyparsing-2.4.7-py2.py3-none-any.whl (67 kB)\n",
            "\u001b[2K     \u001b[90m━━━━━━━━━━━━━━━━━━━━━━━━━━━━━━━━━━━━━━━━\u001b[0m \u001b[32m67.8/67.8 kB\u001b[0m \u001b[31m9.1 MB/s\u001b[0m eta \u001b[36m0:00:00\u001b[0m\n",
            "\u001b[?25hCollecting sacrebleu<=2.2.0 (from object-detection==0.1)\n",
            "  Downloading sacrebleu-2.2.0-py3-none-any.whl (116 kB)\n",
            "\u001b[2K     \u001b[90m━━━━━━━━━━━━━━━━━━━━━━━━━━━━━━━━━━━━━━━━\u001b[0m \u001b[32m116.6/116.6 kB\u001b[0m \u001b[31m16.3 MB/s\u001b[0m eta \u001b[36m0:00:00\u001b[0m\n",
            "\u001b[?25hCollecting portalocker (from sacrebleu<=2.2.0->object-detection==0.1)\n",
            "  Downloading portalocker-2.8.2-py3-none-any.whl (17 kB)\n",
            "Requirement already satisfied: regex in /usr/local/lib/python3.10/dist-packages (from sacrebleu<=2.2.0->object-detection==0.1) (2023.6.3)\n",
            "Requirement already satisfied: tabulate>=0.8.9 in /usr/local/lib/python3.10/dist-packages (from sacrebleu<=2.2.0->object-detection==0.1) (0.9.0)\n",
            "Requirement already satisfied: numpy>=1.17 in /usr/local/lib/python3.10/dist-packages (from sacrebleu<=2.2.0->object-detection==0.1) (1.23.5)\n",
            "Collecting colorama (from sacrebleu<=2.2.0->object-detection==0.1)\n",
            "  Downloading colorama-0.4.6-py2.py3-none-any.whl (25 kB)\n",
            "Requirement already satisfied: gin-config in /usr/local/lib/python3.10/dist-packages (from tf-models-official>=2.5.1->object-detection==0.1) (0.5.0)\n",
            "Requirement already satisfied: google-api-python-client>=1.6.7 in /usr/local/lib/python3.10/dist-packages (from tf-models-official>=2.5.1->object-detection==0.1) (2.84.0)\n",
            "Collecting immutabledict (from tf-models-official>=2.5.1->object-detection==0.1)\n",
            "  Downloading immutabledict-3.0.0-py3-none-any.whl (4.0 kB)\n",
            "Requirement already satisfied: kaggle>=1.3.9 in /usr/local/lib/python3.10/dist-packages (from tf-models-official>=2.5.1->object-detection==0.1) (1.5.16)\n",
            "Requirement already satisfied: oauth2client in /usr/local/lib/python3.10/dist-packages (from tf-models-official>=2.5.1->object-detection==0.1) (4.1.3)\n",
            "Requirement already satisfied: opencv-python-headless in /usr/local/lib/python3.10/dist-packages (from tf-models-official>=2.5.1->object-detection==0.1) (4.8.1.78)\n",
            "Requirement already satisfied: psutil>=5.4.3 in /usr/local/lib/python3.10/dist-packages (from tf-models-official>=2.5.1->object-detection==0.1) (5.9.5)\n",
            "Requirement already satisfied: py-cpuinfo>=3.3.0 in /usr/local/lib/python3.10/dist-packages (from tf-models-official>=2.5.1->object-detection==0.1) (9.0.0)\n",
            "Requirement already satisfied: pyyaml>=6.0.0 in /usr/local/lib/python3.10/dist-packages (from tf-models-official>=2.5.1->object-detection==0.1) (6.0.1)\n",
            "Collecting sentencepiece (from tf-models-official>=2.5.1->object-detection==0.1)\n",
            "  Downloading sentencepiece-0.1.99-cp310-cp310-manylinux_2_17_x86_64.manylinux2014_x86_64.whl (1.3 MB)\n",
            "\u001b[2K     \u001b[90m━━━━━━━━━━━━━━━━━━━━━━━━━━━━━━━━━━━━━━━━\u001b[0m \u001b[32m1.3/1.3 MB\u001b[0m \u001b[31m82.4 MB/s\u001b[0m eta \u001b[36m0:00:00\u001b[0m\n",
            "\u001b[?25hCollecting seqeval (from tf-models-official>=2.5.1->object-detection==0.1)\n",
            "  Downloading seqeval-1.2.2.tar.gz (43 kB)\n",
            "\u001b[2K     \u001b[90m━━━━━━━━━━━━━━━━━━━━━━━━━━━━━━━━━━━━━━━━\u001b[0m \u001b[32m43.6/43.6 kB\u001b[0m \u001b[31m5.6 MB/s\u001b[0m eta \u001b[36m0:00:00\u001b[0m\n",
            "\u001b[?25h  Preparing metadata (setup.py) ... \u001b[?25l\u001b[?25hdone\n",
            "Requirement already satisfied: tensorflow-datasets in /usr/local/lib/python3.10/dist-packages (from tf-models-official>=2.5.1->object-detection==0.1) (4.9.3)\n",
            "Requirement already satisfied: tensorflow-hub>=0.6.0 in /usr/local/lib/python3.10/dist-packages (from tf-models-official>=2.5.1->object-detection==0.1) (0.15.0)\n",
            "Collecting tensorflow-model-optimization>=0.4.1 (from tf-models-official>=2.5.1->object-detection==0.1)\n",
            "  Downloading tensorflow_model_optimization-0.7.5-py2.py3-none-any.whl (241 kB)\n",
            "\u001b[2K     \u001b[90m━━━━━━━━━━━━━━━━━━━━━━━━━━━━━━━━━━━━━━━━\u001b[0m \u001b[32m241.2/241.2 kB\u001b[0m \u001b[31m27.3 MB/s\u001b[0m eta \u001b[36m0:00:00\u001b[0m\n",
            "\u001b[?25hCollecting tensorflow-text~=2.15.0 (from tf-models-official>=2.5.1->object-detection==0.1)\n",
            "  Downloading tensorflow_text-2.15.0-cp310-cp310-manylinux_2_17_x86_64.manylinux2014_x86_64.whl (5.2 MB)\n",
            "\u001b[2K     \u001b[90m━━━━━━━━━━━━━━━━━━━━━━━━━━━━━━━━━━━━━━━━\u001b[0m \u001b[32m5.2/5.2 MB\u001b[0m \u001b[31m64.1 MB/s\u001b[0m eta \u001b[36m0:00:00\u001b[0m\n",
            "\u001b[?25hCollecting tensorflow~=2.15.0 (from tf-models-official>=2.5.1->object-detection==0.1)\n",
            "  Downloading tensorflow-2.15.0-cp310-cp310-manylinux_2_17_x86_64.manylinux2014_x86_64.whl (475.2 MB)\n",
            "\u001b[2K     \u001b[90m━━━━━━━━━━━━━━━━━━━━━━━━━━━━━━━━━━━━━━━━\u001b[0m \u001b[32m475.2/475.2 MB\u001b[0m \u001b[31m2.8 MB/s\u001b[0m eta \u001b[36m0:00:00\u001b[0m\n",
            "\u001b[?25hRequirement already satisfied: python-dateutil>=2.8.1 in /usr/local/lib/python3.10/dist-packages (from pandas->object-detection==0.1) (2.8.2)\n",
            "Requirement already satisfied: pytz>=2020.1 in /usr/local/lib/python3.10/dist-packages (from pandas->object-detection==0.1) (2023.3.post1)\n",
            "Requirement already satisfied: absl-py>=0.2.2 in /usr/local/lib/python3.10/dist-packages (from tf-slim->object-detection==0.1) (1.4.0)\n",
            "Collecting crcmod<2.0,>=1.7 (from apache-beam->object-detection==0.1)\n",
            "  Downloading crcmod-1.7.tar.gz (89 kB)\n",
            "\u001b[2K     \u001b[90m━━━━━━━━━━━━━━━━━━━━━━━━━━━━━━━━━━━━━━━━\u001b[0m \u001b[32m89.7/89.7 kB\u001b[0m \u001b[31m11.4 MB/s\u001b[0m eta \u001b[36m0:00:00\u001b[0m\n",
            "\u001b[?25h  Preparing metadata (setup.py) ... \u001b[?25l\u001b[?25hdone\n",
            "Collecting orjson<4,>=3.9.7 (from apache-beam->object-detection==0.1)\n",
            "  Downloading orjson-3.9.10-cp310-cp310-manylinux_2_17_x86_64.manylinux2014_x86_64.whl (138 kB)\n",
            "\u001b[2K     \u001b[90m━━━━━━━━━━━━━━━━━━━━━━━━━━━━━━━━━━━━━━━━\u001b[0m \u001b[32m138.7/138.7 kB\u001b[0m \u001b[31m16.2 MB/s\u001b[0m eta \u001b[36m0:00:00\u001b[0m\n",
            "\u001b[?25hCollecting dill<0.3.2,>=0.3.1.1 (from apache-beam->object-detection==0.1)\n",
            "  Downloading dill-0.3.1.1.tar.gz (151 kB)\n",
            "\u001b[2K     \u001b[90m━━━━━━━━━━━━━━━━━━━━━━━━━━━━━━━━━━━━━━━━\u001b[0m \u001b[32m152.0/152.0 kB\u001b[0m \u001b[31m19.3 MB/s\u001b[0m eta \u001b[36m0:00:00\u001b[0m\n",
            "\u001b[?25h  Preparing metadata (setup.py) ... \u001b[?25l\u001b[?25hdone\n",
            "Requirement already satisfied: cloudpickle~=2.2.1 in /usr/local/lib/python3.10/dist-packages (from apache-beam->object-detection==0.1) (2.2.1)\n",
            "Collecting fastavro<2,>=0.23.6 (from apache-beam->object-detection==0.1)\n",
            "  Downloading fastavro-1.9.0-cp310-cp310-manylinux_2_17_x86_64.manylinux2014_x86_64.whl (3.1 MB)\n",
            "\u001b[2K     \u001b[90m━━━━━━━━━━━━━━━━━━━━━━━━━━━━━━━━━━━━━━━━\u001b[0m \u001b[32m3.1/3.1 MB\u001b[0m \u001b[31m73.1 MB/s\u001b[0m eta \u001b[36m0:00:00\u001b[0m\n",
            "\u001b[?25hCollecting fasteners<1.0,>=0.3 (from apache-beam->object-detection==0.1)\n",
            "  Downloading fasteners-0.19-py3-none-any.whl (18 kB)\n",
            "Requirement already satisfied: grpcio!=1.48.0,<2,>=1.33.1 in /usr/local/lib/python3.10/dist-packages (from apache-beam->object-detection==0.1) (1.59.2)\n",
            "Collecting hdfs<3.0.0,>=2.1.0 (from apache-beam->object-detection==0.1)\n",
            "  Downloading hdfs-2.7.3.tar.gz (43 kB)\n",
            "\u001b[2K     \u001b[90m━━━━━━━━━━━━━━━━━━━━━━━━━━━━━━━━━━━━━━━━\u001b[0m \u001b[32m43.5/43.5 kB\u001b[0m \u001b[31m6.1 MB/s\u001b[0m eta \u001b[36m0:00:00\u001b[0m\n",
            "\u001b[?25h  Preparing metadata (setup.py) ... \u001b[?25l\u001b[?25hdone\n",
            "Requirement already satisfied: httplib2<0.23.0,>=0.8 in /usr/local/lib/python3.10/dist-packages (from apache-beam->object-detection==0.1) (0.22.0)\n",
            "Collecting js2py<1,>=0.74 (from apache-beam->object-detection==0.1)\n",
            "  Downloading Js2Py-0.74-py3-none-any.whl (1.0 MB)\n",
            "\u001b[2K     \u001b[90m━━━━━━━━━━━━━━━━━━━━━━━━━━━━━━━━━━━━━━━━\u001b[0m \u001b[32m1.0/1.0 MB\u001b[0m \u001b[31m75.7 MB/s\u001b[0m eta \u001b[36m0:00:00\u001b[0m\n",
            "\u001b[?25hCollecting objsize<0.7.0,>=0.6.1 (from apache-beam->object-detection==0.1)\n",
            "  Downloading objsize-0.6.1-py3-none-any.whl (9.3 kB)\n",
            "Requirement already satisfied: packaging>=22.0 in /usr/local/lib/python3.10/dist-packages (from apache-beam->object-detection==0.1) (23.2)\n",
            "Collecting pymongo<5.0.0,>=3.8.0 (from apache-beam->object-detection==0.1)\n",
            "  Downloading pymongo-4.6.0-cp310-cp310-manylinux_2_17_x86_64.manylinux2014_x86_64.whl (677 kB)\n",
            "\u001b[2K     \u001b[90m━━━━━━━━━━━━━━━━━━━━━━━━━━━━━━━━━━━━━━━━\u001b[0m \u001b[32m677.1/677.1 kB\u001b[0m \u001b[31m48.0 MB/s\u001b[0m eta \u001b[36m0:00:00\u001b[0m\n",
            "\u001b[?25hRequirement already satisfied: proto-plus<2,>=1.7.1 in /usr/local/lib/python3.10/dist-packages (from apache-beam->object-detection==0.1) (1.22.3)\n",
            "Requirement already satisfied: protobuf!=4.0.*,!=4.21.*,!=4.22.0,!=4.23.*,!=4.24.0,!=4.24.1,!=4.24.2,<4.25.0,>=3.20.3 in /usr/local/lib/python3.10/dist-packages (from apache-beam->object-detection==0.1) (3.20.3)\n",
            "Requirement already satisfied: pydot<2,>=1.2.0 in /usr/local/lib/python3.10/dist-packages (from apache-beam->object-detection==0.1) (1.4.2)\n",
            "Requirement already satisfied: requests<3.0.0,>=2.24.0 in /usr/local/lib/python3.10/dist-packages (from apache-beam->object-detection==0.1) (2.31.0)\n",
            "Requirement already satisfied: typing-extensions>=3.7.0 in /usr/local/lib/python3.10/dist-packages (from apache-beam->object-detection==0.1) (4.5.0)\n",
            "Collecting zstandard<1,>=0.18.0 (from apache-beam->object-detection==0.1)\n",
            "  Downloading zstandard-0.22.0-cp310-cp310-manylinux_2_17_x86_64.manylinux2014_x86_64.whl (5.4 MB)\n",
            "\u001b[2K     \u001b[90m━━━━━━━━━━━━━━━━━━━━━━━━━━━━━━━━━━━━━━━━\u001b[0m \u001b[32m5.4/5.4 MB\u001b[0m \u001b[31m49.5 MB/s\u001b[0m eta \u001b[36m0:00:00\u001b[0m\n",
            "\u001b[?25hRequirement already satisfied: pyarrow<12.0.0,>=3.0.0 in /usr/local/lib/python3.10/dist-packages (from apache-beam->object-detection==0.1) (9.0.0)\n",
            "Requirement already satisfied: cycler>=0.10.0 in /usr/local/lib/python3.10/dist-packages (from lvis->object-detection==0.1) (0.12.1)\n",
            "Requirement already satisfied: kiwisolver>=1.1.0 in /usr/local/lib/python3.10/dist-packages (from lvis->object-detection==0.1) (1.4.5)\n",
            "Requirement already satisfied: opencv-python>=4.1.0.25 in /usr/local/lib/python3.10/dist-packages (from lvis->object-detection==0.1) (4.8.0.76)\n",
            "Requirement already satisfied: contourpy>=1.0.1 in /usr/local/lib/python3.10/dist-packages (from matplotlib->object-detection==0.1) (1.2.0)\n",
            "Requirement already satisfied: fonttools>=4.22.0 in /usr/local/lib/python3.10/dist-packages (from matplotlib->object-detection==0.1) (4.44.0)\n",
            "Requirement already satisfied: tensorflow-io-gcs-filesystem==0.34.0 in /usr/local/lib/python3.10/dist-packages (from tensorflow_io->object-detection==0.1) (0.34.0)\n",
            "Requirement already satisfied: google-auth<3.0.0dev,>=1.19.0 in /usr/local/lib/python3.10/dist-packages (from google-api-python-client>=1.6.7->tf-models-official>=2.5.1->object-detection==0.1) (2.17.3)\n",
            "Requirement already satisfied: google-auth-httplib2>=0.1.0 in /usr/local/lib/python3.10/dist-packages (from google-api-python-client>=1.6.7->tf-models-official>=2.5.1->object-detection==0.1) (0.1.1)\n",
            "Requirement already satisfied: google-api-core!=2.0.*,!=2.1.*,!=2.2.*,!=2.3.0,<3.0.0dev,>=1.31.5 in /usr/local/lib/python3.10/dist-packages (from google-api-python-client>=1.6.7->tf-models-official>=2.5.1->object-detection==0.1) (2.11.1)\n",
            "Requirement already satisfied: uritemplate<5,>=3.0.1 in /usr/local/lib/python3.10/dist-packages (from google-api-python-client>=1.6.7->tf-models-official>=2.5.1->object-detection==0.1) (4.1.1)\n",
            "Collecting docopt (from hdfs<3.0.0,>=2.1.0->apache-beam->object-detection==0.1)\n",
            "  Downloading docopt-0.6.2.tar.gz (25 kB)\n",
            "  Preparing metadata (setup.py) ... \u001b[?25l\u001b[?25hdone\n",
            "Requirement already satisfied: tzlocal>=1.2 in /usr/local/lib/python3.10/dist-packages (from js2py<1,>=0.74->apache-beam->object-detection==0.1) (5.2)\n",
            "Collecting pyjsparser>=2.5.1 (from js2py<1,>=0.74->apache-beam->object-detection==0.1)\n",
            "  Downloading pyjsparser-2.7.1.tar.gz (24 kB)\n",
            "  Preparing metadata (setup.py) ... \u001b[?25l\u001b[?25hdone\n",
            "Requirement already satisfied: certifi in /usr/local/lib/python3.10/dist-packages (from kaggle>=1.3.9->tf-models-official>=2.5.1->object-detection==0.1) (2023.7.22)\n",
            "Requirement already satisfied: tqdm in /usr/local/lib/python3.10/dist-packages (from kaggle>=1.3.9->tf-models-official>=2.5.1->object-detection==0.1) (4.66.1)\n",
            "Requirement already satisfied: python-slugify in /usr/local/lib/python3.10/dist-packages (from kaggle>=1.3.9->tf-models-official>=2.5.1->object-detection==0.1) (8.0.1)\n",
            "Requirement already satisfied: urllib3 in /usr/local/lib/python3.10/dist-packages (from kaggle>=1.3.9->tf-models-official>=2.5.1->object-detection==0.1) (2.0.7)\n",
            "Requirement already satisfied: bleach in /usr/local/lib/python3.10/dist-packages (from kaggle>=1.3.9->tf-models-official>=2.5.1->object-detection==0.1) (6.1.0)\n",
            "Collecting dnspython<3.0.0,>=1.16.0 (from pymongo<5.0.0,>=3.8.0->apache-beam->object-detection==0.1)\n",
            "  Downloading dnspython-2.4.2-py3-none-any.whl (300 kB)\n",
            "\u001b[2K     \u001b[90m━━━━━━━━━━━━━━━━━━━━━━━━━━━━━━━━━━━━━━━━\u001b[0m \u001b[32m300.4/300.4 kB\u001b[0m \u001b[31m31.5 MB/s\u001b[0m eta \u001b[36m0:00:00\u001b[0m\n",
            "\u001b[?25hRequirement already satisfied: charset-normalizer<4,>=2 in /usr/local/lib/python3.10/dist-packages (from requests<3.0.0,>=2.24.0->apache-beam->object-detection==0.1) (3.3.2)\n",
            "Requirement already satisfied: idna<4,>=2.5 in /usr/local/lib/python3.10/dist-packages (from requests<3.0.0,>=2.24.0->apache-beam->object-detection==0.1) (3.4)\n",
            "Requirement already satisfied: astunparse>=1.6.0 in /usr/local/lib/python3.10/dist-packages (from tensorflow~=2.15.0->tf-models-official>=2.5.1->object-detection==0.1) (1.6.3)\n",
            "Requirement already satisfied: flatbuffers>=23.5.26 in /usr/local/lib/python3.10/dist-packages (from tensorflow~=2.15.0->tf-models-official>=2.5.1->object-detection==0.1) (23.5.26)\n",
            "Requirement already satisfied: gast!=0.5.0,!=0.5.1,!=0.5.2,>=0.2.1 in /usr/local/lib/python3.10/dist-packages (from tensorflow~=2.15.0->tf-models-official>=2.5.1->object-detection==0.1) (0.5.4)\n",
            "Requirement already satisfied: google-pasta>=0.1.1 in /usr/local/lib/python3.10/dist-packages (from tensorflow~=2.15.0->tf-models-official>=2.5.1->object-detection==0.1) (0.2.0)\n",
            "Requirement already satisfied: h5py>=2.9.0 in /usr/local/lib/python3.10/dist-packages (from tensorflow~=2.15.0->tf-models-official>=2.5.1->object-detection==0.1) (3.9.0)\n",
            "Requirement already satisfied: libclang>=13.0.0 in /usr/local/lib/python3.10/dist-packages (from tensorflow~=2.15.0->tf-models-official>=2.5.1->object-detection==0.1) (16.0.6)\n",
            "Requirement already satisfied: ml-dtypes~=0.2.0 in /usr/local/lib/python3.10/dist-packages (from tensorflow~=2.15.0->tf-models-official>=2.5.1->object-detection==0.1) (0.2.0)\n",
            "Requirement already satisfied: opt-einsum>=2.3.2 in /usr/local/lib/python3.10/dist-packages (from tensorflow~=2.15.0->tf-models-official>=2.5.1->object-detection==0.1) (3.3.0)\n",
            "Requirement already satisfied: setuptools in /usr/local/lib/python3.10/dist-packages (from tensorflow~=2.15.0->tf-models-official>=2.5.1->object-detection==0.1) (67.7.2)\n",
            "Requirement already satisfied: termcolor>=1.1.0 in /usr/local/lib/python3.10/dist-packages (from tensorflow~=2.15.0->tf-models-official>=2.5.1->object-detection==0.1) (2.3.0)\n",
            "Requirement already satisfied: wrapt<1.15,>=1.11.0 in /usr/local/lib/python3.10/dist-packages (from tensorflow~=2.15.0->tf-models-official>=2.5.1->object-detection==0.1) (1.14.1)\n",
            "Collecting tensorboard<2.16,>=2.15 (from tensorflow~=2.15.0->tf-models-official>=2.5.1->object-detection==0.1)\n",
            "  Downloading tensorboard-2.15.1-py3-none-any.whl (5.5 MB)\n",
            "\u001b[2K     \u001b[90m━━━━━━━━━━━━━━━━━━━━━━━━━━━━━━━━━━━━━━━━\u001b[0m \u001b[32m5.5/5.5 MB\u001b[0m \u001b[31m99.2 MB/s\u001b[0m eta \u001b[36m0:00:00\u001b[0m\n",
            "\u001b[?25hCollecting tensorflow-estimator<2.16,>=2.15.0 (from tensorflow~=2.15.0->tf-models-official>=2.5.1->object-detection==0.1)\n",
            "  Downloading tensorflow_estimator-2.15.0-py2.py3-none-any.whl (441 kB)\n",
            "\u001b[2K     \u001b[90m━━━━━━━━━━━━━━━━━━━━━━━━━━━━━━━━━━━━━━━━\u001b[0m \u001b[32m442.0/442.0 kB\u001b[0m \u001b[31m44.3 MB/s\u001b[0m eta \u001b[36m0:00:00\u001b[0m\n",
            "\u001b[?25hCollecting keras (from object-detection==0.1)\n",
            "  Downloading keras-2.15.0-py3-none-any.whl (1.7 MB)\n",
            "\u001b[2K     \u001b[90m━━━━━━━━━━━━━━━━━━━━━━━━━━━━━━━━━━━━━━━━\u001b[0m \u001b[32m1.7/1.7 MB\u001b[0m \u001b[31m42.0 MB/s\u001b[0m eta \u001b[36m0:00:00\u001b[0m\n",
            "\u001b[?25hRequirement already satisfied: dm-tree~=0.1.1 in /usr/local/lib/python3.10/dist-packages (from tensorflow-model-optimization>=0.4.1->tf-models-official>=2.5.1->object-detection==0.1) (0.1.8)\n",
            "Requirement already satisfied: pyasn1>=0.1.7 in /usr/local/lib/python3.10/dist-packages (from oauth2client->tf-models-official>=2.5.1->object-detection==0.1) (0.5.0)\n",
            "Requirement already satisfied: pyasn1-modules>=0.0.5 in /usr/local/lib/python3.10/dist-packages (from oauth2client->tf-models-official>=2.5.1->object-detection==0.1) (0.3.0)\n",
            "Requirement already satisfied: rsa>=3.1.4 in /usr/local/lib/python3.10/dist-packages (from oauth2client->tf-models-official>=2.5.1->object-detection==0.1) (4.9)\n",
            "Requirement already satisfied: scikit-learn>=0.21.3 in /usr/local/lib/python3.10/dist-packages (from seqeval->tf-models-official>=2.5.1->object-detection==0.1) (1.2.2)\n",
            "Requirement already satisfied: array-record in /usr/local/lib/python3.10/dist-packages (from tensorflow-datasets->tf-models-official>=2.5.1->object-detection==0.1) (0.5.0)\n",
            "Requirement already satisfied: click in /usr/local/lib/python3.10/dist-packages (from tensorflow-datasets->tf-models-official>=2.5.1->object-detection==0.1) (8.1.7)\n",
            "Requirement already satisfied: etils[enp,epath,etree]>=0.9.0 in /usr/local/lib/python3.10/dist-packages (from tensorflow-datasets->tf-models-official>=2.5.1->object-detection==0.1) (1.5.2)\n",
            "Requirement already satisfied: promise in /usr/local/lib/python3.10/dist-packages (from tensorflow-datasets->tf-models-official>=2.5.1->object-detection==0.1) (2.3)\n",
            "Requirement already satisfied: tensorflow-metadata in /usr/local/lib/python3.10/dist-packages (from tensorflow-datasets->tf-models-official>=2.5.1->object-detection==0.1) (1.14.0)\n",
            "Requirement already satisfied: toml in /usr/local/lib/python3.10/dist-packages (from tensorflow-datasets->tf-models-official>=2.5.1->object-detection==0.1) (0.10.2)\n",
            "Requirement already satisfied: wheel<1.0,>=0.23.0 in /usr/local/lib/python3.10/dist-packages (from astunparse>=1.6.0->tensorflow~=2.15.0->tf-models-official>=2.5.1->object-detection==0.1) (0.41.3)\n",
            "Requirement already satisfied: fsspec in /usr/local/lib/python3.10/dist-packages (from etils[enp,epath,etree]>=0.9.0->tensorflow-datasets->tf-models-official>=2.5.1->object-detection==0.1) (2023.6.0)\n",
            "Requirement already satisfied: importlib_resources in /usr/local/lib/python3.10/dist-packages (from etils[enp,epath,etree]>=0.9.0->tensorflow-datasets->tf-models-official>=2.5.1->object-detection==0.1) (6.1.1)\n",
            "Requirement already satisfied: zipp in /usr/local/lib/python3.10/dist-packages (from etils[enp,epath,etree]>=0.9.0->tensorflow-datasets->tf-models-official>=2.5.1->object-detection==0.1) (3.17.0)\n",
            "Requirement already satisfied: googleapis-common-protos<2.0.dev0,>=1.56.2 in /usr/local/lib/python3.10/dist-packages (from google-api-core!=2.0.*,!=2.1.*,!=2.2.*,!=2.3.0,<3.0.0dev,>=1.31.5->google-api-python-client>=1.6.7->tf-models-official>=2.5.1->object-detection==0.1) (1.61.0)\n",
            "Requirement already satisfied: cachetools<6.0,>=2.0.0 in /usr/local/lib/python3.10/dist-packages (from google-auth<3.0.0dev,>=1.19.0->google-api-python-client>=1.6.7->tf-models-official>=2.5.1->object-detection==0.1) (5.3.2)\n",
            "Requirement already satisfied: joblib>=1.1.1 in /usr/local/lib/python3.10/dist-packages (from scikit-learn>=0.21.3->seqeval->tf-models-official>=2.5.1->object-detection==0.1) (1.3.2)\n",
            "Requirement already satisfied: threadpoolctl>=2.0.0 in /usr/local/lib/python3.10/dist-packages (from scikit-learn>=0.21.3->seqeval->tf-models-official>=2.5.1->object-detection==0.1) (3.2.0)\n",
            "Requirement already satisfied: google-auth-oauthlib<2,>=0.5 in /usr/local/lib/python3.10/dist-packages (from tensorboard<2.16,>=2.15->tensorflow~=2.15.0->tf-models-official>=2.5.1->object-detection==0.1) (1.0.0)\n",
            "Requirement already satisfied: markdown>=2.6.8 in /usr/local/lib/python3.10/dist-packages (from tensorboard<2.16,>=2.15->tensorflow~=2.15.0->tf-models-official>=2.5.1->object-detection==0.1) (3.5.1)\n",
            "Requirement already satisfied: tensorboard-data-server<0.8.0,>=0.7.0 in /usr/local/lib/python3.10/dist-packages (from tensorboard<2.16,>=2.15->tensorflow~=2.15.0->tf-models-official>=2.5.1->object-detection==0.1) (0.7.2)\n",
            "Requirement already satisfied: werkzeug>=1.0.1 in /usr/local/lib/python3.10/dist-packages (from tensorboard<2.16,>=2.15->tensorflow~=2.15.0->tf-models-official>=2.5.1->object-detection==0.1) (3.0.1)\n",
            "Requirement already satisfied: webencodings in /usr/local/lib/python3.10/dist-packages (from bleach->kaggle>=1.3.9->tf-models-official>=2.5.1->object-detection==0.1) (0.5.1)\n",
            "Requirement already satisfied: text-unidecode>=1.3 in /usr/local/lib/python3.10/dist-packages (from python-slugify->kaggle>=1.3.9->tf-models-official>=2.5.1->object-detection==0.1) (1.3)\n",
            "Requirement already satisfied: requests-oauthlib>=0.7.0 in /usr/local/lib/python3.10/dist-packages (from google-auth-oauthlib<2,>=0.5->tensorboard<2.16,>=2.15->tensorflow~=2.15.0->tf-models-official>=2.5.1->object-detection==0.1) (1.3.1)\n",
            "Requirement already satisfied: MarkupSafe>=2.1.1 in /usr/local/lib/python3.10/dist-packages (from werkzeug>=1.0.1->tensorboard<2.16,>=2.15->tensorflow~=2.15.0->tf-models-official>=2.5.1->object-detection==0.1) (2.1.3)\n",
            "Requirement already satisfied: oauthlib>=3.0.0 in /usr/local/lib/python3.10/dist-packages (from requests-oauthlib>=0.7.0->google-auth-oauthlib<2,>=0.5->tensorboard<2.16,>=2.15->tensorflow~=2.15.0->tf-models-official>=2.5.1->object-detection==0.1) (3.2.2)\n",
            "Building wheels for collected packages: object-detection, avro-python3, crcmod, dill, hdfs, seqeval, pyjsparser, docopt\n",
            "  Building wheel for object-detection (setup.py) ... \u001b[?25l\u001b[?25hdone\n",
            "  Created wheel for object-detection: filename=object_detection-0.1-py3-none-any.whl size=1697354 sha256=6a30a3040e8b099883cbed8125b1b3036d4c8787c98ef65583d273543e85fd3c\n",
            "  Stored in directory: /tmp/pip-ephem-wheel-cache-t9r1favd/wheels/fb/c9/43/709f88e66b36649c7a29812ca4f6236f31caed949aabc3e335\n",
            "  Building wheel for avro-python3 (setup.py) ... \u001b[?25l\u001b[?25hdone\n",
            "  Created wheel for avro-python3: filename=avro_python3-1.10.2-py3-none-any.whl size=43993 sha256=a52092489d0e5beb7b08b191f9e514c3ae5b10d86aa1d71e89f34701495af921\n",
            "  Stored in directory: /root/.cache/pip/wheels/bc/85/62/6cdd81c56f923946b401cecff38055b94c9b766927f7d8ca82\n",
            "  Building wheel for crcmod (setup.py) ... \u001b[?25l\u001b[?25hdone\n",
            "  Created wheel for crcmod: filename=crcmod-1.7-cp310-cp310-linux_x86_64.whl size=31409 sha256=ba77dbb894089ccabf4d73edb0a3ec8c20eec93376211db744ae85fd0926ee85\n",
            "  Stored in directory: /root/.cache/pip/wheels/85/4c/07/72215c529bd59d67e3dac29711d7aba1b692f543c808ba9e86\n",
            "  Building wheel for dill (setup.py) ... \u001b[?25l\u001b[?25hdone\n",
            "  Created wheel for dill: filename=dill-0.3.1.1-py3-none-any.whl size=78542 sha256=d95dc0e4881f73932916180391a97a2d31bb520614f7288a053687f203cc6750\n",
            "  Stored in directory: /root/.cache/pip/wheels/ea/e2/86/64980d90e297e7bf2ce588c2b96e818f5399c515c4bb8a7e4f\n",
            "  Building wheel for hdfs (setup.py) ... \u001b[?25l\u001b[?25hdone\n",
            "  Created wheel for hdfs: filename=hdfs-2.7.3-py3-none-any.whl size=34325 sha256=1928cc46be7fcd3f86be3619ee6104ffafca1f68635e1f8c074ffffee1a94a0e\n",
            "  Stored in directory: /root/.cache/pip/wheels/e5/8d/b6/99c1c0a3ac5788c866b0ecd3f48b0134a5910e6ed26011800b\n",
            "  Building wheel for seqeval (setup.py) ... \u001b[?25l\u001b[?25hdone\n",
            "  Created wheel for seqeval: filename=seqeval-1.2.2-py3-none-any.whl size=16161 sha256=a413111be2efdc70710cd255cf47d81e95550ead7c91d2968a2fbdf3ad06d877\n",
            "  Stored in directory: /root/.cache/pip/wheels/1a/67/4a/ad4082dd7dfc30f2abfe4d80a2ed5926a506eb8a972b4767fa\n",
            "  Building wheel for pyjsparser (setup.py) ... \u001b[?25l\u001b[?25hdone\n",
            "  Created wheel for pyjsparser: filename=pyjsparser-2.7.1-py3-none-any.whl size=25985 sha256=c25f51bcd3dda1c5eed2db774291b8fba6274a891be572e17ea2554b53bc00c6\n",
            "  Stored in directory: /root/.cache/pip/wheels/5e/81/26/5956478df303e2bf5a85a5df595bb307bd25948a4bab69f7c7\n",
            "  Building wheel for docopt (setup.py) ... \u001b[?25l\u001b[?25hdone\n",
            "  Created wheel for docopt: filename=docopt-0.6.2-py2.py3-none-any.whl size=13706 sha256=cc6ddce2c5242fd6abe5a43be012bbdf08ee2e2ec8778ef7bc0018f4972e9e89\n",
            "  Stored in directory: /root/.cache/pip/wheels/fc/ab/d4/5da2067ac95b36618c629a5f93f809425700506f72c9732fac\n",
            "Successfully built object-detection avro-python3 crcmod dill hdfs seqeval pyjsparser docopt\n",
            "Installing collected packages: sentencepiece, pyjsparser, docopt, crcmod, zstandard, tensorflow-model-optimization, tensorflow_io, tensorflow-estimator, pyparsing, portalocker, orjson, objsize, keras, js2py, immutabledict, fasteners, fastavro, dnspython, dill, colorama, avro-python3, sacrebleu, pymongo, hdfs, seqeval, lvis, apache-beam, tensorboard, tensorflow, tensorflow-text, tf-models-official, object-detection\n",
            "  Attempting uninstall: tensorflow-estimator\n",
            "    Found existing installation: tensorflow-estimator 2.14.0\n",
            "    Uninstalling tensorflow-estimator-2.14.0:\n",
            "      Successfully uninstalled tensorflow-estimator-2.14.0\n",
            "  Attempting uninstall: pyparsing\n",
            "    Found existing installation: pyparsing 3.1.1\n",
            "    Uninstalling pyparsing-3.1.1:\n",
            "      Successfully uninstalled pyparsing-3.1.1\n",
            "  Attempting uninstall: keras\n",
            "    Found existing installation: keras 2.14.0\n",
            "    Uninstalling keras-2.14.0:\n",
            "      Successfully uninstalled keras-2.14.0\n",
            "  Attempting uninstall: tensorboard\n",
            "    Found existing installation: tensorboard 2.14.1\n",
            "    Uninstalling tensorboard-2.14.1:\n",
            "      Successfully uninstalled tensorboard-2.14.1\n",
            "  Attempting uninstall: tensorflow\n",
            "    Found existing installation: tensorflow 2.14.0\n",
            "    Uninstalling tensorflow-2.14.0:\n",
            "      Successfully uninstalled tensorflow-2.14.0\n"
          ]
        }
      ],
      "source": [
        "#Converts .protoc files into readable .py format\n",
        "!apt-get install protobuf-compiler\n",
        "!cd Tensorflow/models/research && protoc object_detection/protos/*.proto --python_out=. && cp object_detection/packages/tf2/setup.py . && python -m pip install ."
      ]
    },
    {
      "cell_type": "code",
      "source": [
        "#This seems to be the necessary version of tensorflow (doesn't seem to work with tensorflow==2.14.0)\n",
        "!pip install tensorflow==2.13.0"
      ],
      "metadata": {
        "id": "dF5Ei6QzGGJl"
      },
      "execution_count": null,
      "outputs": []
    },
    {
      "cell_type": "code",
      "execution_count": null,
      "metadata": {
        "scrolled": true,
        "id": "5kPfJLfRCydF"
      },
      "outputs": [],
      "source": [
        "VERIFICATION_SCRIPT = os.path.join(folderpaths['APIMODEL_PATH'], 'research', 'object_detection', 'builders', 'model_builder_tf2_test.py')\n",
        "# verify if the installation has worked\n",
        "!python {VERIFICATION_SCRIPT}"
      ]
    },
    {
      "cell_type": "code",
      "execution_count": null,
      "metadata": {
        "id": "Wf1uctD4CydJ"
      },
      "outputs": [],
      "source": [
        "import object_detection"
      ]
    },
    {
      "cell_type": "code",
      "execution_count": null,
      "metadata": {
        "id": "csofht2npfDE"
      },
      "outputs": [],
      "source": [
        "#This downloads the actual model you plan to use from TF2 model zoo and moves it\n",
        "!wget {PRETRAINED_MODEL_URL}\n",
        "!mv {PRETRAINED_MODEL_NAME+'.tar.gz'} {folderpaths['PRETRAINED_MODEL_PATH']}\n",
        "!cd {folderpaths['PRETRAINED_MODEL_PATH']} && tar -zxvf {PRETRAINED_MODEL_NAME+'.tar.gz'}"
      ]
    },
    {
      "cell_type": "markdown",
      "metadata": {
        "id": "M5KJTnkfpfDC"
      },
      "source": [
        "# 4. Create Label Mapping"
      ]
    },
    {
      "cell_type": "code",
      "execution_count": null,
      "metadata": {
        "id": "p1BVDWo7pfDC"
      },
      "outputs": [],
      "source": [
        "#The machine will class objects as numbers, so we introduce label mapping to map those numbers back to recognisable names of our distinct object groups\n",
        "labels = [{'name':'Aircraft', 'id':1},{'name':'Non-Aircraft', 'id':2}]\n",
        "with open(files['LABELMAP'], 'w') as f:\n",
        "    for label in labels:\n",
        "        f.write('item { \\n')\n",
        "        f.write('\\tname:\\'{}\\'\\n'.format(label['name']))\n",
        "        f.write('\\tid:{}\\n'.format(label['id']))\n",
        "        f.write('}\\n')"
      ]
    },
    {
      "cell_type": "markdown",
      "metadata": {
        "id": "C88zyVELpfDC"
      },
      "source": [
        "#5. Create TF records files"
      ]
    },
    {
      "cell_type": "code",
      "execution_count": null,
      "metadata": {
        "id": "KWpb_BVUpfDD"
      },
      "outputs": [],
      "source": [
        "if not os.path.exists(files['TF_RECORD_SCRIPT']):\n",
        "    !git clone https://github.com/nicknochnack/GenerateTFRecord {folderpaths['SCRIPTS_PATH']}"
      ]
    },
    {
      "cell_type": "code",
      "execution_count": null,
      "metadata": {
        "id": "UPFToGZqpfDD"
      },
      "outputs": [],
      "source": [
        "#This code converts our xml annotations into a machine readable TFRecord file format\n",
        "!python {files['TF_RECORD_SCRIPT']} -x {os.path.join(folderpaths['IMAGE_PATH'], 'train')} -l {files['LABELMAP']} -o {os.path.join(folderpaths['ANNOTATION_PATH'], 'train.record')}\n",
        "!python {files['TF_RECORD_SCRIPT']} -x {os.path.join(folderpaths['IMAGE_PATH'], 'test')} -l {files['LABELMAP']} -o {os.path.join(folderpaths['ANNOTATION_PATH'], 'test.record')}"
      ]
    },
    {
      "cell_type": "markdown",
      "metadata": {
        "id": "qT4QU7pLpfDE"
      },
      "source": [
        "# 6. Copy Model Configuration File to Training Folder"
      ]
    },
    {
      "cell_type": "code",
      "execution_count": null,
      "metadata": {
        "id": "cOjuTFbwpfDF"
      },
      "outputs": [],
      "source": [
        "!cp {os.path.join(folderpaths['PRETRAINED_MODEL_PATH'], PRETRAINED_MODEL_NAME, 'pipeline.config')} {os.path.join(folderpaths['CHECKPOINT_PATH'])}"
      ]
    },
    {
      "cell_type": "markdown",
      "metadata": {
        "id": "Ga8gpNslpfDF"
      },
      "source": [
        "# 7. Update Config For Transfer Learning"
      ]
    },
    {
      "cell_type": "markdown",
      "source": [
        "This section is where we adjust hyperparameters of our model either to configure the model to simply work on our input data, or to optimise it for best performance."
      ],
      "metadata": {
        "id": "6luxwrR0Fy43"
      }
    },
    {
      "cell_type": "code",
      "execution_count": null,
      "metadata": {
        "id": "Z9hRrO_ppfDF"
      },
      "outputs": [],
      "source": [
        "\n",
        "import tensorflow as tf\n",
        "from object_detection.utils import config_util\n",
        "from object_detection.protos import pipeline_pb2\n",
        "from google.protobuf import text_format"
      ]
    },
    {
      "cell_type": "code",
      "execution_count": null,
      "metadata": {
        "id": "c2A0mn4ipfDF"
      },
      "outputs": [],
      "source": [
        "config = config_util.get_configs_from_pipeline_file(files['PIPELINE_CONFIG'])"
      ]
    },
    {
      "cell_type": "code",
      "execution_count": null,
      "metadata": {
        "id": "9vK5lotDpfDF"
      },
      "outputs": [],
      "source": [
        "pipeline_config = pipeline_pb2.TrainEvalPipelineConfig()\n",
        "with tf.io.gfile.GFile(files['PIPELINE_CONFIG'], \"r\") as f:\n",
        "    proto_str = f.read()\n",
        "    text_format.Merge(proto_str, pipeline_config)"
      ]
    },
    {
      "cell_type": "code",
      "execution_count": null,
      "metadata": {
        "id": "rP43Ph0JpfDG"
      },
      "outputs": [],
      "source": [
        "pipeline_config.train_config.batch_size = 16\n",
        "pipeline_config.train_config.fine_tune_checkpoint = os.path.join(folderpaths['PRETRAINED_MODEL_PATH'], PRETRAINED_MODEL_NAME, 'checkpoint', 'ckpt-0')\n",
        "pipeline_config.train_config.fine_tune_checkpoint_type = \"detection\"\n",
        "pipeline_config.train_input_reader.label_map_path= files['LABELMAP']\n",
        "pipeline_config.train_input_reader.tf_record_input_reader.input_path[:] = [os.path.join(folderpaths['ANNOTATION_PATH'], 'train.record')]\n",
        "pipeline_config.eval_input_reader[0].label_map_path = files['LABELMAP']\n",
        "pipeline_config.eval_input_reader[0].tf_record_input_reader.input_path[:] = [os.path.join(folderpaths['ANNOTATION_PATH'], 'test.record')]"
      ]
    },
    {
      "cell_type": "code",
      "source": [
        "#change {model_name} pipeline_config.model.{model_name}.num_classes to the name listed in the general config file\n",
        "pipeline_config.model.ssd.num_classes = len(labels)\n"
      ],
      "metadata": {
        "id": "Yw5J5ujVSoAL"
      },
      "execution_count": null,
      "outputs": []
    },
    {
      "cell_type": "code",
      "execution_count": null,
      "metadata": {
        "id": "oJvfgwWqpfDG"
      },
      "outputs": [],
      "source": [
        "config_text = text_format.MessageToString(pipeline_config)\n",
        "with tf.io.gfile.GFile(files['PIPELINE_CONFIG'], \"wb\") as f:\n",
        "    f.write(config_text)"
      ]
    },
    {
      "cell_type": "code",
      "source": [
        "config = config_util.get_configs_from_pipeline_file(files['PIPELINE_CONFIG'])"
      ],
      "metadata": {
        "id": "3ENVepLAJtgL"
      },
      "execution_count": null,
      "outputs": []
    },
    {
      "cell_type": "code",
      "source": [
        "config"
      ],
      "metadata": {
        "id": "BIlsg1T-q7_4"
      },
      "execution_count": null,
      "outputs": []
    },
    {
      "cell_type": "markdown",
      "metadata": {
        "id": "Zr3ON7xMpfDG"
      },
      "source": [
        "#8. Train the model"
      ]
    },
    {
      "cell_type": "markdown",
      "source": [
        "We specify the number of training steps we want to have the model learn for"
      ],
      "metadata": {
        "id": "3wTKNyLHGARw"
      }
    },
    {
      "cell_type": "code",
      "execution_count": null,
      "metadata": {
        "id": "B-Y2UQmQpfDG"
      },
      "outputs": [],
      "source": [
        "TRAINING_SCRIPT = os.path.join(folderpaths['APIMODEL_PATH'], 'research', 'object_detection', 'model_main_tf2.py')"
      ]
    },
    {
      "cell_type": "code",
      "execution_count": null,
      "metadata": {
        "id": "jMP2XDfQpfDH"
      },
      "outputs": [],
      "source": [
        "command = \"python {} --model_dir={} --pipeline_config_path={} --num_train_steps=7500\".format(TRAINING_SCRIPT, folderpaths['CHECKPOINT_PATH'],files['PIPELINE_CONFIG'])"
      ]
    },
    {
      "cell_type": "code",
      "execution_count": null,
      "metadata": {
        "id": "A4OXXi-ApfDH"
      },
      "outputs": [],
      "source": [
        "print(command)"
      ]
    },
    {
      "cell_type": "code",
      "execution_count": null,
      "metadata": {
        "id": "i3ZsJR-qpfDH"
      },
      "outputs": [],
      "source": [
        "!{command}"
      ]
    },
    {
      "cell_type": "markdown",
      "metadata": {
        "id": "4_YRZu7npfDH"
      },
      "source": [
        "#9. Evaluate the Model"
      ]
    },
    {
      "cell_type": "code",
      "execution_count": null,
      "metadata": {
        "id": "80L7-fdPpfDH"
      },
      "outputs": [],
      "source": [
        "command = \"python {} --model_dir={} --pipeline_config_path={} --checkpoint_dir={}\".format(TRAINING_SCRIPT, folderpaths['CHECKPOINT_PATH'],files['PIPELINE_CONFIG'], folderpaths['CHECKPOINT_PATH'])"
      ]
    },
    {
      "cell_type": "code",
      "execution_count": null,
      "metadata": {
        "id": "lYsgEPx9pfDH"
      },
      "outputs": [],
      "source": [
        "print(command)"
      ]
    },
    {
      "cell_type": "code",
      "execution_count": null,
      "metadata": {
        "id": "lqTV2jGBpfDH"
      },
      "outputs": [],
      "source": [
        "#exit after all printed out - runs perpetually\n",
        "!{command}"
      ]
    },
    {
      "cell_type": "markdown",
      "source": [
        "## Dashboard to visualise Training and Testing results"
      ],
      "metadata": {
        "id": "Wr-Y2JdWm8l5"
      }
    },
    {
      "cell_type": "code",
      "source": [
        "%load_ext tensorboard"
      ],
      "metadata": {
        "id": "lnvTVz73h-9V"
      },
      "execution_count": null,
      "outputs": []
    },
    {
      "cell_type": "code",
      "source": [
        "%tensorboard --logdir=/content/Tensorflow/workspace/models/{CUSTOM_MODEL_NAME}/train\n"
      ],
      "metadata": {
        "id": "VVxp24GbnH41"
      },
      "execution_count": null,
      "outputs": []
    },
    {
      "cell_type": "code",
      "source": [
        "%tensorboard --logdir=/content/Tensorflow/workspace/models/{CUSTOM_MODEL_NAME}/eval --port 6008\n",
        "#/content/Tensorflow/workspace/models/inception_resnet_v2_640x640/eval"
      ],
      "metadata": {
        "id": "Sdz_EEr5nIMA"
      },
      "execution_count": null,
      "outputs": []
    },
    {
      "cell_type": "code",
      "source": [
        "{CUSTOM_MODEL_NAME}"
      ],
      "metadata": {
        "id": "zEmQBqJunIj6"
      },
      "execution_count": null,
      "outputs": []
    },
    {
      "cell_type": "markdown",
      "metadata": {
        "id": "orvRk02UpfDI"
      },
      "source": [
        "#10. Load Train Model From Checkpoint\n"
      ]
    },
    {
      "cell_type": "code",
      "execution_count": null,
      "metadata": {
        "id": "8TYk4_oIpfDI"
      },
      "outputs": [],
      "source": [
        "import os\n",
        "import tensorflow as tf\n",
        "from object_detection.utils import label_map_util\n",
        "from object_detection.utils import visualization_utils as viz_utils\n",
        "from object_detection.builders import model_builder\n",
        "from object_detection.utils import config_util"
      ]
    },
    {
      "cell_type": "code",
      "execution_count": null,
      "metadata": {
        "id": "tDnQg-cYpfDI"
      },
      "outputs": [],
      "source": [
        "# Load pipeline config and build a detection model - we can replace files['PIPELINE_CONFIG'] and folderpaths['CHECKPOINT_PATH'] and 'ckpt-3'\n",
        "\n",
        "checkpoint_number = 6  # Replace with the actual checkpoint number you want to restore\n",
        "\n",
        "checkpoint_path = os.path.join(folderpaths['CHECKPOINT_PATH'], f'ckpt-{checkpoint_number}')\n",
        "\n",
        "configs = config_util.get_configs_from_pipeline_file(files['PIPELINE_CONFIG'])\n",
        "\n",
        "detection_model = model_builder.build(model_config=configs['model'], is_training=False)\n",
        "\n",
        "# Restore checkpoint\n",
        "ckpt = tf.compat.v2.train.Checkpoint(model=detection_model)\n",
        "ckpt.restore(checkpoint_path).expect_partial()\n",
        "\n",
        "@tf.function\n",
        "def detect_fn(image):\n",
        "    image, shapes = detection_model.preprocess(image)\n",
        "    prediction_dict = detection_model.predict(image, shapes)\n",
        "    detections = detection_model.postprocess(prediction_dict, shapes)\n",
        "    return detections"
      ]
    },
    {
      "cell_type": "markdown",
      "metadata": {
        "id": "0EmsmbBZpfDI"
      },
      "source": [
        "# 11. Detect from an Image - Using the model we just loaded"
      ]
    },
    {
      "cell_type": "code",
      "execution_count": null,
      "metadata": {
        "id": "Y_MKiuZ4pfDI"
      },
      "outputs": [],
      "source": [
        "import cv2\n",
        "import numpy as np\n",
        "from matplotlib import pyplot as plt\n",
        "%matplotlib inline"
      ]
    },
    {
      "cell_type": "code",
      "execution_count": null,
      "metadata": {
        "id": "cBDbIhNapfDI"
      },
      "outputs": [],
      "source": [
        "category_index = label_map_util.create_category_index_from_labelmap(files['LABELMAP'])"
      ]
    },
    {
      "cell_type": "code",
      "source": [
        "tf.config.run_functions_eagerly(True)"
      ],
      "metadata": {
        "id": "pQpgFDSUQ2il"
      },
      "execution_count": null,
      "outputs": []
    },
    {
      "cell_type": "code",
      "source": [
        "# This cell specifies the folder with ML predictions/results that you want to visualise - and collects the filenames of the images within.\n",
        "import os\n",
        "import random\n",
        "IMAGE_PATHS = []\n",
        "# Directory path\n",
        "directory_path = \"Tensorflow/workspace/images/test\"  # Replace with your directory path\n",
        "\n",
        "# List all files in the directory that end with \".jpg\"\n",
        "jpg_files = [f for f in os.listdir(directory_path) if f.endswith(\".JPG\")]\n",
        "\n",
        "# Get the full file paths\n",
        "file_paths = [os.path.join(directory_path, file) for file in jpg_files]\n",
        "\n",
        "# Print the selected file paths\n",
        "for file_path in file_paths:\n",
        "    IMAGE_PATHS.append(file_path)\n"
      ],
      "metadata": {
        "id": "bqxvIU_ptCRQ"
      },
      "execution_count": null,
      "outputs": []
    },
    {
      "cell_type": "code",
      "source": [
        "import os\n",
        "import random\n",
        "import cv2\n",
        "import numpy as np\n",
        "import tensorflow as tf\n",
        "from object_detection.utils import visualization_utils as viz_utils\n",
        "\n",
        "# Create a directory to store annotated images\n",
        "output_dir = \"machine_annotated_images\"\n",
        "os.makedirs(output_dir, exist_ok=True)\n",
        "\n",
        "# Counter for image file naming\n",
        "image_counter = 0\n",
        "\n",
        "# List to store annotated frames\n",
        "annotated_frames = []\n",
        "\n",
        "# Loop through the image paths\n",
        "for IMAGE_PATH in IMAGE_PATHS:\n",
        "    img = cv2.imread(IMAGE_PATH)\n",
        "    image_np = np.array(img)\n",
        "\n",
        "    input_tensor = tf.convert_to_tensor(np.expand_dims(image_np, 0), dtype=tf.float32)\n",
        "    detections = detect_fn(input_tensor)\n",
        "\n",
        "    num_detections = int(detections.pop('num_detections'))\n",
        "    detections = {key: value[0, :num_detections].numpy()\n",
        "                  for key, value in detections.items()}\n",
        "    detections['num_detections'] = num_detections\n",
        "\n",
        "    # detection_classes should be ints.\n",
        "    detections['detection_classes'] = detections['detection_classes'].astype(np.int64)\n",
        "\n",
        "    label_id_offset = 1\n",
        "    image_np_with_detections = image_np.copy()\n",
        "\n",
        "    plt.xticks([])\n",
        "    plt.yticks([])\n",
        "\n",
        "    viz_utils.visualize_boxes_and_labels_on_image_array(\n",
        "        image_np_with_detections,\n",
        "        detections['detection_boxes'],\n",
        "        detections['detection_classes'] + label_id_offset,\n",
        "        detections['detection_scores'],\n",
        "        category_index,\n",
        "        use_normalized_coordinates=True,\n",
        "        max_boxes_to_draw=5,\n",
        "        min_score_thresh=0.3,  # Edit\n",
        "        agnostic_mode=False\n",
        "    )\n",
        "\n",
        "    # Append the annotated frame to the list\n",
        "    annotated_frames.append(cv2.cvtColor(image_np_with_detections, cv2.COLOR_BGR2RGB))\n",
        "\n",
        "\n",
        "\n"
      ],
      "metadata": {
        "id": "UOXi68mX2MB9"
      },
      "execution_count": null,
      "outputs": []
    },
    {
      "cell_type": "code",
      "source": [
        "# Create a directory to store annotated images\n",
        "output_dir = \"machine_annotated_images\"\n",
        "os.makedirs(output_dir, exist_ok=True)\n",
        "\n",
        "for index, annotated_frame in enumerate(annotated_frames):\n",
        "    # Save the machine annotated frame as a JPG file\n",
        "    output_image_path = os.path.join(output_dir, jpg_files[index])\n",
        "    cv2.imwrite(output_image_path, cv2.cvtColor(annotated_frame, cv2.COLOR_RGB2BGR))"
      ],
      "metadata": {
        "id": "9aQyTdBzmVKj"
      },
      "execution_count": null,
      "outputs": []
    },
    {
      "cell_type": "markdown",
      "source": [
        "#  Store outputted data/configs/records in google drive or elsewhere\n"
      ],
      "metadata": {
        "id": "_vPUEQ9AbSg1"
      }
    },
    {
      "cell_type": "code",
      "source": [
        "#Adjust below version number to represent that this is the nth time you have built a trail detection model with this model's architecture type (specified in {CUSTOM_MODEL_NAME})\n",
        "version = 3\n",
        "\n",
        "# Convert CUSTOM_MODEL_NAME to lowercase\n",
        "custom_model_name = CUSTOM_MODEL_NAME.lower()\n",
        "\n",
        "# Replace {len(train_files) + len(test_files)} with the actual value\n",
        "total_images = len(train_files) + len(test_files)  # replace with your actual values\n",
        "\n",
        "\n",
        "# Set the source and destination folders\n",
        "source_folder = f'Tensorflow/workspace/models/{custom_model_name}'\n",
        "destination_folder = f'/content/drive/MyDrive/aircraftimage/output/{custom_model_name}_version_{version}_{total_images}_images'"
      ],
      "metadata": {
        "id": "tcGmDQ0O2MgX"
      },
      "execution_count": null,
      "outputs": []
    },
    {
      "cell_type": "code",
      "source": [
        "output_video_path = f\"output_video_{custom_model_name}_version_{version}.mp4\"\n",
        "\n",
        "fps = 1\n",
        "\n",
        "image_files = [os.path.join(output_dir, jpg) for jpg in os.listdir(output_dir)]\n",
        "\n",
        "fourcc = cv2.VideoWriter_fourcc(*'mp4v')\n",
        "video_writer = cv2.VideoWriter(output_video_path, fourcc, fps, (annotated_frames[0].shape[1], annotated_frames[0].shape[0]))\n",
        "\n",
        "for image_file in image_files:\n",
        "    img = cv2.imread(image_file)\n",
        "    video_writer.write(img)\n",
        "\n",
        "video_writer.release()\n",
        "\n",
        "shutil.move(output_video_path,source_folder)"
      ],
      "metadata": {
        "id": "jKMf6Eho9LWP"
      },
      "execution_count": null,
      "outputs": []
    },
    {
      "cell_type": "code",
      "source": [
        "shutil.move('/content/machine_annotated_images',source_folder)"
      ],
      "metadata": {
        "id": "God0AmQqyvLP"
      },
      "execution_count": null,
      "outputs": []
    },
    {
      "cell_type": "code",
      "source": [
        "import os\n",
        "import shutil\n",
        "\n",
        "# Create the destination folder if it doesn't exist\n",
        "os.makedirs(destination_folder, exist_ok=True)\n",
        "\n",
        "# Copy individual files and folders from the source folder to the destination folder\n",
        "for item in os.listdir(source_folder):\n",
        "    src_item = os.path.join(source_folder, item)\n",
        "    dest_item = os.path.join(destination_folder, item)\n",
        "\n",
        "    if os.path.isdir(src_item):\n",
        "        shutil.copytree(src_item, dest_item)\n",
        "        print(f'Moved directory {src_item} to {dest_item}')\n",
        "    else:\n",
        "        shutil.copy(src_item, dest_item)\n",
        "        print(f'Moved file {src_item} to {dest_item}')\n"
      ],
      "metadata": {
        "id": "k1qc6yjv21dA"
      },
      "execution_count": null,
      "outputs": []
    },
    {
      "cell_type": "code",
      "source": [
        "# Unmount Google Drive\n",
        "#drive.flush_and_unmount()"
      ],
      "metadata": {
        "id": "KL5lbpyiHv5B"
      },
      "execution_count": null,
      "outputs": []
    },
    {
      "cell_type": "code",
      "source": [
        "\n",
        "\n",
        "#shutil.copytree('machine_annotated_images_30%', destination_folder + '/machine_annotated_images_30%')\n"
      ],
      "metadata": {
        "id": "jJf5E20P-01O"
      },
      "execution_count": null,
      "outputs": []
    },
    {
      "cell_type": "code",
      "source": [],
      "metadata": {
        "id": "RWZnJeRXClnE"
      },
      "execution_count": null,
      "outputs": []
    }
  ],
  "metadata": {
    "accelerator": "GPU",
    "colab": {
      "provenance": [],
      "gpuType": "V100",
      "machine_shape": "hm",
      "include_colab_link": true
    },
    "kernelspec": {
      "display_name": "Python 3",
      "name": "python3"
    },
    "language_info": {
      "name": "python"
    }
  },
  "nbformat": 4,
  "nbformat_minor": 0
}