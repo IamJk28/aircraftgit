{
  "nbformat": 4,
  "nbformat_minor": 0,
  "metadata": {
    "colab": {
      "provenance": [],
      "authorship_tag": "ABX9TyPLY64hZQKZrjX33naVt/UZ",
      "include_colab_link": true
    },
    "kernelspec": {
      "name": "python3",
      "display_name": "Python 3"
    },
    "language_info": {
      "name": "python"
    }
  },
  "cells": [
    {
      "cell_type": "markdown",
      "metadata": {
        "id": "view-in-github",
        "colab_type": "text"
      },
      "source": [
        "<a href=\"https://colab.research.google.com/github/IamJk28/aircraftgit/blob/main/Dashboards.ipynb\" target=\"_parent\"><img src=\"https://colab.research.google.com/assets/colab-badge.svg\" alt=\"Open In Colab\"/></a>"
      ]
    },
    {
      "cell_type": "markdown",
      "source": [
        "## Use this colab notebook to view the statistics from prior tensorflow model training/testing runs."
      ],
      "metadata": {
        "id": "3Yx443WgtLXk"
      }
    },
    {
      "cell_type": "code",
      "execution_count": 1,
      "metadata": {
        "colab": {
          "base_uri": "https://localhost:8080/"
        },
        "id": "kBh3dw3IVCdx",
        "outputId": "c04a14fb-c3fb-44d3-d7db-017cb5bdbecc"
      },
      "outputs": [
        {
          "output_type": "stream",
          "name": "stdout",
          "text": [
            "Mounted at /content/drive\n"
          ]
        }
      ],
      "source": [
        "import os\n",
        "from google.colab import drive\n",
        "drive.mount('/content/drive')"
      ]
    },
    {
      "cell_type": "code",
      "source": [
        "%load_ext tensorboard"
      ],
      "metadata": {
        "id": "82jmvHp2Vdw2"
      },
      "execution_count": 2,
      "outputs": []
    },
    {
      "cell_type": "code",
      "source": [
        "#replace the file path with the file path to the events. file that you want to evaluate (here i have uploaded a events file from MS Teams to drive/MyDrive/aircraftimage/output/events2 , replace as desired)\n",
        "tensorboard --logdir drive/MyDrive/aircraftimage/output/events2 --port 6006\n"
      ],
      "metadata": {
        "id": "LTkIj32YYApp"
      },
      "execution_count": null,
      "outputs": []
    },
    {
      "cell_type": "code",
      "source": [
        "#run this cell if you want to terminate a tensorboard session to free up the port (if needed replace \"6006\" with the name of the port you want to kill)\n",
        "!lsof -i :6006"
      ],
      "metadata": {
        "id": "vdFgpTn2Zhiw",
        "colab": {
          "base_uri": "https://localhost:8080/"
        },
        "outputId": "1b11358a-3604-42da-91a1-165efbd631e1"
      },
      "execution_count": 8,
      "outputs": [
        {
          "output_type": "stream",
          "name": "stdout",
          "text": [
            "COMMAND    PID USER   FD   TYPE DEVICE SIZE/OFF NODE NAME\n",
            "tensorboa 1404 root    7u  IPv4  53543      0t0  TCP localhost:6010 (LISTEN)\n"
          ]
        }
      ]
    },
    {
      "cell_type": "code",
      "source": [
        "#replace \"1149\" with the name of the PID displayed in the above cell output\n",
        "#this code kills the current tensorboard session, freeing up the port so you can run over tensorboards in that port\n",
        "!kill -9 1149"
      ],
      "metadata": {
        "id": "lp64BTPtZygf"
      },
      "execution_count": 10,
      "outputs": []
    },
    {
      "cell_type": "code",
      "source": [],
      "metadata": {
        "id": "poovwhEms9iB"
      },
      "execution_count": null,
      "outputs": []
    }
  ]
}